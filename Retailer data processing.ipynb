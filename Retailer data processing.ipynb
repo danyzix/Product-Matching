{
 "cells": [
  {
   "cell_type": "code",
   "execution_count": 164,
   "metadata": {},
   "outputs": [],
   "source": [
    "import sys\n",
    "import numpy as np\n",
    "import pandas as pd\n",
    "import json\n",
    "import requests\n",
    "from pandas.io.json import json_normalize\n",
    "from collections import Counter\n",
    "import collections\n",
    "import operator, pprint\n",
    "import matplotlib.pyplot as plt"
   ]
  },
  {
   "cell_type": "code",
   "execution_count": 2,
   "metadata": {
    "collapsed": true
   },
   "outputs": [],
   "source": [
    "def get_data(bulkjob):\n",
    "    url = \"https://api.diffbot.com/v3/bulk/data\"\n",
    "    querystring = {\"token\":\"39fe7306d877081d7d2afb5f3781d13f\",\"name\": bulkjob} #,\"num\":\"500\"\n",
    "    payload = \"\"\n",
    "    headers = {\n",
    "        'cache-control': \"no-cache\",\n",
    "                }\n",
    "\n",
    "    response = requests.request(\"GET\", url, data=payload, headers=headers, params=querystring)\n",
    "    return response\n",
    "    # print(response.text)"
   ]
  },
  {
   "cell_type": "code",
   "execution_count": 4,
   "metadata": {
    "collapsed": true
   },
   "outputs": [],
   "source": [
    "# fetch bulk retail data\n",
    "response1 = get_data(\"bulk1\")\n",
    "response2 = get_data(\"bulk2\")\n",
    "response3 = get_data(\"bulk3\")\n",
    "response4 = get_data(\"bulk4\")\n",
    "response5 = get_data(\"bulk5\")"
   ]
  },
  {
   "cell_type": "code",
   "execution_count": 6,
   "metadata": {
    "collapsed": true
   },
   "outputs": [],
   "source": [
    "# convert response to json list\n",
    "response1_json = response1.json()\n",
    "response2_json = response2.json()\n",
    "response3_json = response3.json()\n",
    "response4_json = response4.json()\n",
    "response5_json = response5.json()"
   ]
  },
  {
   "cell_type": "code",
   "execution_count": 10,
   "metadata": {
    "collapsed": true
   },
   "outputs": [],
   "source": [
    "# function to merge json response\n",
    "def append_list(list):\n",
    "    for row in range(len(list)):\n",
    "        complete_data.append(list[row])    "
   ]
  },
  {
   "cell_type": "code",
   "execution_count": 11,
   "metadata": {
    "collapsed": true
   },
   "outputs": [],
   "source": [
    "# append the datasets\n",
    "complete_data = response1_json.copy()\n",
    "append_list(response2_json)\n",
    "append_list(response3_json)\n",
    "append_list(response4_json)\n",
    "append_list(response5_json)"
   ]
  },
  {
   "cell_type": "code",
   "execution_count": 13,
   "metadata": {
    "collapsed": true
   },
   "outputs": [],
   "source": [
    "# save the text data in a json dump\n",
    "with open('/home/danyzix/Data/complete_json_text.txt', 'w') as json_file:  \n",
    "    temp=json.dumps(complete_data)\n",
    "    json_file.write(temp)\n",
    "json_file.close()"
   ]
  },
  {
   "cell_type": "code",
   "execution_count": 3,
   "metadata": {},
   "outputs": [],
   "source": [
    "# open the text data as a json object\n",
    "with open('/home/danyzix/Data/complete_json_text.txt') as json_file:  \n",
    "    data1 = json.load(json_file)\n",
    "json_file.close()"
   ]
  },
  {
   "cell_type": "code",
   "execution_count": 59,
   "metadata": {},
   "outputs": [],
   "source": [
    "# ad an extra column 'keys' that counts the number of columns\n",
    "for row in range(len(data1)):\n",
    "    data1[row].update({'keys': len(data1[row].keys())})"
   ]
  },
  {
   "cell_type": "code",
   "execution_count": 213,
   "metadata": {},
   "outputs": [
    {
     "data": {
      "image/png": "[encoded data removed]",
      "text/plain": [
       "<Figure size 720x288 with 1 Axes>"
      ]
     },
     "metadata": {
      "needs_background": "light"
     },
     "output_type": "display_data"
    }
   ],
   "source": [
    "# plot the number of columns per url\n",
    "key_count = []\n",
    "for row in range(len(data1)):\n",
    "    key_count.append(data1[row]['keys'])\n",
    "plt.figure(figsize=(10,4))\n",
    "plt.hist(key_count, bins=20, color='orange')\n",
    "plt.show()"
   ]
  },
  {
   "cell_type": "code",
   "execution_count": 79,
   "metadata": {},
   "outputs": [],
   "source": [
    "# Some useful functions:\n",
    "\n",
    "# get a list of unique column names\n",
    "def get_unique_columns(data):\n",
    "    columns = []\n",
    "    for row in range(len(data)):\n",
    "        for key in data[row].keys():\n",
    "            columns.append(key)\n",
    "    unique_columns = set(columns)\n",
    "    return unique_columns\n",
    "\n",
    "# count urls with a certain column present\n",
    "def count_urls_with_column(column, data):\n",
    "    count = 0\n",
    "    for row in range(len(data)):\n",
    "        if column in data[row].keys():\n",
    "            count += 1\n",
    "    return count\n",
    "\n",
    "# delete a dictinary key from a dataset\n",
    "def delete_key(key, data):\n",
    "    for row in range(len(data)):\n",
    "        if key in data1_subset[row].keys():\n",
    "            del data1_subset[row][key]\n",
    "            \n",
    "# get list of rows which has a particular column\n",
    "def get_urls_with_column(column, data):\n",
    "    urls = []\n",
    "    for row in range(len(data)):\n",
    "        if column in data[row].keys():\n",
    "            urls.append(row)\n",
    "    return urls"
   ]
  },
  {
   "cell_type": "code",
   "execution_count": 214,
   "metadata": {},
   "outputs": [
    {
     "data": {
      "text/plain": [
       "4128"
      ]
     },
     "execution_count": 214,
     "metadata": {},
     "output_type": "execute_result"
    }
   ],
   "source": [
    "# subset urls which has less than a certain number of columns to inspect\n",
    "low_keys=[]\n",
    "for row in range(len(data1)):\n",
    "    for key,value in data1[row].items():\n",
    "        if key=='keys' and value<20:\n",
    "            low_keys.append(data1[row])\n",
    "len(low_keys)"
   ]
  },
  {
   "cell_type": "code",
   "execution_count": 54,
   "metadata": {},
   "outputs": [
    {
     "name": "stdout",
     "output_type": "stream",
     "text": [
      "{'cspecs', 'text', 'diffbotUri', 'docId', 'flixProductID', 'productId', 'flixMinisiteButton4', 'productOrigin', 'pageUrl', 'lastCrawlTimeUTC', 'seedUrlHash32', 'timestamp', 'type', 'breadcrumb', 'flixMinisiteButton1', 'normalizedSpecs', 'prefixCode', 'saveAmountDetails', 'flixMinisiteButtonA', 'flixLoaderPresent', 'flixMinisiteButton2', 'flixMinisiteButtonC', 'is_boxed', 'priceRange', 'saveAmount', 'isbn', 'gburl', 'quantityPrices', 'offerPrice', 'specs', 'flixMinisiteButtonB', 'resolvedPageUrl', 'sku', 'category', 'mpn', 'brand', 'test', 'flixMinisiteButton3', 'parentUrlDocId', 'discussion', 'offerPriceDetails', 'flixHotspotPresent', 'title', 'flixMPN', 'regularPrice', 'images', 'multipleProducts', 'flixMinisitePresent', 'humanLanguage', 'flixEAN', 'flixInpagePresent', 'regularPriceDetails', 'availability', 'upc'}\n"
     ]
    }
   ],
   "source": [
    "# list of unique column names \n",
    "print(get_unique_columns(data1))"
   ]
  },
  {
   "cell_type": "code",
   "execution_count": 58,
   "metadata": {},
   "outputs": [
    {
     "data": {
      "text/plain": [
       "54"
      ]
     },
     "execution_count": 58,
     "metadata": {},
     "output_type": "execute_result"
    }
   ],
   "source": [
    "# number of unique columns\n",
    "len(get_unique_columns(data1))"
   ]
  },
  {
   "cell_type": "code",
   "execution_count": 220,
   "metadata": {},
   "outputs": [
    {
     "data": {
      "text/plain": [
       "(77535, 62530)"
      ]
     },
     "execution_count": 220,
     "metadata": {},
     "output_type": "execute_result"
    }
   ],
   "source": [
    "count_urls_with_column('pageUrl', data1_subset), count_urls_with_column('text', data1_subset)"
   ]
  },
  {
   "cell_type": "code",
   "execution_count": 61,
   "metadata": {
    "scrolled": false
   },
   "outputs": [
    {
     "data": {
      "image/png": "[encoded data removed]",
      "text/plain": [
       "<Figure size 1080x360 with 1 Axes>"
      ]
     },
     "metadata": {
      "needs_background": "light"
     },
     "output_type": "display_data"
    }
   ],
   "source": [
    "# plot the column data count in descending order\n",
    "column_count = Counter(columns)\n",
    "column_count_sorted_tuple = sorted(column_count.items(), key=lambda kv:kv[1], reverse=True) \n",
    "column_count_sorted = collections.OrderedDict(column_count_sorted_tuple)\n",
    "\n",
    "plt.figure(figsize=(15,5))\n",
    "plt.bar(column_count_sorted.keys(), column_count_sorted.values(), color='purple')\n",
    "plt.xticks(rotation=90)\n",
    "plt.show()"
   ]
  },
  {
   "cell_type": "code",
   "execution_count": 62,
   "metadata": {},
   "outputs": [],
   "source": [
    "# list of bad columns - to be ignored\n",
    "bad_columns = ['flixMinisiteButtonA','saveAmountDetails','flixMinisiteButton2','prefixCode','offerPrice','priceRange', \n",
    "               'parentUrlDocId','docId','humanLanguage','flixHotspotPresent', 'flixLoaderPresent','keys','regularPriceDetails',\n",
    "               'flixMinisiteButtonB','flixMinisitePresent','images','flixInpagePresent','lastCrawlTimeUTC','is_boxed',\n",
    "               'productOrigin','flixMinisiteButton4','flixMinisiteButton3','saveAmount','flixProductID','discussion',\n",
    "               'flixMinisiteButtonC','diffbotUri','availability','type','resolvedPageUrl','seedUrlHash32','regularPriceDetails',\n",
    "               'timestamp','flixMinisiteButton1','gburl','isbn','quantityPrices','multipleProducts','test','normalizedSpecs', \n",
    "              'offerPriceDetails','breadcrumb','regularPrice']"
   ]
  },
  {
   "cell_type": "code",
   "execution_count": 63,
   "metadata": {},
   "outputs": [
    {
     "name": "stdout",
     "output_type": "stream",
     "text": [
      "['cspecs', 'text', 'productId', 'pageUrl', 'specs', 'sku', 'category', 'mpn', 'brand', 'title', 'flixMPN', 'flixEAN', 'upc']\n"
     ]
    }
   ],
   "source": [
    "# list of columns to be used \n",
    "print([x for x in unique_columns if x not in bad_columns])"
   ]
  },
  {
   "cell_type": "code",
   "execution_count": 64,
   "metadata": {},
   "outputs": [],
   "source": [
    "# subset data with without the bad columns\n",
    "data1_subset = []\n",
    "temp = []\n",
    "for row in range(len(data1)):\n",
    "    temp = dict((key,data1[row][key]) for key in data1[row].keys() if key not in bad_columns)\n",
    "    data1_subset.append(temp)"
   ]
  },
  {
   "cell_type": "code",
   "execution_count": 65,
   "metadata": {
    "scrolled": true
   },
   "outputs": [],
   "source": [
    "# textify cspecs and add a new column with clean cspecs\n",
    "for row in range(len(data1_subset)):\n",
    "    if 'cspecs' in data1_subset[row].keys():\n",
    "        cspecs = []\n",
    "        for i in range(len(data1_subset[row]['cspecs'][0]['features'])):\n",
    "            keys = []\n",
    "            for key,value in data1_subset[row]['cspecs'][0]['features'][i].items():\n",
    "                # remove new line \\n\n",
    "                value = value.splitlines() \n",
    "                # convert list to string\n",
    "                value = \" \".join(value).strip('-')   #.replace('-','') cam be used to replace hyphens if needed \n",
    "                keys.append(value)\n",
    "            # convert list to a string and add a new line\n",
    "            text = \" \".join(keys) + '\\n'\n",
    "            cspecs.append(text)\n",
    "        cspecs = \" \".join(cspecs)\n",
    "        data1_subset[row].update({'clean_cspecs': cspecs})\n",
    "        \n",
    "# textify specs and add a new column with clean specs\n",
    "for row in range(len(data1_subset)):\n",
    "    if 'specs' in data1_subset[row].keys():\n",
    "        specs = []\n",
    "        for key,value in data1_subset[row]['specs'].items():\n",
    "            temp = (key,value)\n",
    "            temp = \" \".join(temp) + '\\n'\n",
    "            specs.append(temp)\n",
    "        specs = \" \".join(specs)\n",
    "        data1_subset[row].update({'clean_specs': specs})"
   ]
  },
  {
   "cell_type": "code",
   "execution_count": 66,
   "metadata": {},
   "outputs": [
    {
     "name": "stdout",
     "output_type": "stream",
     "text": [
      "{'title', 'clean_cspecs', 'sku', 'category', 'flixMPN', 'mpn', 'brand', 'flixEAN', 'text', 'productId', 'pageUrl', 'clean_specs', 'upc'}\n"
     ]
    }
   ],
   "source": [
    "# lets remove the specs and cspecs columns from the data\n",
    "delete_key('specs',data1_subset)\n",
    "delete_key('cspecs',data1_subset)\n",
    "print(get_unique_columns(data1_subset))"
   ]
  },
  {
   "cell_type": "code",
   "execution_count": 67,
   "metadata": {},
   "outputs": [],
   "source": [
    "# reorder the data in the follwing order of the columns\n",
    "desired_order_keys = ['title','pageUrl','category','brand','mpn','flixEAN','sku','flixMPN','upc','productId','clean_specs',\n",
    "                     'clean_cspecs','text']\n",
    "data1_subset_new = []\n",
    "for row in range(len(data1_subset)):\n",
    "    my_ordered_dict = collections.OrderedDict(data1_subset[row])\n",
    "    for key in desired_order_keys:\n",
    "        try:\n",
    "            my_ordered_dict[key] = my_ordered_dict.pop(key)\n",
    "        except KeyError: \n",
    "            pass    \n",
    "    data1_subset_new.append(my_ordered_dict) "
   ]
  },
  {
   "cell_type": "code",
   "execution_count": 68,
   "metadata": {},
   "outputs": [],
   "source": [
    "# save the text data in a json dump\n",
    "with open('/home/danyzix/Data/retail_hit_json.txt', 'w') as json_file:  \n",
    "    temp=json.dumps(data1_subset_new)\n",
    "    json_file.write(temp)\n",
    "json_file.close()"
   ]
  },
  {
   "cell_type": "code",
   "execution_count": 69,
   "metadata": {},
   "outputs": [],
   "source": [
    "# open the text data as a json object\n",
    "with open('/home/danyzix/Data/retail_hit_json.txt') as json_file:  \n",
    "    retail_hit = json.load(json_file)\n",
    "json_file.close()"
   ]
  },
  {
   "cell_type": "code",
   "execution_count": 218,
   "metadata": {},
   "outputs": [
    {
     "data": {
      "text/plain": [
       "{'50mm': '0.45', '58': 'E-58U', 'focal_length': '50mm', 'minimum_focusing_distance_m': '0.45', 'approx_weight_g': '290', 'compatible_with_extenders': 'No', 'mount_type': 'Canon EF', 'maximum_magnification_x': 'Number of Aperture Blades', 'manufacturer_warranty': '24 months', 'max_aperture': 'f/1.4', 'number_of_lens_groups': '6', '015': '8', 'number_of_aperture_blades': '8', 'minimum_aperture': '22', 'lens_cap': 'E-58U', 'number_of_lens_elements': '7', 'filter_size': '58MM'}"
      ]
     },
     "execution_count": 218,
     "metadata": {},
     "output_type": "execute_result"
    }
   ],
   "source": [
    "data1[30001]['specs']"
   ]
  },
  {
   "cell_type": "code",
   "execution_count": 71,
   "metadata": {},
   "outputs": [
    {
     "data": {
      "text/plain": [
       "OrderedDict([('title', 'RING Spotlight Cam - White'),\n",
       "             ('pageUrl',\n",
       "              'https://www.currys.co.uk/gbuk/smart-tech/smart-tech/smart-home/smart-security-and-cctv/ring-spotlight-cam-white-10169983-pdt.html'),\n",
       "             ('category', 'Jewelry & Watches'),\n",
       "             ('flixEAN', ''),\n",
       "             ('sku', '217135'),\n",
       "             ('flixMPN', '10169983'),\n",
       "             ('productId', '217135'),\n",
       "             ('clean_specs',\n",
       "              'colour White\\n box_contents - Ring Spotlight Cam - Installation hardware - Quick install guide\\n weight 1.7 kg\\n manufacturers_guarantee 1 year\\n dimensions 127 x 70 x 69 mm (H x W x D)\\n'),\n",
       "             ('clean_cspecs',\n",
       "              \"Type Smart security camera\\n Compatibility  iOS  - Android  - Windows  - MacOS\\n Compatible app Ring\\n Smart compatibility  Samsung Smart Things  - ADT Pulse  - Wink\\n Connectivity WiFi\\n Power Mains\\n 1. See, hear, and speak to anyone on your property from your phone, tablet, or PC\\n 2.  Advanced motion detection  - Create motion zones  - When motion is detected, you''ll receive an alert letting you know\\n 3. Built-in spotlights and night vision for clear video at night\\n 4. 110 decibel alarm to scare intruders away\\n 5. Plugs into mains, so no battery needed\\n Colour White\\n Box contents  Ring Spotlight Cam  - Installation hardware  - Quick install guide\\n Dimensions 127 x 70 x 69 mm (H x W x D)\\n Weight 1.7 kg\\n Manufacturer's guarantee 1 year\\n\"),\n",
       "             ('text',\n",
       "              'Monitor your home from your smartphone or tablet\\nReceive notifications when sound or movement is detected\\nRecords in Full HD 1080p\\nCompatible with iOS / Android / Windows\\nWorks with Samsung SmartThings')])"
      ]
     },
     "execution_count": 71,
     "metadata": {},
     "output_type": "execute_result"
    }
   ],
   "source": [
    "data1_subset_new[3001]"
   ]
  },
  {
   "cell_type": "code",
   "execution_count": 73,
   "metadata": {},
   "outputs": [
    {
     "name": "stdout",
     "output_type": "stream",
     "text": [
      "title : Intel Core i5-9400F Coffee Lake 6-Core 2.9 GHz &#40;4.10 GHz Turbo&#41; LGA 1151 &#40;300 Series&#41; 65W BX80684I59400F Desktop Processor Without Graphics - Newegg.com\n",
      "pageUrl : https://www.newegg.com/intel-core-i5-9th-gen-core-i5-9400f/p/N82E16819117981\n",
      "category : Computers\n",
      "sku : 16819117981\n",
      "productId : 16819117981\n",
      "clean_specs : tdp 65 W\n",
      " base_clock_speed_ghz 2.9\n",
      " integrated_processor_graphics No\n",
      " chipset 300 Series (including Z390)\n",
      " platform_pci_express_lanes Up to 40\n",
      " memory_support Two channels DDR4-26662\n",
      " intel_smart_cache 9 MB\n",
      " coresthreads 6/6\n",
      "\n",
      "clean_cspecs : Brand Intel\n",
      " Processors Type Desktop\n",
      " Series Core i5 9th Gen\n",
      " Name Core i5-9400F\n",
      " Model BX80684I59400F\n",
      " CPU Socket Type LGA 1151 (300 Series)\n",
      " Core Name Coffee Lake\n",
      " # of Cores 6-Core\n",
      " # of Threads 6\n",
      " Operating Frequency 2.9 GHz\n",
      " Max Turbo Frequency 4.1 GHz\n",
      " L3 Cache 9MB\n",
      " Manufacturing Tech 14nm\n",
      " 64-Bit Support Yes\n",
      " Hyper-Threading Support No\n",
      " Memory Types DDR4 2666\n",
      " Memory Channel 2\n",
      " Virtualization Technology Support Yes\n",
      " PCI Express Revision 3.0\n",
      " Max Number of PCI Express Lanes 16\n",
      " Thermal Design Power 65W\n",
      " Cooling Device Heatsink and fan included\n",
      "\n"
     ]
    }
   ],
   "source": [
    "for keys, values in retail_hit[-1].items():\n",
    "    print(keys,':',values)"
   ]
  },
  {
   "cell_type": "code",
   "execution_count": 197,
   "metadata": {
    "collapsed": true
   },
   "outputs": [],
   "source": [
    "# %whos"
   ]
  }
 ],
 "metadata": {
  "kernelspec": {
   "display_name": "Python 3",
   "language": "python",
   "name": "python3"
  },
  "language_info": {
   "codemirror_mode": {
    "name": "ipython",
    "version": 3
   },
   "file_extension": ".py",
   "mimetype": "text/x-python",
   "name": "python",
   "nbconvert_exporter": "python",
   "pygments_lexer": "ipython3",
   "version": "3.7.3"
  }
 },
 "nbformat": 4,
 "nbformat_minor": 2
}
