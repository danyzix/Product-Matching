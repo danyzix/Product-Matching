{
 "cells": [
  {
   "cell_type": "code",
   "execution_count": 164,
   "metadata": {},
   "outputs": [],
   "source": [
    "import sys\n",
    "import numpy as np\n",
    "import pandas as pd\n",
    "import json\n",
    "import requests\n",
    "from pandas.io.json import json_normalize\n",
    "from collections import Counter\n",
    "import collections\n",
    "import operator, pprint\n",
    "import matplotlib.pyplot as plt\n",
    "impo"
   ]
  },
  {
   "cell_type": "code",
   "execution_count": 2,
   "metadata": {
    "collapsed": true
   },
   "outputs": [],
   "source": [
    "def get_data(bulkjob):\n",
    "    url = \"https://api.diffbot.com/v3/bulk/data\"\n",
    "    querystring = {\"token\":\"39fe7306d877081d7d2afb5f3781d13f\",\"name\": bulkjob} #,\"num\":\"500\"\n",
    "    payload = \"\"\n",
    "    headers = {\n",
    "        'cache-control': \"no-cache\",\n",
    "                }\n",
    "\n",
    "    response = requests.request(\"GET\", url, data=payload, headers=headers, params=querystring)\n",
    "    return response\n",
    "    # print(response.text)"
   ]
  },
  {
   "cell_type": "code",
   "execution_count": 4,
   "metadata": {
    "collapsed": true
   },
   "outputs": [],
   "source": [
    "# fetch bulk retail data\n",
    "response1 = get_data(\"bulk1\")\n",
    "response2 = get_data(\"bulk2\")\n",
    "response3 = get_data(\"bulk3\")\n",
    "response4 = get_data(\"bulk4\")\n",
    "response5 = get_data(\"bulk5\")"
   ]
  },
  {
   "cell_type": "code",
   "execution_count": 6,
   "metadata": {
    "collapsed": true
   },
   "outputs": [],
   "source": [
    "# convert response to json list\n",
    "response1_json = response1.json()\n",
    "response2_json = response2.json()\n",
    "response3_json = response3.json()\n",
    "response4_json = response4.json()\n",
    "response5_json = response5.json()"
   ]
  },
  {
   "cell_type": "code",
   "execution_count": 10,
   "metadata": {
    "collapsed": true
   },
   "outputs": [],
   "source": [
    "# function to merge json response\n",
    "def append_list(list):\n",
    "    for row in range(len(list)):\n",
    "        complete_data.append(list[row])    "
   ]
  },
  {
   "cell_type": "code",
   "execution_count": 11,
   "metadata": {
    "collapsed": true
   },
   "outputs": [],
   "source": [
    "# append the datasets\n",
    "complete_data = response1_json.copy()\n",
    "append_list(response2_json)\n",
    "append_list(response3_json)\n",
    "append_list(response4_json)\n",
    "append_list(response5_json)"
   ]
  },
  {
   "cell_type": "code",
   "execution_count": 187,
   "metadata": {},
   "outputs": [
    {
     "data": {
      "text/plain": [
       "77537"
      ]
     },
     "execution_count": 187,
     "metadata": {},
     "output_type": "execute_result"
    }
   ],
   "source": [
    "len(complete_data)"
   ]
  },
  {
   "cell_type": "code",
   "execution_count": 13,
   "metadata": {
    "collapsed": true
   },
   "outputs": [],
   "source": [
    "# save the text data in a json dump\n",
    "with open('/home/danyzix/Data/complete_json_text.txt', 'w') as json_file:  \n",
    "    temp=json.dumps(complete_data)\n",
    "    json_file.write(temp)\n",
    "json_file.close()"
   ]
  },
  {
   "cell_type": "code",
   "execution_count": 3,
   "metadata": {},
   "outputs": [],
   "source": [
    "# open the text data as a json object\n",
    "with open('/home/danyzix/Data/complete_json_text.txt') as json_file:  \n",
    "    data1 = json.load(json_file)\n",
    "json_file.close()"
   ]
  },
  {
   "cell_type": "code",
   "execution_count": 4,
   "metadata": {},
   "outputs": [],
   "source": [
    "# ad an extra column 'keys' that counts the number of columns\n",
    "for row in range(len(data1)):\n",
    "    data1[row].update({'keys': len(data1[row].keys())})"
   ]
  },
  {
   "cell_type": "code",
   "execution_count": 195,
   "metadata": {},
   "outputs": [
    {
     "data": {
      "image/png": "[encoded data removed]",
      "text/plain": [
       "<Figure size 720x288 with 1 Axes>"
      ]
     },
     "metadata": {
      "needs_background": "light"
     },
     "output_type": "display_data"
    }
   ],
   "source": [
    "# plot the number of columns per url\n",
    "key_count = []\n",
    "for row in range(len(data1)):\n",
    "    key_count.append(data1[row]['keys'])\n",
    "plt.figure(figsize=(10,4))\n",
    "plt.hist(key_count, bins=20, color='orange')\n",
    "plt.show()"
   ]
  },
  {
   "cell_type": "code",
   "execution_count": 79,
   "metadata": {},
   "outputs": [],
   "source": [
    "# Some useful functions:\n",
    "\n",
    "# get a list of unique column names\n",
    "def get_unique_columns(data):\n",
    "    columns = []\n",
    "    for row in range(len(data)):\n",
    "        for key in data[row].keys():\n",
    "            columns.append(key)\n",
    "    unique_columns = set(columns)\n",
    "    return unique_columns\n",
    "\n",
    "# count urls with a certain column present\n",
    "def count_urls_with_column(column, data):\n",
    "    count = 0\n",
    "    for row in range(len(data)):\n",
    "        if column in data[row].keys():\n",
    "            count += 1\n",
    "    return count\n",
    "\n",
    "# delete a dictinary key from a dataset\n",
    "def delete_key(key, data):\n",
    "    for row in range(len(data)):\n",
    "        if key in data1_subset[row].keys():\n",
    "            del data1_subset[row][key]\n",
    "            \n",
    "# get list of rows which has a particular column\n",
    "def get_urls_with_column(column, data):\n",
    "    urls = []\n",
    "    for row in range(len(data)):\n",
    "        if column in data[row].keys():\n",
    "            urls.append(row)\n",
    "    return urls"
   ]
  },
  {
   "cell_type": "code",
   "execution_count": 9,
   "metadata": {},
   "outputs": [
    {
     "data": {
      "text/plain": [
       "4128"
      ]
     },
     "execution_count": 9,
     "metadata": {},
     "output_type": "execute_result"
    }
   ],
   "source": [
    "# subset urls which has less than a certain number of columns to inspect\n",
    "low_keys=[]\n",
    "for row in range(len(data1)):\n",
    "    for key,value in data1[row].items():\n",
    "        if key=='keys' and value<20:\n",
    "            low_keys.append(data1[row])\n",
    "len(low_keys)"
   ]
  },
  {
   "cell_type": "code",
   "execution_count": 82,
   "metadata": {},
   "outputs": [
    {
     "name": "stdout",
     "output_type": "stream",
     "text": [
      "{'title', 'flixMinisiteButtonB', 'gburl', 'availability', 'pageUrl', 'offerPriceDetails', 'flixHotspotPresent', 'brand', 'flixMinisitePresent', 'docId', 'timestamp', 'upc', 'saveAmountDetails', 'isbn', 'offerPrice', 'flixMinisiteButton3', 'regularPriceDetails', 'sku', 'parentUrlDocId', 'seedUrlHash32', 'lastCrawlTimeUTC', 'flixMPN', 'saveAmount', 'flixEAN', 'flixMinisiteButtonA', 'diffbotUri', 'discussion', 'flixMinisiteButton1', 'regularPrice', 'quantityPrices', 'cspecs', 'flixMinisiteButtonC', 'productId', 'type', 'humanLanguage', 'mpn', 'resolvedPageUrl', 'flixMinisiteButton4', 'flixMinisiteButton2', 'test', 'keys', 'productOrigin', 'priceRange', 'category', 'flixProductID', 'prefixCode', 'multipleProducts', 'flixLoaderPresent', 'is_boxed', 'specs', 'text', 'images', 'flixInpagePresent', 'normalizedSpecs', 'breadcrumb'}\n"
     ]
    }
   ],
   "source": [
    "# list of unique column names \n",
    "print(get_unique_columns(data1))"
   ]
  },
  {
   "cell_type": "code",
   "execution_count": 83,
   "metadata": {},
   "outputs": [
    {
     "data": {
      "text/plain": [
       "55"
      ]
     },
     "execution_count": 83,
     "metadata": {},
     "output_type": "execute_result"
    }
   ],
   "source": [
    "# number of unique columns\n",
    "len(get_unique_columns(data1))"
   ]
  },
  {
   "cell_type": "code",
   "execution_count": 196,
   "metadata": {
    "scrolled": false
   },
   "outputs": [
    {
     "data": {
      "image/png": "[encoded data removed]",
      "text/plain": [
       "<Figure size 1080x360 with 1 Axes>"
      ]
     },
     "metadata": {
      "needs_background": "light"
     },
     "output_type": "display_data"
    }
   ],
   "source": [
    "# plot the column data count in descending order\n",
    "column_count = Counter(columns)\n",
    "column_count_sorted_tuple = sorted(column_count.items(), key=lambda kv:kv[1], reverse=True) \n",
    "column_count_sorted = collections.OrderedDict(column_count_sorted_tuple)\n",
    "\n",
    "plt.figure(figsize=(15,5))\n",
    "plt.bar(column_count_sorted.keys(), column_count_sorted.values(), color='purple')\n",
    "plt.xticks(rotation=90)\n",
    "plt.show()"
   ]
  },
  {
   "cell_type": "code",
   "execution_count": 30,
   "metadata": {},
   "outputs": [],
   "source": [
    "# list of bad columns - to be ignored\n",
    "bad_columns = ['flixMinisiteButtonA','saveAmountDetails','flixMinisiteButton2','prefixCode','offerPrice','priceRange', \n",
    "               'parentUrlDocId','docId','humanLanguage','flixHotspotPresent', 'flixLoaderPresent','keys','regularPriceDetails',\n",
    "               'flixMinisiteButtonB','flixMinisitePresent','images','flixInpagePresent','lastCrawlTimeUTC','is_boxed',\n",
    "               'productOrigin','flixMinisiteButton4','flixMinisiteButton3','saveAmount','flixProductID','discussion',\n",
    "               'flixMinisiteButtonC','diffbotUri','availability','type','resolvedPageUrl','seedUrlHash32','regularPriceDetails',\n",
    "               'timestamp','flixMinisiteButton1','gburl','isbn','quantityPrices','multipleProducts','test','normalizedSpecs', \n",
    "              'offerPriceDetails','breadcrumb','regularPrice']"
   ]
  },
  {
   "cell_type": "code",
   "execution_count": 31,
   "metadata": {},
   "outputs": [
    {
     "name": "stdout",
     "output_type": "stream",
     "text": [
      "['title', 'pageUrl', 'brand', 'upc', 'sku', 'flixMPN', 'flixEAN', 'cspecs', 'productId', 'mpn', 'category', 'specs', 'text']\n"
     ]
    }
   ],
   "source": [
    "# list of columns to be used \n",
    "print([x for x in unique_columns if x not in bad_columns])"
   ]
  },
  {
   "cell_type": "code",
   "execution_count": 73,
   "metadata": {},
   "outputs": [],
   "source": [
    "# subset data with without the bad columns\n",
    "data1_subset = []\n",
    "temp = []\n",
    "for row in range(len(data1)):\n",
    "    temp = dict((key,data1[row][key]) for key in data1[row].keys() if key not in bad_columns)\n",
    "    data1_subset.append(temp)"
   ]
  },
  {
   "cell_type": "code",
   "execution_count": 74,
   "metadata": {
    "scrolled": true
   },
   "outputs": [],
   "source": [
    "# textify cspecs and add a new column with clean cspecs\n",
    "for row in range(len(data1_subset)):\n",
    "    if 'cspecs' in data1_subset[row].keys():\n",
    "        cspecs = []\n",
    "        for i in range(len(data1_subset[row]['cspecs'][0]['features'])):\n",
    "            keys = []\n",
    "            for key,value in data1_subset[row]['cspecs'][0]['features'][i].items():\n",
    "                # remove new line \\n\n",
    "                value = value.splitlines() \n",
    "                # convert list to string\n",
    "                value = \" \".join(value).strip('-')   #.replace('-','') cam be used to replace hyphens if needed \n",
    "                keys.append(value)\n",
    "            # convert list to a string and add a new line\n",
    "            text = \" \".join(keys) + '\\n'\n",
    "            cspecs.append(text)\n",
    "        cspecs = \" \".join(cspecs)\n",
    "        data1_subset[row].update({'clean_cspecs': cspecs})\n",
    "        \n",
    "# textify specs and add a new column with clean specs\n",
    "for row in range(len(data1_subset)):\n",
    "    if 'specs' in data1_subset[row].keys():\n",
    "        specs = []\n",
    "        for key,value in data1_subset[row]['specs'].items():\n",
    "            temp = (key,value)\n",
    "            temp = \" \".join(temp) + '\\n'\n",
    "            specs.append(temp)\n",
    "        specs = \" \".join(specs)\n",
    "        data1_subset[row].update({'clean_specs': specs})"
   ]
  },
  {
   "cell_type": "code",
   "execution_count": 81,
   "metadata": {},
   "outputs": [
    {
     "name": "stdout",
     "output_type": "stream",
     "text": [
      "{'clean_specs', 'flixEAN', 'title', 'pageUrl', 'category', 'clean_cspecs', 'productId', 'text', 'brand', 'mpn', 'sku', 'flixMPN', 'upc'}\n"
     ]
    }
   ],
   "source": [
    "# lets remove the specs and cspecs columns from the data\n",
    "delete_key('specs',data1_subset)\n",
    "delete_key('cspecs',data1_subset)\n",
    "print(get_unique_columns(data1_subset))"
   ]
  },
  {
   "cell_type": "code",
   "execution_count": 158,
   "metadata": {},
   "outputs": [],
   "source": [
    "# reorder the data in the follwing order of the columns\n",
    "desired_order_keys = ['title','pageUrl','category','brand','mpn','flixEAN','sku','flixMPN','upc','productId','clean_specs',\n",
    "                     'clean_cspecs','text']\n",
    "data1_subset_new = []\n",
    "for row in range(len(data1_subset)):\n",
    "    my_ordered_dict = collections.OrderedDict(data1_subset[row])\n",
    "    for key in desired_order_keys:\n",
    "        try:\n",
    "            my_ordered_dict[key] = my_ordered_dict.pop(key)\n",
    "        except KeyError: \n",
    "            pass    \n",
    "    data1_subset_new.append(my_ordered_dict) "
   ]
  },
  {
   "cell_type": "code",
   "execution_count": 200,
   "metadata": {},
   "outputs": [],
   "source": [
    "# save the text data in a json dump\n",
    "with open('/home/danyzix/Data/retail_hit_json.txt', 'w') as json_file:  \n",
    "    temp=json.dumps(data1_subset_new)\n",
    "    json_file.write(temp)\n",
    "json_file.close()"
   ]
  },
  {
   "cell_type": "code",
   "execution_count": 202,
   "metadata": {},
   "outputs": [],
   "source": [
    "# open the text data as a json object\n",
    "with open('/home/danyzix/Data/retail_hit_json.txt') as json_file:  \n",
    "    retail_hit = json.load(json_file)\n",
    "json_file.close()"
   ]
  },
  {
   "cell_type": "code",
   "execution_count": 194,
   "metadata": {},
   "outputs": [
    {
     "data": {
      "text/plain": [
       "{'50mm': '0.45', '58': 'E-58U', 'focal_length': '50mm', 'minimum_focusing_distance_m': '0.45', 'approx_weight_g': '290', 'compatible_with_extenders': 'No', 'mount_type': 'Canon EF', 'maximum_magnification_x': 'Number of Aperture Blades', 'manufacturer_warranty': '24 months', 'max_aperture': 'f/1.4', 'number_of_lens_groups': '6', '015': '8', 'number_of_aperture_blades': '8', 'minimum_aperture': '22', 'lens_cap': 'E-58U', 'number_of_lens_elements': '7', 'filter_size': '58MM'}"
      ]
     },
     "execution_count": 194,
     "metadata": {},
     "output_type": "execute_result"
    }
   ],
   "source": [
    "data1[30001]['specs']"
   ]
  },
  {
   "cell_type": "code",
   "execution_count": 203,
   "metadata": {},
   "outputs": [
    {
     "name": "stdout",
     "output_type": "stream",
     "text": [
      "title : Canon EF 50mm F1.4 USM Portrait Lens\n",
      "pageUrl : https://www.noelleeming.co.nz/shop/photography/accessories/camera-lenses/canon-c21-6261-201-ef-50mm-f1-4-usm-lens/prod11323.html\n",
      "category : Cameras\n",
      "brand : Canon\n",
      "mpn : C21-6261-201\n",
      "flixEAN : 4905524552171\n",
      "sku : 11323\n",
      "flixMPN : C21-6261-201\n",
      "productId : C21-6261-201\n",
      "clean_specs : 50mm 0.45\n",
      " 58 E-58U\n",
      " focal_length 50mm\n",
      " minimum_focusing_distance_m 0.45\n",
      " approx_weight_g 290\n",
      " compatible_with_extenders No\n",
      " mount_type Canon EF\n",
      " maximum_magnification_x Number of Aperture Blades\n",
      " manufacturer_warranty 24 months\n",
      " max_aperture f/1.4\n",
      " number_of_lens_groups 6\n",
      " 015 8\n",
      " number_of_aperture_blades 8\n",
      " minimum_aperture 22\n",
      " lens_cap E-58U\n",
      " number_of_lens_elements 7\n",
      " filter_size 58MM\n",
      "\n",
      "text : While it may be small in stature, the EF 50mm f/1.4 USM offers big results. This impressive little lens is often a favourite among photographers, offering a useful focal length and excellent image quality, all at a very affordable price. It is compact and light, yet robust enough to stand up to everyday use and because of its size, it is easy to carry and comfortable to handle. If you're looking for a lens with a fast aperture, this could the next lens you add to your kit. As a portrait photography lens, it has many remarkable attributes. Its focal length makes it ideally suited to full length body portraits and head-and-shoulders portraits, while its Micro USM motor driven autofocus and Full Time Manual focusing allow you to capture beautiful detail within your subject. Another essential feature for a portrait lens is its ability to create a smooth background blur a task the EF 50mm f/1.4 USM is well prepared for.\n",
      "Focal Length: 50mm\n",
      "Max Aperture: f/1.4\n",
      "Mount Type: Canon EF\n",
      "Filter size: 58MM\n",
      "Manufacturer Warranty: 24 months\n",
      "EF 50mm f 1 4 USM\n",
      "Discover the EF 50mm f/1.4 USM, a quality portrait lens delivering big pictures from its robust, yet compact and lightweight body.\n",
      "Focal Length\n",
      "50mm\n",
      "Max Aperture\n",
      "f/1.4\n",
      "Minimum Aperture\n",
      "22\n",
      "Minimum Focusing Distance (m)\n",
      "0.45\n",
      "Maximum Magnification (X)\n",
      "0.15\n",
      "Number of Lens Groups\n",
      "6\n",
      "Number of Lens Elements\n",
      "7\n",
      "Number of Aperture Blades\n",
      "8\n",
      "Filter size\n",
      "58\n",
      "Approx Weight (g)\n",
      "290\n",
      "Compatible with extenders\n",
      "No\n",
      "Lens Cap\n",
      "E-58U\n",
      " This content uses cookies to improve your experience. By continuing, you agree to this use. Learn More at https://flixmedia.eu/privacy-policy/\n"
     ]
    }
   ],
   "source": [
    "for keys, values in retail_hit[30001].items():\n",
    "    print(keys,':',values)"
   ]
  },
  {
   "cell_type": "code",
   "execution_count": 197,
   "metadata": {
    "collapsed": true
   },
   "outputs": [],
   "source": [
    "# %whos"
   ]
  }
 ],
 "metadata": {
  "kernelspec": {
   "display_name": "Python 3",
   "language": "python",
   "name": "python3"
  },
  "language_info": {
   "codemirror_mode": {
    "name": "ipython",
    "version": 3
   },
   "file_extension": ".py",
   "mimetype": "text/x-python",
   "name": "python",
   "nbconvert_exporter": "python",
   "pygments_lexer": "ipython3",
   "version": "3.6.8"
  }
 },
 "nbformat": 4,
 "nbformat_minor": 2
}
