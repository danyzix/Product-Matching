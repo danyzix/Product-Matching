{
 "cells": [
  {
   "cell_type": "code",
   "execution_count": 1,
   "metadata": {},
   "outputs": [],
   "source": [
    "import numpy as np\n",
    "import re, itertools, os\n",
    "import matplotlib.pyplot as plt\n",
    "import matplotlib.ticker as ticker\n",
    "%matplotlib inline\n",
    "from pandas.io.json import json_normalize\n",
    "import time\n",
    "import random, pickle\n",
    "import nltk\n",
    "from nltk.corpus import stopwords\n",
    "import ast\n",
    "import gensim, collections\n",
    "from gensim.models.doc2vec import Doc2Vec, TaggedDocument\n",
    "from operator import itemgetter\n",
    "from sklearn.feature_extraction.text import TfidfVectorizer\n",
    "from sklearn.metrics.pairwise import linear_kernel, cosine_similarity\n",
    "\n",
    "import torch\n",
    "import torch.nn as nn\n",
    "from torch import optim\n",
    "import torch.nn.functional as F\n",
    "device = torch.device(\"cuda\" if torch.cuda.is_available() else \"cpu\")"
   ]
  },
  {
   "cell_type": "code",
   "execution_count": 2,
   "metadata": {},
   "outputs": [],
   "source": [
    "# Some initilisations - please change the file_dir to your working directory to read the file\n",
    "file_dir = '/home/danyzix/Dissertation/Data'"
   ]
  },
  {
   "cell_type": "code",
   "execution_count": 3,
   "metadata": {},
   "outputs": [],
   "source": [
    "# pickling functions to save and load lists\n",
    "def pickle_save(data, name):\n",
    "    path = os.path.join(file_dir, '{}.pkl'.format(name))\n",
    "    with open(path, \"wb\") as f:\n",
    "        pickle.dump(data, f, protocol=-1)\n",
    "        f.close()\n",
    "def pickle_open(name):\n",
    "    path = os.path.join(file_dir, '{}.pkl'.format(name))\n",
    "    with open(path, \"rb\") as f:\n",
    "        data = pickle.load(f)\n",
    "        f.close()\n",
    "    return data"
   ]
  },
  {
   "cell_type": "markdown",
   "metadata": {},
   "source": [
    "This notebook is divided into three parts:\n",
    "1. Data preparation to feed the sequences to the model\n",
    "2. Model building - building the encoder-decoder model\n",
    "3. Model training\n",
    "4. Sequence generation\n",
    "5. Evaluation of the generated sequences\n",
    "\n",
    "Lets start by opening the cleaned retail-brand sequences we saved in the last step."
   ]
  },
  {
   "cell_type": "code",
   "execution_count": 4,
   "metadata": {},
   "outputs": [],
   "source": [
    "# open the clean retail-manufacturer sequence pairs\n",
    "rb_pairs3 = pickle_open('rb_pairs3')"
   ]
  },
  {
   "cell_type": "markdown",
   "metadata": {},
   "source": [
    "# Data preparation"
   ]
  },
  {
   "cell_type": "markdown",
   "metadata": {},
   "source": [
    "In the following part of the Data Preparation section, I'll be defining many functions which performs different actions to get the data ready to build a sequence to sequence generation model. Many of the functions have been borrowed from Pytorch's Chatbot tutorial page at https://pytorch.org/tutorials/beginner/chatbot_tutorial.html .\n",
    "\n",
    "I have modified the Pytorch's Chatbot Tutorial code at many parts to suit my sequence to sequence generation model."
   ]
  },
  {
   "cell_type": "code",
   "execution_count": 5,
   "metadata": {},
   "outputs": [],
   "source": [
    "# clean texts: lowercase, trim, de-dup.....\n",
    "def normalise_text(t):\n",
    "    # split into tokens by white space\n",
    "    tokens = t.split()\n",
    "    # replace a list punctuations with space from each token\n",
    "    punctuations=\"\"\"'!\"#$%&\\'()*,-/:;®™<=>?@[\\\\]^_`{|}~\"\"\"\n",
    "    table = str.maketrans(punctuations,' '*len(punctuations))\n",
    "    tokens = [w.translate(table) for w in tokens]\n",
    "    tokens = [w.lower() for w in tokens]\n",
    "    # filter out stop words\n",
    "    stop_words = set(stopwords.words('english'))\n",
    "    tokens = [w for w in tokens if not w in stop_words]\n",
    "    # reduce multiple spaces to one  \n",
    "    tokens = re.sub(' +', ' ', ' '.join(tokens)).split()\n",
    "    # remove duplicate tokens preserving the order\n",
    "    tokens = [i for n,i in enumerate(tokens) if i not in tokens[:n]]\n",
    "    # join the string to a list\n",
    "    tokens = ' '.join(tokens)\n",
    "    return tokens"
   ]
  },
  {
   "cell_type": "code",
   "execution_count": 6,
   "metadata": {},
   "outputs": [
    {
     "data": {
      "image/png": "[encoded data removed]",
      "text/plain": [
       "<Figure size 1080x360 with 2 Axes>"
      ]
     },
     "metadata": {
      "needs_background": "light"
     },
     "output_type": "display_data"
    }
   ],
   "source": [
    "# histogram to see the distribution of word counts in each text pairs\n",
    "r_text_len = []\n",
    "for i in range(len(rb_pairs3)):\n",
    "    r_text_len.append(len(rb_pairs3[i][0].split(' ')))\n",
    "b_text_len = []\n",
    "for i in range(len(rb_pairs3)):\n",
    "    b_text_len.append(len(rb_pairs3[i][1].split(' ')))\n",
    "    \n",
    "f, axs = plt.subplots(figsize=(15,5))\n",
    "plt.subplot(1,2,1)\n",
    "plt.hist(r_text_len, bins=50, color='orange')\n",
    "plt.title('retailer sequence length')\n",
    "plt.ylabel('# of sequences')\n",
    "plt.xlabel('# of words')\n",
    "plt.subplot(1,2,2)\n",
    "plt.hist(b_text_len, bins=50, range=[0, 80],color='purple')\n",
    "plt.title('manufacturer sequence length')\n",
    "plt.ylabel('# of sequences')\n",
    "plt.xlabel('# of words')\n",
    "plt.show()   "
   ]
  },
  {
   "cell_type": "markdown",
   "metadata": {},
   "source": [
    "We can see that the sequences of brands are longer than the retail and the sequence length can trimmed at 50 words."
   ]
  },
  {
   "cell_type": "code",
   "execution_count": 7,
   "metadata": {},
   "outputs": [],
   "source": [
    "# This is the vocabulary which creates three dictionaries word2index, index2word, word2count \n",
    "# Counts the total number of words in the dictionary, adds 3 additional tokens in the index2word \n",
    "PAD_token = 0  # used for padding short sentences\n",
    "SOS_token = 1  # start of sentence token\n",
    "EOS_token = 2  # end of sentence token\n",
    "\n",
    "class Vocabulary:\n",
    "    def __init__(self, name):\n",
    "        self.name = name\n",
    "        self.word2index = {}\n",
    "        self.word2count = {}\n",
    "        self.index2word = {PAD_token: 'PAD', SOS_token:'SOS', EOS_token: 'EOS'}\n",
    "        self.num_words = 3  # count SOS, EOS, PAD\n",
    "        \n",
    "    def addSentence(self, sentence):\n",
    "        for word in sentence.split(' '):\n",
    "            self.addWord(word)\n",
    "            \n",
    "    def addWord(self, word):\n",
    "        if word not in self.word2index:\n",
    "            self.word2index[word] = self.num_words\n",
    "            self.word2count[word] = 1\n",
    "            self.index2word[self.num_words] = word\n",
    "            self.num_words += 1\n",
    "        else:\n",
    "            self.word2count[word] += 1"
   ]
  },
  {
   "cell_type": "code",
   "execution_count": 8,
   "metadata": {},
   "outputs": [],
   "source": [
    "#  give the vocabulary a name\n",
    "vocab = Vocabulary('retail-brand')"
   ]
  },
  {
   "cell_type": "code",
   "execution_count": 9,
   "metadata": {},
   "outputs": [],
   "source": [
    "# function to trim sentences longer than what we decide\n",
    "MAX_LENGTH = 50\n",
    "\n",
    "def filterPair(p):\n",
    "    return len(p[0].split(' ')) < MAX_LENGTH and \\\n",
    "        len(p[1].split(' ')) < MAX_LENGTH \n",
    "\n",
    "def filterPairs(pairs):\n",
    "    return [pair for pair in pairs if filterPair(pair)]"
   ]
  },
  {
   "cell_type": "markdown",
   "metadata": {},
   "source": [
    "Now that we've defined a Class for the dictionary and a funtion to trim the sequences, lets generate the vocabulary and then divide the data into three sets: train, validation and test. \n",
    "\n",
    "I'll use the train and validation data for training and tuning the model. Once the optimal hyper-parameters are achieved, the model will be trained on the train + validation data and test on the test data."
   ]
  },
  {
   "cell_type": "code",
   "execution_count": 10,
   "metadata": {},
   "outputs": [],
   "source": [
    "# Prepare the data\n",
    "def prepareData(pairs):\n",
    "    print(\"Read {} sentence pairs\".format(len(pairs)))\n",
    "    # keep only the retail-brand pairs which both has less word length less than MAX_LENGTH\n",
    "    pairs = filterPairs(pairs)\n",
    "    print(\"Trimmed to {} sentence pairs\".format(len(pairs)))\n",
    "    for pair in pairs:\n",
    "        vocab.addSentence(pair[0])\n",
    "        vocab.addSentence(pair[1])\n",
    "    print(\"Word counts: {}\".format(vocab.num_words))\n",
    "    return vocab, pairs"
   ]
  },
  {
   "cell_type": "markdown",
   "metadata": {},
   "source": [
    "I'm adding all the words/tokens in the entire dataset to the vocabulary so that it's easier to build word embeddings during training, validation and testing. Word which are does not exist in the vicabulary will simply be ignored."
   ]
  },
  {
   "cell_type": "code",
   "execution_count": 11,
   "metadata": {},
   "outputs": [
    {
     "name": "stdout",
     "output_type": "stream",
     "text": [
      "Read 67457 sentence pairs\n",
      "Trimmed to 67278 sentence pairs\n",
      "Word counts: 70550\n"
     ]
    }
   ],
   "source": [
    "# update the two vocabularies, return a rb_pair4 list which has both retail and brand texts in pairs\n",
    "vocab, rb_pairs4 = prepareData(rb_pairs3)"
   ]
  },
  {
   "cell_type": "markdown",
   "metadata": {},
   "source": [
    "### Train - Validation - Test Data split : 60:20:20.\n",
    "I also concatenate the train and validation sets to full train the model once the validation is done."
   ]
  },
  {
   "cell_type": "code",
   "execution_count": 12,
   "metadata": {},
   "outputs": [
    {
     "data": {
      "text/plain": [
       "(40367, 13456, 13455, 67278)"
      ]
     },
     "execution_count": 12,
     "metadata": {},
     "output_type": "execute_result"
    }
   ],
   "source": [
    "# Split data into train, validation and test sets\n",
    "random.seed(5)\n",
    "rb_pairs5 = random.sample(rb_pairs4, len(rb_pairs4))\n",
    "train_pairs = rb_pairs5[:int((len(rb_pairs5)+1)*.60)] \n",
    "validation_pairs = rb_pairs5[int(len(rb_pairs5)*.60+1):int((len(rb_pairs5)+1)*.80)] \n",
    "test_pairs = rb_pairs5[int(len(rb_pairs5)*.80+1):] \n",
    "full_train_pairs = train_pairs + validation_pairs\n",
    "\n",
    "len(train_pairs), len(validation_pairs),  len(test_pairs), len(rb_pairs5)"
   ]
  },
  {
   "cell_type": "markdown",
   "metadata": {},
   "source": [
    "Next two functions are defined to retrieve word index from the dictionary, add a end of sentence token to each sequence and add a 0 padding to shorter sequences."
   ]
  },
  {
   "cell_type": "code",
   "execution_count": 13,
   "metadata": {},
   "outputs": [],
   "source": [
    "# function to obtain word index for each word in a sentence and add the EOS_token at the end of the sentence.\n",
    "# Please note that words not in the vocab will simply be ignored\n",
    "def indexesFromSentence(voc, sentence):\n",
    "    return [voc.word2index[word] for word in sentence.split(' ') if word in voc.word2index.keys()] + [EOS_token]\n",
    "\n",
    "# padding function - padds 0 at the end of each list till the maximum length of sentences and creates a transpose of the data\n",
    "def zeroPadding(l, fillvalue=0):\n",
    "    return list(itertools.zip_longest(*l, fillvalue=fillvalue))"
   ]
  },
  {
   "cell_type": "code",
   "execution_count": 15,
   "metadata": {},
   "outputs": [
    {
     "name": "stdout",
     "output_type": "stream",
     "text": [
      "lg 50pg30 50 high definition 1080p plasma tv\n",
      "[153, 49553, 481, 493, 29858, 527, 14278, 162, 2]\n",
      "samsung 343l top mount fridge stainless steel\n",
      "[3, 34332, 6588, 760, 26, 202, 30, 2]\n"
     ]
    }
   ],
   "source": [
    "# lets try the two functions above\n",
    "inp = []\n",
    "for pair in rb_pairs5[56:58]:\n",
    "    inp.append(pair[0])\n",
    "indexes = [indexesFromSentence(vocab, sentence) for sentence in inp]\n",
    "print(inp[0])\n",
    "print(indexes[0])\n",
    "print(inp[1])\n",
    "print(indexes[1])"
   ]
  },
  {
   "cell_type": "code",
   "execution_count": 16,
   "metadata": {},
   "outputs": [
    {
     "name": "stdout",
     "output_type": "stream",
     "text": [
      "9\n"
     ]
    },
    {
     "data": {
      "text/plain": [
       "[(153, 3),\n",
       " (49553, 34332),\n",
       " (481, 6588),\n",
       " (493, 760),\n",
       " (29858, 26),\n",
       " (527, 202),\n",
       " (14278, 30),\n",
       " (162, 2),\n",
       " (2, 0)]"
      ]
     },
     "execution_count": 16,
     "metadata": {},
     "output_type": "execute_result"
    }
   ],
   "source": [
    "test = zeroPadding(indexes)\n",
    "print(len(test))\n",
    "test"
   ]
  },
  {
   "cell_type": "code",
   "execution_count": 17,
   "metadata": {},
   "outputs": [],
   "source": [
    "# A binary function which will be later used to mask the paded indexes\n",
    "# It assigns a 0 to each of the 0 padded indexes\n",
    "def binaryMatrix(l, value=0):\n",
    "    m = []\n",
    "    for i, seq in enumerate(l):\n",
    "        m.append([])\n",
    "        for token in seq:\n",
    "            if token == PAD_token:\n",
    "                m[i].append(0)\n",
    "            else:\n",
    "                m[i].append(1)\n",
    "    return m"
   ]
  },
  {
   "cell_type": "code",
   "execution_count": 18,
   "metadata": {},
   "outputs": [
    {
     "data": {
      "text/plain": [
       "[[1, 1], [1, 1], [1, 1], [1, 1], [1, 1], [1, 1], [1, 1], [1, 1], [1, 0]]"
      ]
     },
     "execution_count": 18,
     "metadata": {},
     "output_type": "execute_result"
    }
   ],
   "source": [
    "binary_result = binaryMatrix(test)\n",
    "binary_result"
   ]
  },
  {
   "cell_type": "markdown",
   "metadata": {},
   "source": [
    "Next is a couple of functions to gentrate a batch of sequences for training. The following steps are performed:\n",
    "1. word indexes are retrieved from the vocabulary for the input and target sequences\n",
    "2. sequences shorter than the longest sequence in the batch for both input and target are padded with 0\n",
    "4. a tensor which has the sequence length for each sequences in each of the input and target batches is generated \n",
    "5. a mask tensor is used to mask the padded parts of the target sequence"
   ]
  },
  {
   "cell_type": "code",
   "execution_count": 19,
   "metadata": {},
   "outputs": [],
   "source": [
    "# returns padded input sequence tensor and a tensor of lengths for each of the sequences in the batch\n",
    "def inputVar(list, voc):\n",
    "    indexes_batch = [indexesFromSentence(voc, sentence) for sentence in list]\n",
    "    lengths = torch.tensor([len(indexes) for indexes in indexes_batch])\n",
    "    padList = zeroPadding(indexes_batch)  # transpose the list and pads zero\n",
    "    padvar = torch.LongTensor(padList)\n",
    "    return padvar, lengths\n",
    "\n",
    "# returns padded target sequence tensor, padding mask, and max length target\n",
    "def outputVar(list, voc):\n",
    "    indexes_batch = [indexesFromSentence(voc, sentence) for sentence in list]\n",
    "    max_target_len = max([len(indexes) for indexes in indexes_batch])\n",
    "    padList = zeroPadding(indexes_batch)   # transpose the list and pads zero\n",
    "    mask = binaryMatrix(padList)\n",
    "    mask = torch.ByteTensor(mask)          # generate the mask tensor, only for output sequence\n",
    "    padvar = torch.LongTensor(padList)\n",
    "    return padvar, mask, max_target_len\n",
    "\n",
    "# returns all items for a given batch of pairs\n",
    "def batch2TrainData(voc, pair_batch):\n",
    "    # sort the pairs only by the descending length of the input sequence\n",
    "    pair_batch.sort(key=lambda x: len(x[0].split(' ')), reverse=True)\n",
    "    input_batch, output_batch = [], []\n",
    "    for pair in pair_batch:\n",
    "        input_batch.append(pair[0])\n",
    "        output_batch.append(pair[1])\n",
    "    inp, lengths = inputVar(input_batch, voc)\n",
    "    # assert len(inp) == lengths[0]\n",
    "    output, mask, max_target_len = outputVar(output_batch, voc)\n",
    "    return inp, lengths, output, mask, max_target_len"
   ]
  },
  {
   "cell_type": "code",
   "execution_count": 22,
   "metadata": {},
   "outputs": [
    {
     "name": "stdout",
     "output_type": "stream",
     "text": [
      "input_sequence: tensor([[ 1485,   331,   199],\n",
      "        [ 1081,  4301,  1720],\n",
      "        [ 2074,  4302, 59830],\n",
      "        [  158,  1358, 58842],\n",
      "        [  306,  1359,  8840],\n",
      "        [  416,   548,   306],\n",
      "        [   63,  1360,   392],\n",
      "        [ 2075,   694, 65983],\n",
      "        [  344,   695,     2],\n",
      "        [  415,     2,     0],\n",
      "        [35241,     0,     0],\n",
      "        [    2,     0,     0]])\n",
      "input sequence lengths: tensor([12, 10,  9])\n",
      "target_sequence: tensor([[ 1485,   331,   199],\n",
      "        [ 1081,    99, 34282],\n",
      "        [ 2074,  4301,   306],\n",
      "        [  158,  4302,   392],\n",
      "        [  306,  1358, 21522],\n",
      "        [ 3694,  1359,  1720],\n",
      "        [  799,   548, 59830],\n",
      "        [  798,  8523,  8840],\n",
      "        [ 1244,     2, 64047],\n",
      "        [47100,     0,     2],\n",
      "        [47101,     0,     0],\n",
      "        [47102,     0,     0],\n",
      "        [47103,     0,     0],\n",
      "        [47104,     0,     0],\n",
      "        [    2,     0,     0]])\n",
      "mask: tensor([[1, 1, 1],\n",
      "        [1, 1, 1],\n",
      "        [1, 1, 1],\n",
      "        [1, 1, 1],\n",
      "        [1, 1, 1],\n",
      "        [1, 1, 1],\n",
      "        [1, 1, 1],\n",
      "        [1, 1, 1],\n",
      "        [1, 1, 1],\n",
      "        [1, 0, 1],\n",
      "        [1, 0, 0],\n",
      "        [1, 0, 0],\n",
      "        [1, 0, 0],\n",
      "        [1, 0, 0],\n",
      "        [1, 0, 0]], dtype=torch.uint8)\n",
      "max_target_len: 15\n"
     ]
    }
   ],
   "source": [
    "# example for validation\n",
    "small_batch_size = 3\n",
    "batches = batch2TrainData(vocab, [random.choice(rb_pairs5) for _ in range(small_batch_size)])\n",
    "input_variable, lengths, target_variable, mask, max_target_len = batches\n",
    "\n",
    "print('input_sequence:', input_variable)\n",
    "print('input sequence lengths:', lengths)\n",
    "print('target_sequence:', target_variable)\n",
    "print('mask:', mask)\n",
    "print('max_target_len:', max_target_len)"
   ]
  },
  {
   "cell_type": "markdown",
   "metadata": {},
   "source": [
    "# Building the model"
   ]
  },
  {
   "cell_type": "markdown",
   "metadata": {},
   "source": [
    "The Encoder is built using bidirectional GRUs. Each batch of the encoder returns a final hidden state and the respective outputs of each of the GRUs. Number of GRUs per batch is auto generated based on the number of timesteps which is dependent on the maximum sequence length in each batch."
   ]
  },
  {
   "cell_type": "code",
   "execution_count": 23,
   "metadata": {},
   "outputs": [],
   "source": [
    "class EncoderRNN(nn.Module):\n",
    "    def __init__(self, hidden_size, embedding, n_layers=1, dropout=0):\n",
    "        super(EncoderRNN, self).__init__()  # super is method of inheriting all of parent's class which is the nn.Module class\n",
    "        self.n_layers = n_layers\n",
    "        self.hidden_size = hidden_size\n",
    "        self.embedding = embedding\n",
    "        # initialize the GRU; the input_size and hidden_size params are both set to 'hidden_size'\n",
    "        # because our input size is a word embedding with number of features == hidden_size\n",
    "        self.gru = nn.GRU(hidden_size, hidden_size, n_layers, dropout=(0 if n_layers == 1 else dropout), bidirectional=True)\n",
    "    \n",
    "    def forward(self, input_seq, input_lengths, hidden=None):\n",
    "        # input_seq: batch of input sentences; shape=(max_length, batch_size)\n",
    "        # input_lengths: list of sentence lengths corresponding to each sentence in the batch\n",
    "        # hidden state of shape: {n_layers x num_directions, batch_size, hidden_size}\n",
    "        embedded = self.embedding(input_seq)  # convert word indexes to embeddings\n",
    "        # pack padded batch of sequences for RNN module: input_seq shape transformation (batch_size, max_length)\n",
    "        packed = torch.nn.utils.rnn.pack_padded_sequence(embedded, input_lengths)\n",
    "        # forward pass through GPU\n",
    "        outputs, hidden = self.gru(packed, hidden)\n",
    "        # unpack padding\n",
    "        outputs, _ = torch.nn.utils.rnn.pad_packed_sequence(outputs)\n",
    "        # sum bidirectional GRU outputs\n",
    "        outputs = outputs[:,:,:self.hidden_size] + outputs[:,:,self.hidden_size:]\n",
    "        # return output and final hidden state\n",
    "        return outputs, hidden\n",
    "        # outputs: the output features h_t from the last layer of the GRU, for each timestep (sum of bidirectional outputs)\n",
    "        # outputs: shape-(max_length, batch_size, hidden_size)\n",
    "        # hidden: hidden state for the last timestep, of shape-(n_layers x num_directions, batch_size, hidden_size)"
   ]
  },
  {
   "cell_type": "markdown",
   "metadata": {},
   "source": [
    "Attention mechanism in the decoder uses a dot product between encoder output and decoder output."
   ]
  },
  {
   "cell_type": "code",
   "execution_count": 24,
   "metadata": {},
   "outputs": [],
   "source": [
    "# Luang attention layer\n",
    "class Attn(torch.nn.Module):\n",
    "    def __init__(self, method, hidden_size):\n",
    "        super(Attn, self).__init__()\n",
    "        self.method = method\n",
    "        self.hidden_size = hidden_size\n",
    "        \n",
    "    def dot_score(self, hidden, encoder_output):\n",
    "        # element-wise multiply the current target decoder state with the encoder output and sum them\n",
    "        return torch.sum(hidden * encoder_output, dim=2)\n",
    "    \n",
    "    \n",
    "    def forward(self, hidden, encoder_outputs):\n",
    "        # hidden of shape: (1, batch_size, hidden_size)\n",
    "        # encoder_outputs of shape: (max_length, batch_size, hidden_size)\n",
    "        # (1, batch_size, hidden_size) * (max_length, batch_size, hidden_size) = (max_length, batch_size, hidden_size)\n",
    "                \n",
    "        # calculate the attention weights (energies)\n",
    "        # sum across the hidden_size with dim=2 in dot_score function\n",
    "        attn_energies = self.dot_score(hidden, encoder_outputs)   # (max_length, batch_size)\n",
    "        # transpose max_length and batch_size dimensions as we want to get a softmax of each batch\n",
    "        attn_energies = attn_energies.t()                         # (batch_size, max_length)\n",
    "        # return the softmax normalizes probability scores (with added dimension)\n",
    "        return F.softmax(attn_energies, dim=1).unsqueeze(1)       # (batch_size, 1, max_length)     "
   ]
  },
  {
   "cell_type": "markdown",
   "metadata": {},
   "source": [
    "The Decoder returns a softmax normalized tensor giving probabilities of each word being the correct next word in the decoded sequence."
   ]
  },
  {
   "cell_type": "code",
   "execution_count": 25,
   "metadata": {},
   "outputs": [],
   "source": [
    "class LuongAttnDecoderRNN(nn.Module):\n",
    "    def __init__(self, attn_model, embedding, hidden_size, output_size, n_layers=1, dropout=0.1):\n",
    "        super(LuongAttnDecoderRNN, self).__init__()\n",
    "        self.attn_model = attn_model\n",
    "        self.hidden_size = hidden_size\n",
    "        self.output_size = output_size\n",
    "        self.n_layers = n_layers\n",
    "        self.dropuot = dropout\n",
    "        \n",
    "        # define layers\n",
    "        self.embedding = embedding\n",
    "        self.embedding_dropout = nn.Dropout(dropout)\n",
    "        self.gru = nn.GRU(hidden_size, hidden_size, n_layers, dropout=(0 if n_layers==1 else dropout))\n",
    "        self.concat = nn.Linear(hidden_size * 2, hidden_size)\n",
    "        self.out = nn.Linear(hidden_size, output_size)\n",
    "\n",
    "        self.attn = Attn(attn_model, hidden_size)\n",
    "        \n",
    "    def forward(self, input_step, last_hidden, encoder_outputs):\n",
    "        # input step: one time step (one word) of input sequence batch; shape=(1, batch_size)\n",
    "        # last_hidden: final hidden state of encoder GRU; shape=(n_layers x num_directions, batch_size, hidden_size)\n",
    "        # encoder_outputs: encoder model's output; shape=(max_length, batch_size, hidden_size)\n",
    "        # note: we run this one step (batch of words) at a time\n",
    "        # get embedding of current input word\n",
    "        embedded = self.embedding(input_step)\n",
    "        embedded = self.embedding_dropout(embedded)\n",
    "        # forward through unidirectional GRU\n",
    "        rnn_output, hidden = self.gru(embedded, last_hidden)\n",
    "        # rnn_output of shape: (1, batch, num_directions * hidden_size)\n",
    "        # hidden of shape: (num_layers * num_directions, batch, hidden_size)\n",
    "        \n",
    "        # calculate attention weights from the current GRU output\n",
    "        attn_weights = self.attn(rnn_output, encoder_outputs)\n",
    "        # multiply attention weights to encoder outputs to get new 'weighted sum' context vector\n",
    "        # (batch_size, 1, max_length) bmm (batch multiply-matrix multiplication) with (batch_size, max_length, hidden) \n",
    "        # = (batch_size, 1, hidden)\n",
    "        context = attn_weights.bmm(encoder_outputs.transpose(0, 1))\n",
    "        # concatenate weighted context vector and GRU unit\n",
    "        rnn_output = rnn_output.squeeze(0)\n",
    "        context = context.squeeze(1)\n",
    "        concat_input = torch.cat((rnn_output, context), 1)\n",
    "        concat_output = torch.tanh(self.concat(concat_input))  # shape: (batch_size, hidden_size)\n",
    "        # predict next word using Luong eq. 6\n",
    "        output = self.out(concat_output)  # shape: (batch_size, vocab_size)\n",
    "        output = F.softmax(output, dim=1)\n",
    "        # return output and final hidden state\n",
    "        return output, hidden\n",
    "        # output: softmax normalized tensor giving probabilities of each word being the correct next word in the decoded sequence\n",
    "        # shape = (batch_size, vocab.num_words)\n",
    "        # hidden: final hidden state of GRU; shape=(n_layers x num_directions, batch_size, hidden_size)"
   ]
  },
  {
   "cell_type": "markdown",
   "metadata": {},
   "source": [
    "Taken from Pytotch documentation....\n",
    "\n",
    "Loss function:\n",
    "Since we are dealing with batches of padded sequences, we cannot simply consider all elements of the tensor when calculating loss. We define maskNLLLoss to calculate our loss based on our decoder’s output tensor, the target tensor, and a binary mask tensor describing the padding of the target tensor. This loss function calculates the average negative log likelihood of the elements that correspond to a 1 in the mask tensor."
   ]
  },
  {
   "cell_type": "code",
   "execution_count": 26,
   "metadata": {},
   "outputs": [],
   "source": [
    "def maskNLLLoss(decoder_out, target, mask):\n",
    "    nTotal = mask.sum()  # how many elements should we consider\n",
    "    target = target.view(-1, 1)\n",
    "    # decoder_out shape: (batch_size, vocab_size), target_size: (batch_size, 1)\n",
    "    gathered_tensor = torch.gather(decoder_out, 1, target)  # gather the two tensors together\n",
    "    # calculate Negative Log Likelihood loss\n",
    "    crossEntropy = -torch.log(gathered_tensor)\n",
    "    loss = crossEntropy.masked_select(mask)\n",
    "    # calculate the mean of the loss\n",
    "    loss = loss.mean()\n",
    "    loss = loss.to(device)\n",
    "    return loss, nTotal.item()"
   ]
  },
  {
   "cell_type": "markdown",
   "metadata": {},
   "source": [
    "# Model Training"
   ]
  },
  {
   "cell_type": "markdown",
   "metadata": {},
   "source": [
    "Training uses Teacher Forcing.... but could be diabled changing teacher_forcing_ratio value later"
   ]
  },
  {
   "cell_type": "code",
   "execution_count": 27,
   "metadata": {},
   "outputs": [],
   "source": [
    "def train(pairs, input_variable, lengths, target_variable, mask, max_target_len, encoder, decoder, embedding,\n",
    "          encoder_optimizer, decoder_optimizer, batch_size, clip, max_length=MAX_LENGTH):\n",
    "\n",
    "    # Zero out the gradients\n",
    "    encoder_optimizer.zero_grad()\n",
    "    decoder_optimizer.zero_grad()\n",
    "\n",
    "    # Set device options\n",
    "    input_variable = input_variable.to(device)\n",
    "    lengths = lengths.to(device)\n",
    "    target_variable = target_variable.to(device)\n",
    "    mask = mask.to(device)\n",
    "\n",
    "    # Initialize variables\n",
    "    loss = 0\n",
    "    print_losses = []\n",
    "    n_totals = 0\n",
    "\n",
    "    # Forward pass through encoder\n",
    "    encoder_outputs, encoder_hidden = encoder(input_variable, lengths)\n",
    "\n",
    "    # Create initial decoder input (start with SOS tokens for each sentence)\n",
    "    decoder_input = torch.LongTensor([[SOS_token for _ in range(batch_size)]])\n",
    "    decoder_input = decoder_input.to(device)\n",
    "\n",
    "    # Set initial decoder hidden state to the encoder's final hidden state\n",
    "    decoder_hidden = encoder_hidden[:decoder.n_layers]\n",
    "\n",
    "    # Determine if we are using teacher forcing this iteration based on teacher_forcing_ratio\n",
    "    use_teacher_forcing = True if random.random() < teacher_forcing_ratio else False\n",
    "\n",
    "    # Forward batch of sequences through decoder one time step at a time\n",
    "    if use_teacher_forcing:\n",
    "        for t in range(max_target_len):\n",
    "            decoder_output, decoder_hidden = decoder(\n",
    "                decoder_input, decoder_hidden, encoder_outputs\n",
    "            )\n",
    "            # Teacher forcing: next input is current target\n",
    "            decoder_input = target_variable[t].view(1, -1)\n",
    "            # Calculate and accumulate loss\n",
    "            mask_loss, nTotal = maskNLLLoss(decoder_output, target_variable[t], mask[t])\n",
    "            loss += mask_loss\n",
    "            print_losses.append(mask_loss.item() * nTotal)\n",
    "            n_totals += nTotal\n",
    "    else:\n",
    "        for t in range(max_target_len):\n",
    "            decoder_output, decoder_hidden = decoder(\n",
    "                decoder_input, decoder_hidden, encoder_outputs\n",
    "            )\n",
    "            # No teacher forcing: next input is decoder's own current output\n",
    "            _, topi = decoder_output.topk(1)  # selects the index with the highest softmax, shape(batch_size, 1)\n",
    "            decoder_input = torch.LongTensor([[topi[i][0] for i in range(batch_size)]])\n",
    "            decoder_input = decoder_input.to(device)\n",
    "            # Calculate and accumulate loss\n",
    "            mask_loss, nTotal = maskNLLLoss(decoder_output, target_variable[t], mask[t])\n",
    "            loss += mask_loss\n",
    "            print_losses.append(mask_loss.item() * nTotal)\n",
    "            n_totals += nTotal\n",
    "\n",
    "    # Perform backpropatation\n",
    "    if pairs == train_pairs:\n",
    "        loss.backward()\n",
    "\n",
    "    # Clip gradients: gradients are modified in place\n",
    "    _ = nn.utils.clip_grad_norm_(encoder.parameters(), clip)\n",
    "    _ = nn.utils.clip_grad_norm_(decoder.parameters(), clip)\n",
    "\n",
    "    # Adjust model weights\n",
    "    encoder_optimizer.step()\n",
    "    decoder_optimizer.step()\n",
    "\n",
    "    return sum(print_losses) / n_totals"
   ]
  },
  {
   "cell_type": "code",
   "execution_count": 40,
   "metadata": {},
   "outputs": [],
   "source": [
    "def trainIters(model_name, voc, train_pairs, validation_pairs, encoder, decoder, encoder_optimizer, decoder_optimizer, embedding, \n",
    "               encoder_n_layers, decoder_n_layers, save_dir, n_iteration, batch_size, print_every, save_every,\n",
    "               clip, corpus_name, loadFilename):\n",
    "\n",
    "    # Load batches for each iteration\n",
    "    training_batches = [batch2TrainData(voc, [random.choice(train_pairs) for _ in range(batch_size)])\n",
    "                      for _ in range(n_iteration)]\n",
    "    validation_batches = [batch2TrainData(voc, [random.choice(validation_pairs) for _ in range(batch_size)])\n",
    "                          for _ in range(n_iteration)]\n",
    "    # Initializations\n",
    "    print('Initializing ...')\n",
    "    loss_list = []\n",
    "    start_iteration = 1\n",
    "    print_train_loss = 0\n",
    "    print_validation_loss = 0\n",
    "    \n",
    "    if loadFilename:\n",
    "        start_iteration = checkpoint['iteration'] + 1\n",
    "      \n",
    "    # Training loop\n",
    "    print(\"Training...\")\n",
    "    for iteration in range(start_iteration, n_iteration + 1):\n",
    "        \n",
    "        # encoder and decoder set to train mode before training\n",
    "        encoder.train()\n",
    "        decoder.train()\n",
    "        training_batch = training_batches[iteration - 1]\n",
    "        # Extract fields from batch\n",
    "        input_variable, lengths, target_variable, mask, max_target_len = training_batch\n",
    "\n",
    "        # Run a training iteration with batch\n",
    "        train_loss = train(train_pairs, input_variable, lengths, target_variable, mask, max_target_len, encoder,\n",
    "                     decoder, embedding, encoder_optimizer, decoder_optimizer, batch_size, clip)\n",
    "        print_train_loss += train_loss\n",
    "    \n",
    "        # set encoder and decoder to eval mode for validation\n",
    "        encoder.eval()\n",
    "        decoder.eval()\n",
    "        validation_batch = validation_batches[iteration - 1]\n",
    "        # Extract fields from batch\n",
    "        input_variable, lengths, target_variable, mask, max_target_len = validation_batch\n",
    "\n",
    "        # Run a training iteration with batch\n",
    "        validation_loss = train(validation_pairs, input_variable, lengths, target_variable, mask, max_target_len, encoder,\n",
    "                     decoder, embedding, encoder_optimizer, decoder_optimizer, batch_size, clip)\n",
    "        print_validation_loss += validation_loss\n",
    "               \n",
    "\n",
    "        # Print progress\n",
    "        if iteration % print_every == 0:\n",
    "            print_loss_train_avg = print_train_loss / print_every\n",
    "            print_loss_validation_avg = print_validation_loss / print_every\n",
    "            print(\"Iteration: {}; Percent complete: {:.1f}%; Average train loss: {:.4f};  Average validation loss: {:.4f}\".format(iteration, iteration / n_iteration * 100,\n",
    "                                                                                                                                  print_loss_train_avg, print_loss_validation_avg))\n",
    "            loss_list.append([iteration, print_loss_train_avg, print_loss_validation_avg])\n",
    "            print_train_loss = 0\n",
    "            print_validation_loss = 0\n",
    "\n",
    "        # Save checkpoint\n",
    "        if (iteration % save_every == 0):   \n",
    "            directory = os.path.join(save_dir, model_name'{}-{}_{}'.format(encoder_n_layers, decoder_n_layers, hidden_size))\n",
    "            if not os.path.exists(directory):\n",
    "                os.makedirs(directory)\n",
    "            torch.save({\n",
    "                'iteration': iteration,\n",
    "                'en': encoder.state_dict(),\n",
    "                'de': decoder.state_dict(),\n",
    "                'en_opt': encoder_optimizer.state_dict(),\n",
    "                'de_opt': decoder_optimizer.state_dict(),\n",
    "                'validation_loss': validation_loss,\n",
    "                'train_loss' : train_loss,\n",
    "                'voc_dict': voc.__dict__,\n",
    "                'embedding': embedding.state_dict()\n",
    "            }, os.path.join(directory, '{}_{}_{}.tar'.format(iteration, 'checkpoint', batch_size)))\n",
    "    return loss_list"
   ]
  },
  {
   "cell_type": "markdown",
   "metadata": {},
   "source": [
    "Here is the part to choose training parameters of the model.  \n",
    "Please note, if the pre-saved model needs to be loaded then the filename structure should help in indentifying which models to load, e.g. 6000_checkpoint_32.tar saved in the 2-2_500 folder is a model trained with 6000 iterations, 32 batch_size, encoder_n_layers=2, decoder_n_layers=2, hidden_size=500.\n",
    "Based on such combinations, the model parameters can be updated to load the models below"
   ]
  },
  {
   "cell_type": "code",
   "execution_count": 28,
   "metadata": {},
   "outputs": [
    {
     "name": "stdout",
     "output_type": "stream",
     "text": [
      "Building encoder and decoder ...\n",
      "Models built and ready to go!\n"
     ]
    }
   ],
   "source": [
    "# Configure models           \n",
    "model_name = 'seq_model'\n",
    "save_dir = file_dir\n",
    "attn_model = 'dot'\n",
    "hidden_size = 500\n",
    "encoder_n_layers = 2\n",
    "decoder_n_layers = 2\n",
    "dropout = 0.5\n",
    "batch_size = 64\n",
    "\n",
    "# Set checkpoint to load from; set to None if starting from scratch\n",
    "#loadFilename = None\n",
    "checkpoint_iter = 6000 \n",
    "loadFilename = os.path.join(save_dir, model_name,\n",
    "                            '{}-{}_{}'.format(encoder_n_layers, decoder_n_layers, hidden_size),\n",
    "                            '{}_checkpoint_{}.tar'.format(checkpoint_iter, batch_size))\n",
    "\n",
    "\n",
    "# Load model if a loadFilename is provided\n",
    "if loadFilename:\n",
    "    # If loading on same machine the model was trained on\n",
    "    #checkpoint = torch.load(loadFilename)\n",
    "    # If loading a model trained on GPU to CPU\n",
    "    checkpoint = torch.load(loadFilename, map_location=torch.device('cpu'))\n",
    "    encoder_sd = checkpoint['en']\n",
    "    decoder_sd = checkpoint['de']\n",
    "    encoder_optimizer_sd = checkpoint['en_opt']\n",
    "    decoder_optimizer_sd = checkpoint['de_opt']\n",
    "    embedding_sd = checkpoint['embedding']\n",
    "    vocab.__dict__ = checkpoint['voc_dict']\n",
    "\n",
    "\n",
    "print('Building encoder and decoder ...')\n",
    "# Initialize word embeddings\n",
    "embedding = nn.Embedding(vocab.num_words, hidden_size)\n",
    "if loadFilename:\n",
    "    embedding.load_state_dict(embedding_sd)\n",
    "# Initialize encoder & decoder models\n",
    "encoder = EncoderRNN(hidden_size, embedding, encoder_n_layers, dropout)\n",
    "decoder = LuongAttnDecoderRNN(attn_model, embedding, hidden_size, vocab.num_words, decoder_n_layers, dropout)\n",
    "if loadFilename:\n",
    "    encoder.load_state_dict(encoder_sd)\n",
    "    decoder.load_state_dict(decoder_sd)\n",
    "# Use appropriate device\n",
    "encoder = encoder.to(device)\n",
    "decoder = decoder.to(device)\n",
    "print('Models built and ready to go!')"
   ]
  },
  {
   "cell_type": "markdown",
   "metadata": {},
   "source": [
    "The following block of code is to be used only for training"
   ]
  },
  {
   "cell_type": "code",
   "execution_count": 44,
   "metadata": {},
   "outputs": [
    {
     "name": "stdout",
     "output_type": "stream",
     "text": [
      "Building optimizers ...\n",
      "Starting Training!\n",
      "Initializing ...\n",
      "Training...\n",
      "5.15625\n"
     ]
    }
   ],
   "source": [
    "# Configure training/optimization\n",
    "start = time.process_time()\n",
    "clip = 50.0\n",
    "teacher_forcing_ratio = 1.0\n",
    "learning_rate = 0.0001\n",
    "decoder_learning_ratio = 5.0\n",
    "n_iteration = 4000\n",
    "print_every = 100\n",
    "save_every = 500\n",
    "\n",
    "# Ensure dropout layers are in train mode\n",
    "encoder.train()\n",
    "decoder.train()\n",
    "\n",
    "# Initialize optimizers\n",
    "print('Building optimizers ...')\n",
    "encoder_optimizer = optim.Adam(encoder.parameters(), lr=learning_rate)\n",
    "decoder_optimizer = optim.Adam(decoder.parameters(), lr=learning_rate * decoder_learning_ratio)\n",
    "if loadFilename:\n",
    "    encoder_optimizer.load_state_dict(encoder_optimizer_sd)\n",
    "    decoder_optimizer.load_state_dict(decoder_optimizer_sd)\n",
    "\n",
    "# Run training iterations\n",
    "print(\"Starting Training!\")\n",
    "loss_train = trainIters(model_name, vocab, pairs, encoder, decoder, encoder_optimizer, decoder_optimizer,\n",
    "               embedding, encoder_n_layers, decoder_n_layers, save_dir, n_iteration, batch_size,\n",
    "               print_every, save_every, clip, corpus_name, loadFilename)\n",
    "\n",
    "# save the average loss\n",
    "pickle_save(loss_train,'loss_{}_{}_{}_{}_{}'.format(mode, batch_size, hidden_size, encoder_n_layers, decoder_n_layers))\n",
    "print(time.process_time() - start)"
   ]
  },
  {
   "cell_type": "markdown",
   "metadata": {},
   "source": [
    "# Chosing the best model"
   ]
  },
  {
   "cell_type": "code",
   "execution_count": 29,
   "metadata": {},
   "outputs": [],
   "source": [
    "# open the files which has the training and validation losses\n",
    "loss_32_300_2_2 = pickle_open('loss_32_300_2_2')\n",
    "loss_32_500_2_2 = pickle_open('loss_32_500_2_2')\n",
    "loss_64_500_2_2 = pickle_open('loss_64_500_2_2')\n",
    "loss_128_500_2_2 = pickle_open('loss_128_500_2_2')\n",
    "loss_64_500_3_3 = pickle_open('loss_64_500_3_3')\n",
    "loss_64_500_4_4 = pickle_open('loss_64_500_4_4')"
   ]
  },
  {
   "cell_type": "code",
   "execution_count": 30,
   "metadata": {},
   "outputs": [],
   "source": [
    "# function to plot them together\n",
    "def train_val_loss(loss_file, model_name):\n",
    "    train_loss = [a[1] for a in loss_file]\n",
    "    val_loss = [a[2] for a in loss_file]\n",
    "    mini_iter = [a[0] for a in loss_file]\n",
    "    plt.plot(mini_iter, train_loss, label = 'train_loss')\n",
    "    plt.plot(mini_iter, val_loss, label = 'validation_loss')\n",
    "    # plt.xaxis.set_major_locator(ticker.MaxNLocator(10))\n",
    "    plt.legend(loc='upper right')\n",
    "    plt.title('{}'.format(model_name), fontsize=10)   #fontweight='bold'\n",
    "    # plt.suptitle('{}'.format(model_name), fontsize=10)\n",
    "    plt.xlabel(\"# of mini-iterations\")\n",
    "    plt.ylabel(\"Average loss\")\n",
    "    plt.tight_layout()"
   ]
  },
  {
   "cell_type": "code",
   "execution_count": 31,
   "metadata": {},
   "outputs": [
    {
     "data": {
      "image/png": "[encoded data removed]",
      "text/plain": [
       "<Figure size 720x720 with 6 Axes>"
      ]
     },
     "metadata": {
      "needs_background": "light"
     },
     "output_type": "display_data"
    }
   ],
   "source": [
    "# now the plots\n",
    "plt.figure(figsize=(10,10))\n",
    "plt.subplot(3,2,1)\n",
    "train_val_loss(loss_32_300_2_2, '2_300_32')\n",
    "plt.subplot(3,2,2)\n",
    "train_val_loss(loss_32_500_2_2, '2_500_32')\n",
    "plt.subplot(3,2,3)\n",
    "train_val_loss(loss_64_500_2_2, '2_500_64')\n",
    "plt.subplot(3,2,4)\n",
    "train_val_loss(loss_128_500_2_2, '2_500_128')\n",
    "plt.subplot(3,2,5)\n",
    "train_val_loss(loss_64_500_3_3, '3_500_64')\n",
    "plt.subplot(3,2,6)\n",
    "train_val_loss(loss_64_500_4_4, '4_500_64')"
   ]
  },
  {
   "cell_type": "code",
   "execution_count": 32,
   "metadata": {},
   "outputs": [
    {
     "data": {
      "image/png": "[encoded data removed]",
      "text/plain": [
       "<Figure size 576x288 with 1 Axes>"
      ]
     },
     "metadata": {
      "needs_background": "light"
     },
     "output_type": "display_data"
    }
   ],
   "source": [
    "# comparison of all variation losses \n",
    "plt.figure(figsize=(8,4))\n",
    "plt.plot([a[0] for a in loss_32_300_2_2], [a[2] for a in loss_32_300_2_2], label = '2_300_32')\n",
    "plt.plot([a[0] for a in loss_32_500_2_2], [a[2] for a in loss_32_500_2_2], label = '2_500_32')\n",
    "plt.plot([a[0] for a in loss_64_500_2_2], [a[2] for a in loss_64_500_2_2], label = '2_500_64')\n",
    "plt.plot([a[0] for a in loss_128_500_2_2], [a[2] for a in loss_128_500_2_2], label = '2_500_128')\n",
    "plt.plot([a[0] for a in loss_64_500_3_3], [a[2] for a in loss_64_500_3_3], label = '3_500_64')\n",
    "plt.plot([a[0] for a in loss_64_500_4_4], [a[2] for a in loss_64_500_4_4], label = '4_500_64')\n",
    "plt.legend(loc='upper right')\n",
    "plt.title('validation loss comparison', fontsize=14)   #fontweight='bold'\n",
    "plt.xlabel(\"# of mini-iterations\")\n",
    "plt.ylabel(\"Average loss\")\n",
    "plt.tight_layout()"
   ]
  },
  {
   "cell_type": "markdown",
   "metadata": {},
   "source": [
    "# Sequence generation"
   ]
  },
  {
   "cell_type": "markdown",
   "metadata": {},
   "source": [
    "This is the section which generates output sequence based on the trained models above. It should be used to generate sequences from the validation and test data. Most of the functions have been borrowed from Pytorch's Chatbot tutorial page at https://pytorch.org/tutorials/beginner/chatbot_tutorial.html to which I've made some changes.\n",
    "\n",
    "\n",
    "Greedy decoding is the decoding method that we use during training when we are NOT using teacher forcing. In other words, for each time step, we simply choose the word from decoder_output with the highest softmax value. This decoding method is optimal on a single time-step level."
   ]
  },
  {
   "cell_type": "code",
   "execution_count": 64,
   "metadata": {},
   "outputs": [],
   "source": [
    "class GreedySearchDecoder(nn.Module):\n",
    "    def __init__(self, encoder, decoder):\n",
    "        super(GreedySearchDecoder, self).__init__()\n",
    "        self.encoder = encoder\n",
    "        self.decoder = decoder\n",
    "\n",
    "    def forward(self, input_seq, input_length, max_length):\n",
    "        # Forward input through encoder model\n",
    "        encoder_outputs, encoder_hidden = self.encoder(input_seq, input_length)\n",
    "        # Prepare encoder's final hidden layer to be first hidden input to the decoder\n",
    "        decoder_hidden = encoder_hidden[:decoder.n_layers]\n",
    "        # Initialize decoder input with SOS_token\n",
    "        decoder_input = torch.ones(1, 1, device=device, dtype=torch.long) * SOS_token\n",
    "        # Initialize tensors to append decoded words to\n",
    "        all_tokens = torch.zeros([0], device=device, dtype=torch.long)\n",
    "        all_scores = torch.zeros([0], device=device)\n",
    "        # Iteratively decode one word token at a time\n",
    "        for _ in range(max_length):\n",
    "            # Forward pass through decoder\n",
    "            decoder_output, decoder_hidden = self.decoder(decoder_input, decoder_hidden, encoder_outputs)\n",
    "            # Obtain most likely word token and its softmax score\n",
    "            decoder_scores, decoder_input = torch.max(decoder_output, dim=1)\n",
    "            # Record token and score\n",
    "            all_tokens = torch.cat((all_tokens, decoder_input), dim=0)\n",
    "            all_scores = torch.cat((all_scores, decoder_scores), dim=0)\n",
    "            # Prepare current token to be next decoder input (add a dimension)\n",
    "            decoder_input = torch.unsqueeze(decoder_input, 0)\n",
    "        # Return collections of word tokens and scores\n",
    "        return all_tokens, all_scores"
   ]
  },
  {
   "cell_type": "code",
   "execution_count": 65,
   "metadata": {},
   "outputs": [],
   "source": [
    "def evaluate(encoder, decoder, searcher, voc, sentence, max_length=MAX_LENGTH):\n",
    "    ### Format input sentence as a batch\n",
    "    # words -> indexes\n",
    "    indexes_batch = [indexesFromSentence(voc, sentence)]\n",
    "    # Create lengths tensor\n",
    "    lengths = torch.tensor([len(indexes) for indexes in indexes_batch])\n",
    "    # Transpose dimensions of batch to match models' expectations\n",
    "    input_batch = torch.LongTensor(indexes_batch).transpose(0, 1)\n",
    "    # Use appropriate device\n",
    "    input_batch = input_batch.to(device)\n",
    "    lengths = lengths.to(device)\n",
    "    # Decode sentence with searcher\n",
    "    tokens, scores = searcher(input_batch, lengths, max_length)\n",
    "    # indexes -> words\n",
    "    decoded_words = [voc.index2word[token.item()] for token in tokens]\n",
    "    return decoded_words\n",
    "\n",
    "def evaluateInput(encoder, decoder, searcher, voc, sentence):\n",
    "    # Normalize sentence\n",
    "    sentence = normalise_text(sentence)\n",
    "    sentence = [a for a in sentence.split() if a in vocab.word2index.keys()]\n",
    "    sentence = ' '.join(sentence)\n",
    "    # Evaluate sentence\n",
    "    output_words = evaluate(encoder, decoder, searcher, voc, sentence)\n",
    "    # Format and print response sentence\n",
    "    output_words[:] = [x for x in output_words if not (x == 'EOS' or x == 'PAD')]\n",
    "    output_words = ' '.join(output_words)\n",
    "    return(output_words)"
   ]
  },
  {
   "cell_type": "code",
   "execution_count": 66,
   "metadata": {},
   "outputs": [],
   "source": [
    "# Set dropout layers to eval mode\n",
    "encoder.eval()\n",
    "decoder.eval()\n",
    "\n",
    "# Initialize search module\n",
    "searcher = GreedySearchDecoder(encoder, decoder)"
   ]
  },
  {
   "cell_type": "code",
   "execution_count": 112,
   "metadata": {},
   "outputs": [],
   "source": [
    "# function to generate the output sequences\n",
    "def predict(pairs):\n",
    "    # get the ouput sequences for each retail text and append the right sequence\n",
    "    start = time.time()\n",
    "    predictions=[]\n",
    "    for i in range(len(pairs)):\n",
    "        output = evaluateInput(encoder, decoder, searcher, vocab, pairs[i][0])\n",
    "        predictions.append([output, pairs[i][1]])\n",
    "        if i%500 == 0:\n",
    "          print('processed {} pairs in {}'.format(i+1, time.time()-start))\n",
    "    print('finished predicting')\n",
    "    return predictions"
   ]
  },
  {
   "cell_type": "markdown",
   "metadata": {},
   "source": [
    "### Time to start generating the sequences from the trained model."
   ]
  },
  {
   "cell_type": "code",
   "execution_count": 38,
   "metadata": {},
   "outputs": [],
   "source": [
    "# choose which data set to use for sequence generation\n",
    "# it should be either 'test' or 'validation' to choose the righ dataset\n",
    "mode = 'test'\n",
    "pairs = train_pairs if mode == 'train' else validation_pairs if mode == 'validation' else test_pairs if mode == 'test' else full_train_pairs\n",
    "len(pairs)\n",
    "\n",
    "# start generaing the predicted sequences......\n",
    "predictions = predict(pairs)\n",
    "\n",
    "# save the predictions - give a new name.....\n",
    "pickle_save(predictions, 'predictions_{}_{}_{}_{}_{}'.format(mode, batch_size, hidden_size, encoder_n_layers, decoder_n_layers))"
   ]
  },
  {
   "cell_type": "markdown",
   "metadata": {},
   "source": [
    "# EVALUATION\n"
   ]
  },
  {
   "cell_type": "markdown",
   "metadata": {},
   "source": [
    "The evaluation process will test the quality of the sequences generated by the above model. In this project I'll be using two techniques for the evaluation process. In both the methods, I'll be comparing cosine similarity of each of the generated sequences with each of the brand brand-text sequence and test if the brand-text sequence with the highest score has the same product_id as the initial input retail-brand mapping product_id.\n",
    "\n",
    "1. TFIDF method\n",
    "2. Doc2Vec method"
   ]
  },
  {
   "cell_type": "code",
   "execution_count": 39,
   "metadata": {},
   "outputs": [],
   "source": [
    "# function to get unique texts and update a Counter from a list\n",
    "def get_unique_texts(data, row):\n",
    "    temp_text = []\n",
    "    for i in range(len(data)):\n",
    "        temp_text.append(data[i][row])\n",
    "    counter = collections.Counter(temp_text)               # add a counter to count the frequency of texts in the brand texts\n",
    "    unique_text = list(set(temp_text))                     # form a set of unique texts for the data\n",
    "    return counter, unique_text  "
   ]
  },
  {
   "cell_type": "markdown",
   "metadata": {},
   "source": [
    "### Choose the dataset to evaluate. "
   ]
  },
  {
   "cell_type": "code",
   "execution_count": 40,
   "metadata": {},
   "outputs": [
    {
     "name": "stdout",
     "output_type": "stream",
     "text": [
      "Choose a dataset to evaluate from -- validation / testtest\n",
      "datset chosen: test\n"
     ]
    }
   ],
   "source": [
    "mode = input(\"Choose a dataset to evaluate from -- validation / test\")\n",
    "print('datset chosen: {}'.format(mode))"
   ]
  },
  {
   "cell_type": "code",
   "execution_count": 41,
   "metadata": {},
   "outputs": [
    {
     "name": "stdout",
     "output_type": "stream",
     "text": [
      "row in evaluation_pairs: 13455\n"
     ]
    }
   ],
   "source": [
    "# assign the right dataset to evaluate\n",
    "evaluation_pairs = train_pairs if mode == 'train' else validation_pairs if mode == 'validation' \\\n",
    "                    else test_pairs if mode == 'test' else print('choose wrong data chosen')\n",
    "print('row in evaluation_pairs: {}'.format(len(evaluation_pairs)))"
   ]
  },
  {
   "cell_type": "markdown",
   "metadata": {},
   "source": [
    "### Load the pre-genrated sequences from the models.\n",
    "It's important to load the right file depending on the dataset of evaluation mode chosen above.\n",
    "The generated sequence files are all in the Data folder and they start with the name 'predictions_'\n",
    "1. Validation data evaluation --> only sequences with the 'validation' in name\n",
    "2. Test data evaluation --> only sequences with the 'test' in name"
   ]
  },
  {
   "cell_type": "code",
   "execution_count": 42,
   "metadata": {},
   "outputs": [
    {
     "name": "stdout",
     "output_type": "stream",
     "text": [
      "13455 generated sequences have only 9753 unique sequences\n"
     ]
    }
   ],
   "source": [
    "# open the generated sequences file to evaluate\n",
    "prediction_pairs = pickle_open('predictions_test_64_500_3_3')\n",
    "\n",
    "# get the unique texts from the predictions\n",
    "prediction_counter, unique_predictions = get_unique_texts(prediction_pairs, 0)\n",
    "\n",
    "print('{} generated sequences have only {} unique sequences'.format(len(prediction_pairs), len(unique_predictions)))"
   ]
  },
  {
   "cell_type": "code",
   "execution_count": 43,
   "metadata": {},
   "outputs": [
    {
     "data": {
      "text/plain": [
       "(24645,\n",
       " ['lg electronics 32 class qhd led ips monitor radeon freesync 31.5 diagonal 32qk500w',\n",
       "  1531971])"
      ]
     },
     "execution_count": 43,
     "metadata": {},
     "output_type": "execute_result"
    }
   ],
   "source": [
    "# open the unique_brand_text_product_mapping file \n",
    "# this the manfacturer sequence-productID mapping file that I saved in the Data Preparation notbook\n",
    "text_product_map = pickle_open('unique_brand_text_product_mapping')\n",
    "len(text_product_map), text_product_map[1]"
   ]
  },
  {
   "cell_type": "code",
   "execution_count": 44,
   "metadata": {},
   "outputs": [
    {
     "name": "stdout",
     "output_type": "stream",
     "text": [
      "retailer_seqeunce :lg 284 l frost free double door 3 star refrigerator shiny steel gl t302rpzu\n",
      "manufacturer_seqeunce :lg electronics 284 litres dual fridge inverter linear compressor door cooling+ smart diagnosis auto connect gl t302rpzu glt302rpzu\n",
      "generated_seqeunce :lg electronics 284 litres frost free refrigerator inverter linear compressor door cooling+ smart diagnosis auto connect gl t402jalu glt302rsou\n",
      "product id : 1368140\n",
      "-----------------------------------------------------\n",
      "retailer_seqeunce :canon ixus 185 compact camera red + ultra plus class 10 sdhc memory card 16 gb\n",
      "manufacturer_seqeunce :canon ixus 185 1803c009 1803c001aa 1803c001\n",
      "generated_seqeunce :canon ixus 185 1803c009 1803c001 1803c001aa\n",
      "product id : 1159376\n",
      "-----------------------------------------------------\n",
      "retailer_seqeunce :neff n17hh20n0b warming drawer stainless steel\n",
      "manufacturer_seqeunce :neff n17hh20n0b\n",
      "generated_seqeunce :neff n17hh10n0b\n",
      "product id : 1415496\n",
      "-----------------------------------------------------\n",
      "retailer_seqeunce :hoover wdxoc 485a 8 kg washer dryer white\n",
      "manufacturer_seqeunce :hoover dynamic next wdxoc485a\n",
      "generated_seqeunce :hoover dynamic next wdxoc686acb\n",
      "product id : 1295623\n",
      "-----------------------------------------------------\n",
      "retailer_seqeunce :6bp65ea abu\n",
      "manufacturer_seqeunce :hp 250 g7 notebook pc 6bp65ea\n",
      "generated_seqeunce :hp 250 iii g5 notebook pc 3qm23ea\n",
      "product id : 1556311\n",
      "-----------------------------------------------------\n"
     ]
    }
   ],
   "source": [
    "# Lets look at some generated sequencesompare it to the training pairs\n",
    "for i in range(0,5):\n",
    "    j = random.randint(0,len(evaluation_pairs))\n",
    "    print('retailer_seqeunce :{}'.format(evaluation_pairs[j][0]))\n",
    "    print('manufacturer_seqeunce :{}'.format(evaluation_pairs[j][1]))\n",
    "    print('generated_seqeunce :{}'.format(prediction_pairs[j][0]))\n",
    "    print('product id : {}'.format(evaluation_pairs[j][2]))\n",
    "    print('-----------------------------------------------------')"
   ]
  },
  {
   "cell_type": "code",
   "execution_count": 45,
   "metadata": {},
   "outputs": [
    {
     "data": {
      "text/plain": [
       "(9753, 24645, 34398)"
      ]
     },
     "execution_count": 45,
     "metadata": {},
     "output_type": "execute_result"
    }
   ],
   "source": [
    "# form an evaluation corpus from unique_predictions + texts from text_product_map\n",
    "# only unique seqeunces from the generated file and manufacturer product sequences are used to form the evaluation corpus\n",
    "eval_corpus = unique_predictions.copy()\n",
    "for i in range(len(text_product_map)):\n",
    "    eval_corpus.append(text_product_map[i][0])\n",
    "    \n",
    "# verify the data\n",
    "len(unique_predictions), len(text_product_map), len(eval_corpus)"
   ]
  },
  {
   "cell_type": "markdown",
   "metadata": {},
   "source": [
    "# TF-IDF Evaluation"
   ]
  },
  {
   "cell_type": "markdown",
   "metadata": {},
   "source": [
    "This is the first part of the evaluation process. It does the following actions.\n",
    "1. Creates a TFIDF_Box which stores all the necessary information which with top 4 similary manufactuerer sequences based ranked cosine similairty index. The number of similar sequences returned could be changed.\n",
    "2. Next the accuracy of the evaluated data is calculated by comparing if the top ranked similar sequence has the same productID as the initial retail-manufaturer sequence.\n",
    "3. An information Retreivel system is designed to return the top 4 manufacturer sequnece along with their productIDs and cosine simlarity scores"
   ]
  },
  {
   "cell_type": "code",
   "execution_count": 46,
   "metadata": {},
   "outputs": [],
   "source": [
    "# TFIDF_Box to store all cosine similarity scores of the prediction vs brand_texts\n",
    "def TFIDF_Box(corpus):\n",
    "    tfidf_vectorizer = TfidfVectorizer(analyzer='word', ngram_range=(1,3), min_df = 0)\n",
    "    tfidf_matrix =  tfidf_vectorizer.fit_transform(corpus)\n",
    "    # build the box to store all TF-IDF cosine similarity values\n",
    "    start = time.time()\n",
    "    print('number of rows to be processed: {}'.format(len(unique_predictions)))\n",
    "    TFIDF_box = []\n",
    "    for i in range(len(unique_predictions)):\n",
    "        cosine_similarities = linear_kernel(tfidf_matrix[i], tfidf_matrix[len(unique_predictions):]).flatten()\n",
    "        related_docs_indices = cosine_similarities.argsort()[:-5:-1]\n",
    "        related_products = [text_product_map[a][1] for a in related_docs_indices]\n",
    "        cosine_similarities = cosine_similarities[related_docs_indices]\n",
    "        TFIDF_box.append([unique_predictions[i], related_products, cosine_similarities, related_docs_indices ])\n",
    "        if i%5000==0:\n",
    "            print('processed {} products, time elapsed:{} seconds'.format(i+1, (time.time() - start)))\n",
    "    print('complete')\n",
    "    return TFIDF_box"
   ]
  },
  {
   "cell_type": "code",
   "execution_count": 47,
   "metadata": {},
   "outputs": [],
   "source": [
    "# calculate accuracy and store correct and wrong predictions\n",
    "def accuracy_calcluator(model_box, pred_pairs, lookup_pairs):\n",
    "    n_correct_predictions = 0\n",
    "    correct_predictions = []\n",
    "    wrong_predictions = []\n",
    "    for i in range(len(pred_pairs)):\n",
    "        predicted_product = [a[1][0] for a in model_box if a[0] == pred_pairs[i][0]][0]\n",
    "        if predicted_product == lookup_pairs[i][2]:            \n",
    "            correct_predictions.append([i, lookup_pairs[i][0], lookup_pairs[i][1],\n",
    "                                        pred_pairs[i][0], predicted_product, lookup_pairs[i][2]])\n",
    "        else:\n",
    "            wrong_predictions.append([i, lookup_pairs[i][0], lookup_pairs[i][1],\n",
    "                                        pred_pairs[i][0], predicted_product, lookup_pairs[i][2]])\n",
    "            \n",
    "    return correct_predictions, wrong_predictions"
   ]
  },
  {
   "cell_type": "code",
   "execution_count": 48,
   "metadata": {},
   "outputs": [
    {
     "name": "stdout",
     "output_type": "stream",
     "text": [
      "number of rows to be processed: 9753\n",
      "processed 1 products, time elapsed:0.032836198806762695 seconds\n",
      "processed 5001 products, time elapsed:85.8165853023529 seconds\n",
      "complete\n"
     ]
    }
   ],
   "source": [
    "# build the TFIDF_box to store all the cosine similarity values of the top 4 similar seqeunces\n",
    "# It returns the productID, cosine similarity scores and their row numbers in the manufacteurer product table\n",
    "TFIDF_box = TFIDF_Box(eval_corpus)"
   ]
  },
  {
   "cell_type": "code",
   "execution_count": 49,
   "metadata": {},
   "outputs": [
    {
     "data": {
      "text/plain": [
       "['bose soundtouch sa 5 amplifier black 7372535110',\n",
       " [1128849, 1137728, 954515, 954503],\n",
       " array([1.        , 0.72713243, 0.72713243, 0.64167517]),\n",
       " array([ 8011, 17827, 24610,  7626])]"
      ]
     },
     "execution_count": 49,
     "metadata": {},
     "output_type": "execute_result"
    }
   ],
   "source": [
    "# lets look at the contents of one item in the TFIDF_box\n",
    "TFIDF_box[0]"
   ]
  },
  {
   "cell_type": "markdown",
   "metadata": {},
   "source": [
    "### This is where accuracy is calculated"
   ]
  },
  {
   "cell_type": "code",
   "execution_count": 52,
   "metadata": {},
   "outputs": [
    {
     "name": "stdout",
     "output_type": "stream",
     "text": [
      "accuracy: 32.66%\n"
     ]
    }
   ],
   "source": [
    "# separate the right and wrong predictions for the prediction and calculate the accuracy\n",
    "tfidf_overall_CP, tfidf_overall_WP = accuracy_calcluator(TFIDF_box, prediction_pairs, evaluation_pairs)\n",
    "print('accuracy: {0:.2f}%'.format(int(len(tfidf_overall_CP))/int(len(prediction_pairs))*100))"
   ]
  },
  {
   "cell_type": "markdown",
   "metadata": {},
   "source": [
    "## The Information Retrieval system"
   ]
  },
  {
   "cell_type": "code",
   "execution_count": 50,
   "metadata": {},
   "outputs": [],
   "source": [
    "# information retrieval - retrieves the most relevant products based on a text search\n",
    "# It returns 4 sequences but can be customised. \n",
    "# Each matched sequence is returned with its productID and cosine similarity score\n",
    "def retrieve_product(model_box, result, index, number=4):\n",
    "    # print('input pairs index: {}'.format(result[index][0]))\n",
    "    print('retailer sequence: {}'.format(result[index][1]))\n",
    "    print('manufacturer sequence : {}, {}'.format(result[index][2],result[index][5]))\n",
    "    print('generated sequence: {}'.format(result[index][3]))\n",
    "    temp_list = [a for a in model_box if a[0] == result[index][3]]\n",
    "    print('matched products:')\n",
    "    for i in range(number):\n",
    "        product = text_product_map[temp_list[0][3][i]]\n",
    "        cosine_score = round(temp_list[0][2][i],4)\n",
    "        print('{}: {}'.format(product, cosine_score))"
   ]
  },
  {
   "cell_type": "code",
   "execution_count": 53,
   "metadata": {},
   "outputs": [
    {
     "name": "stdout",
     "output_type": "stream",
     "text": [
      "retailer sequence: wd passport mac usb c 2tb portable hard drive wdblpg0020bbk wese\n",
      "manufacturer sequence : western digital passport mac new wdbp6a0020bbkuesn wdbp6a0020bbkeesn wdbp6a0020bbk wdbp6a0020bbkwesn, 1129907\n",
      "generated sequence: western digital passport mac cable wdblpg0020bbkwese\n",
      "matched products:\n",
      "['western digital passport mac cable wdblpg0020bbkwese', 1318270]: 1.0\n",
      "['western digital passport mac cable wdbp6a0040bbkwese', 1318272]: 0.6507\n",
      "['western digital passport mac cable wdbfkf0010bbkwese', 1318269]: 0.6507\n",
      "['western digital passport mac cable wdbp6a0030bbkwese', 1318271]: 0.6418\n",
      "----------------------------------------------\n",
      "retailer sequence: lg tone pro 770 bluetooth wireless stereo headset white 60 5990 05 xp\n",
      "manufacturer sequence : lg electronics tone pro wireless stereo headset hbs 770 white hbs770, 1101743\n",
      "generated sequence: lg electronics tone pro bluetooth stereo headset hbs 770 powder red hbs770\n",
      "matched products:\n",
      "['lg electronics tone pro wireless stereo headset hbs 770 powder blue hbs770powderblue', 1311731]: 0.5466\n",
      "['lg electronics tone pro wireless stereo headset hbs 770 black hbs770', 1101757]: 0.4848\n",
      "['lg electronics tone pro wireless stereo headset hbs 770 white hbs770', 1101743]: 0.4785\n",
      "['lg electronics tone pro wireless stereo headset hbs 770 blue hbs770', 1101820]: 0.4774\n",
      "----------------------------------------------\n",
      "retailer sequence: samsung 75 75q6f uhd 4k smart qled tv\n",
      "manufacturer sequence : samsung 75 q6f 4k smart qled tv qa75q6fnarxmm, 1425689\n",
      "generated sequence: samsung 75 qled 4k smart tv series q7f qn55q7famfxzc\n",
      "matched products:\n",
      "['samsung 55 qled 4k smart tv series q7f qn55q7famfxzc', 1159182]: 0.7469\n",
      "['samsung 65 qled 4k smart tv series q7f qn65q7famfxzc', 1159183]: 0.5279\n",
      "['samsung 75 qled q7f 4k smart tv 2018 qa75q7fnakxxs', 1347872]: 0.3301\n",
      "['samsung 75 qled q9f 4k smart tv 2018 qa75q9fnakxxs', 1347998]: 0.2838\n",
      "----------------------------------------------\n",
      "retailer sequence: lg v30+ 128gb handset black lgh930ds.aausbk\n",
      "manufacturer sequence : lg electronics v30+ aurora black lgh930ds, 1297236\n",
      "generated sequence: lg electronics q6 pints\n",
      "matched products:\n",
      "['lg electronics q6 lgm700dsk', 1249737]: 0.4587\n",
      "['lg electronics q6 lgm703', 1287890]: 0.4492\n",
      "['lg electronics q6 unlocked us700unlocked', 1302032]: 0.3695\n",
      "['lg electronics q6 astro black m700n lgelectronicsm700n', 1285776]: 0.2843\n",
      "----------------------------------------------\n",
      "retailer sequence: hp probook 430 g5 13.3 touch i5 8250u 8gb 256gb ssd w10p laptop\n",
      "manufacturer sequence : hp probook 430 g5 notebook pc 2wj88pa, 1280398\n",
      "generated sequence: hp probook 430 g5 notebook pc 3jx94ea\n",
      "matched products:\n",
      "['hp probook 430 g5 notebook pc 2sy05ea', 1289714]: 0.7342\n",
      "['hp probook 430 g5 notebook pc 2wj90pa', 1279995]: 0.7342\n",
      "['hp probook 430 g5 notebook pc 2sy13ea', 1289850]: 0.7342\n",
      "['hp probook 430 g5 notebook pc 2wj88pa', 1280398]: 0.7342\n",
      "----------------------------------------------\n"
     ]
    }
   ],
   "source": [
    "# lets test the Information Retieval system, use tfidf_overall_WP for wrong mapping \n",
    "# and tfidf_overall_CP for correct mapping\n",
    "for i in range(0,5):\n",
    "    j = random.randint(0,len(tfidf_overall_WP))\n",
    "    retrieve_product(TFIDF_box, tfidf_overall_WP, j, 4)\n",
    "    print('----------------------------------------------')"
   ]
  },
  {
   "cell_type": "markdown",
   "metadata": {},
   "source": [
    "# Doc2Vec evaluation"
   ]
  },
  {
   "cell_type": "markdown",
   "metadata": {},
   "source": [
    "This is the second part of the evaluation process. It does the following actions.\n",
    "1. It first forms a tagged document from the evaluation corpus.\n",
    "2. A document embedding neural network model is run to generate the document embeddings.\n",
    "1. Creates a Doc2Vec_Box which stores all the necessary information which with top 4 similary manufacturer sequences based ranked cosine similairty index. The number of similar sequences returned could be changed.\n",
    "2. Next the accuracy of the evaluated data is calculated by comparing if the top ranked similar sequence has the same productID as the initial retail-manufaturer sequence.\n",
    "3. An information Retreivel system is designed to return the top 4 manufacturer sequnece along with their productIDs and cosine simlarity scores"
   ]
  },
  {
   "cell_type": "code",
   "execution_count": 396,
   "metadata": {},
   "outputs": [],
   "source": [
    "# Create the tagged document needed for Doc2Vec training\n",
    "def create_tagged_document(list):\n",
    "    for i, n in enumerate(list):\n",
    "        yield TaggedDocument(n.split(), [i])"
   ]
  },
  {
   "cell_type": "code",
   "execution_count": 397,
   "metadata": {},
   "outputs": [
    {
     "data": {
      "text/plain": [
       "[TaggedDocument(words=['nikon', 'af', 'nikkor', 'nikkor', '2.8', 'f', '2.8d', 'ed', 'ed'], tags=[0]),\n",
       " TaggedDocument(words=['lg', 'electronics', '9.0', 'cu.', 'ft.', 'mega', 'capacity', 'gas', 'dryer', 'w', 'steam', 'technology', 'dlgx8101w'], tags=[1])]"
      ]
     },
     "execution_count": 397,
     "metadata": {},
     "output_type": "execute_result"
    }
   ],
   "source": [
    "#lets create the Doc2Vec corpus and see how it looks like \n",
    "doc2vec_corpus = list(create_tagged_document(eval_corpus))\n",
    "doc2vec_corpus[:2]"
   ]
  },
  {
   "cell_type": "markdown",
   "metadata": {},
   "source": [
    "### This is the heart of the process where a deep neural network is trained to generate the document embeddings. The hyperparameters used for training are vector_size and epochs."
   ]
  },
  {
   "cell_type": "code",
   "execution_count": 398,
   "metadata": {},
   "outputs": [
    {
     "name": "stdout",
     "output_type": "stream",
     "text": [
      "CPU times: user 43min 49s, sys: 14min 46s, total: 58min 35s\n",
      "Wall time: 35min 44s\n"
     ]
    }
   ],
   "source": [
    "# Init the Doc2Vec model\n",
    "model = gensim.models.doc2vec.Doc2Vec(vector_size=300, epochs=1000)\n",
    "\n",
    "# Build the Volabulary\n",
    "model.build_vocab(doc2vec_corpus)\n",
    "\n",
    "# Train the Doc2Vec model\n",
    "%time model.train(doc2vec_corpus, total_examples=model.corpus_count, epochs=model.epochs)"
   ]
  },
  {
   "cell_type": "code",
   "execution_count": 399,
   "metadata": {},
   "outputs": [],
   "source": [
    "# magic box to store all important information for Doc2Vec cosine similarity calculation\n",
    "def Doc2Vec_evaluator(corpus, model_docvecs ):\n",
    "    start = time.time()\n",
    "    # transform the model.docvecs matrix to a shape which can be used to calculare cosine similarity for the whole array at once\n",
    "    model_docvecs_flipped =  []\n",
    "    for i in range(len(model_docvecs)):\n",
    "        model_docvecs_flipped.append(model_docvecs[i].reshape(1,-1))\n",
    "    model_docvecs_flip = np.squeeze(model_docvecs_flipped, axis = 1)\n",
    "    # start populating the Doc2Vec box\n",
    "    Doc2Vec_box = []                               \n",
    "    for i in range(len(unique_predictions)):\n",
    "        cosine_similarities = cosine_similarity(model_docvecs_flip[i].reshape(1,-1), model_docvecs_flip[len(unique_predictions):]).flatten()\n",
    "        related_docs_indices = cosine_similarities.argsort()[:-5:-1]\n",
    "        related_products = [text_product_map[a][1] for a in related_docs_indices]\n",
    "        cosine_similarities = cosine_similarities[related_docs_indices]\n",
    "        Doc2Vec_box.append([unique_predictions[i],related_products, cosine_similarities, related_docs_indices ])\n",
    "        if i%5000==0:\n",
    "            print('processed {} products, time elapsed:{} seconds'.format(i+1, (time.time() - start)))\n",
    "    print('complete')\n",
    "    return Doc2Vec_box"
   ]
  },
  {
   "cell_type": "markdown",
   "metadata": {},
   "source": [
    "### The rest of the steps is the same as the TFIDF method; generate the most similar sequence index, rank them and retrieve them with their productIDs and cosine similarity score. Accuracy is also calculated."
   ]
  },
  {
   "cell_type": "code",
   "execution_count": 400,
   "metadata": {},
   "outputs": [
    {
     "name": "stdout",
     "output_type": "stream",
     "text": [
      "processed 1 products, time elapsed:0.27777838706970215 seconds\n",
      "processed 5001 products, time elapsed:172.4183793067932 seconds\n",
      "complete\n"
     ]
    }
   ],
   "source": [
    "# build the Doc2Vec_box to store all the cosine similarity values\n",
    "Doc2Vec_box = Doc2Vec_evaluator(eval_corpus, model.docvecs)"
   ]
  },
  {
   "cell_type": "markdown",
   "metadata": {},
   "source": [
    "### This is where accuracy is calculated"
   ]
  },
  {
   "cell_type": "code",
   "execution_count": 401,
   "metadata": {},
   "outputs": [
    {
     "name": "stdout",
     "output_type": "stream",
     "text": [
      "accuracy: 19.18%\n"
     ]
    }
   ],
   "source": [
    "# separate the right and wrong predictions for the prediction and calculate the accuracy \n",
    "d2v_overall_CP, d2v_overall_WP = accuracy_calcluator(Doc2Vec_box, prediction_pairs, evaluation_pairs)\n",
    "print('accuracy: {0:.2f}%'.format(int(len(d2v_overall_CP))/int(len(prediction_pairs))*100))"
   ]
  },
  {
   "cell_type": "code",
   "execution_count": 756,
   "metadata": {},
   "outputs": [
    {
     "name": "stdout",
     "output_type": "stream",
     "text": [
      "serch text: \n",
      "lg electronics 70 inch class 4k smart uhd tv w ai thinq® 74.5 diag 75um7570pud\n",
      "matched products:\n",
      "['lg electronics 70 inch class 4k smart uhd tv w ai thinq® 69.5 diag 70um7370aub', '1642427']: 0.9168999791145325\n",
      "['lg electronics 70 inch class 4k smart uhd tv w ai thinq® 69.5 diag 70um7370pua', '1585382']: 0.9013000130653381\n",
      "['lg electronics 86 inch class 4k smart uhd tv w ai thinq® 85.6 diag 86um8070aub', '1637510']: 0.8903999924659729\n"
     ]
    }
   ],
   "source": [
    "# lets test the Information Retieval system, use d2v_overall_WP for wrong mapping \n",
    "# and d2v_overall_CP for correct mapping\n",
    "for i in range(0,5):\n",
    "    j = random.randint(0,len(d2v_overall_WP))\n",
    "    retrieve_product(TFIDF_box, d2v_overall_WP, j, 4)\n",
    "    print('----------------------------------------------')"
   ]
  },
  {
   "cell_type": "markdown",
   "metadata": {},
   "source": [
    "### The next part is an attempt at using pre-built word embedding but couldn't complete the process as it took very long to train the model."
   ]
  },
  {
   "cell_type": "markdown",
   "metadata": {},
   "source": [
    "# Word2Vec evaluation"
   ]
  },
  {
   "cell_type": "code",
   "execution_count": 29,
   "metadata": {},
   "outputs": [],
   "source": [
    "from gensim.matutils import softcossim\n",
    "from gensim import corpora\n",
    "import gensim.downloader as api\n",
    "from gensim.utils import simple_preprocess\n",
    "\n",
    "# # Download the models\n",
    "# # fasttext_model300 = api.load('fasttext-wiki-news-subwords-300')\n",
    "word2vec_model300 = api.load('word2vec-google-news-300')\n",
    "# # glove_model300 = api.load('glove-wiki-gigaword-300')"
   ]
  },
  {
   "cell_type": "code",
   "execution_count": 30,
   "metadata": {},
   "outputs": [],
   "source": [
    "dictionary = corpora.Dictionary([simple_preprocess(doc) for doc in eval_corpus])"
   ]
  },
  {
   "cell_type": "code",
   "execution_count": 33,
   "metadata": {},
   "outputs": [],
   "source": [
    "# Prepare the similarity matrix\n",
    "similarity_matrix = word2vec_model300.similarity_matrix(dictionary, tfidf=None, threshold=0.0, exponent=2.0, nonzero_limit=100)"
   ]
  },
  {
   "cell_type": "code",
   "execution_count": 34,
   "metadata": {},
   "outputs": [],
   "source": [
    "# Convert the sentences into bag-of-words vectors.\n",
    "BOW_vectors = []\n",
    "for i in range(len(eval_corpus)):\n",
    "    BOW_vectors.append(dictionary.doc2bow(simple_preprocess(eval_corpus[i])))    "
   ]
  },
  {
   "cell_type": "code",
   "execution_count": 786,
   "metadata": {},
   "outputs": [],
   "source": [
    "def create_soft_cossim_matrix(sentences):\n",
    "    len_array = np.arange(len(sentences))\n",
    "    xx, yy = np.meshgrid(len_array, len_array)\n",
    "    cossim_mat = pd.DataFrame([[round(softcossim(sentences[i],sentences[j], similarity_matrix) ,2)\n",
    "                                for i, j in zip(x,y)] for y, x in zip(xx, yy)])\n",
    "    return cossim_mat"
   ]
  },
  {
   "cell_type": "code",
   "execution_count": null,
   "metadata": {},
   "outputs": [
    {
     "name": "stdout",
     "output_type": "stream",
     "text": [
      "processed 1 products, time elapsed:9.570444822311401 seconds\n",
      "processed 5001 products, time elapsed:46611.98732686043 seconds\n",
      "processed 10001 products, time elapsed:91212.03562259674 seconds\n"
     ]
    }
   ],
   "source": [
    "start = time.time()\n",
    "Word2Vec_box = []\n",
    "for i in range(len(unique_predictions)):\n",
    "    cosine_similarities = np.array([softcossim(BOW_vectors[i], j, similarity_matrix) \n",
    "                                    for j in BOW_vectors[len(unique_predictions):]])\n",
    "    related_docs_indices = cosine_similarities.argsort()[:-5:-1]\n",
    "    related_products = [text_product_map[a][1] for a in related_docs_indices]\n",
    "    cosine_similarities = cosine_similarities[related_docs_indices]\n",
    "    Word2Vec_box.append([unique_predictions[i], related_products, cosine_similarities, related_docs_indices ])\n",
    "    if i%5000==0:\n",
    "        print('processed {} products, time elapsed:{} seconds'.format(i+1, (time.time() - start)))\n",
    "print('complete')\n",
    "#     return Word2Vec_box"
   ]
  }
 ],
 "metadata": {
  "kernelspec": {
   "display_name": "Python 3",
   "language": "python",
   "name": "python3"
  },
  "language_info": {
   "codemirror_mode": {
    "name": "ipython",
    "version": 3
   },
   "file_extension": ".py",
   "mimetype": "text/x-python",
   "name": "python",
   "nbconvert_exporter": "python",
   "pygments_lexer": "ipython3",
   "version": "3.6.9"
  }
 },
 "nbformat": 4,
 "nbformat_minor": 2
}
