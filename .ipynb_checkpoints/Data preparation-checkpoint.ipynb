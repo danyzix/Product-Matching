{
 "cells": [
  {
   "cell_type": "code",
   "execution_count": 1,
   "metadata": {
    "colab": {},
    "colab_type": "code",
    "id": "NvP07wX1IzMz"
   },
   "outputs": [],
   "source": [
    "import pandas as pd\n",
    "import numpy as np\n",
    "import json, re, itertools, os\n",
    "import matplotlib.pyplot as plt\n",
    "from pandas.io.json import json_normalize\n",
    "import string, nltk\n",
    "import collections\n",
    "from nltk.corpus import stopwords\n",
    "import time\n",
    "import random, pickle\n",
    "import ast\n",
    "import copy\n",
    "pd.options.mode.chained_assignment = None\n",
    "from operator import itemgetter"
   ]
  },
  {
   "cell_type": "code",
   "execution_count": 5,
   "metadata": {},
   "outputs": [],
   "source": [
    "# Some initilisations - please change the file_dir to your working directory to read the file\n",
    "file_dir = '/home/danyzix/Dissertation/Data'"
   ]
  },
  {
   "cell_type": "code",
   "execution_count": 3,
   "metadata": {
    "colab": {},
    "colab_type": "code",
    "id": "69U5YeBZ_PIm"
   },
   "outputs": [],
   "source": [
    "# pickling functions to save and load lists\n",
    "def pickle_save(data, name):\n",
    "    path = os.path.join(file_dir,'{}.pkl'.format(name))\n",
    "    with open(path, \"wb\") as f:\n",
    "        pickle.dump(data, f, protocol=-1)\n",
    "        f.close()\n",
    "def pickle_open(name):\n",
    "    path = os.path.join(file_dir,'{}.pkl'.format(name))\n",
    "    with open(path, \"rb\") as f:\n",
    "        data = pickle.load(f)\n",
    "        f.close()\n",
    "    return data"
   ]
  },
  {
   "cell_type": "markdown",
   "metadata": {},
   "source": [
    "Please note:\n",
    "\n",
    "This notebook uses a retailer-manufacturer paired sequence data which is generated from the retail data I had prepared in the previous notebook and from the manufactuerer product database. From the retail data only three fields are used : Brand, Title, MPN to describe each product.\n",
    "A similar data is prepared from the manufactuer database with the same fields as the retailer data.\n",
    "The corresponding productIDs are added at the list.\n",
    "The rb_pairs1 generated is a list of list with each item in a list as retailer sequence, manufacturer sequence, productID."
   ]
  },
  {
   "cell_type": "markdown",
   "metadata": {
    "colab_type": "text",
    "id": "47muGrvVIzNi"
   },
   "source": [
    "## Load retailer-brand pair sequence mapping\n"
   ]
  },
  {
   "cell_type": "code",
   "execution_count": 15,
   "metadata": {},
   "outputs": [
    {
     "data": {
      "text/plain": [
       "77451"
      ]
     },
     "execution_count": 15,
     "metadata": {},
     "output_type": "execute_result"
    }
   ],
   "source": [
    "# load the retailer-manufactuerer mapped pairs with productID\n",
    "rb_pairs1 = pickle_open('rb_pairs1')\n",
    "len(rb_pairs1)"
   ]
  },
  {
   "cell_type": "code",
   "execution_count": 14,
   "metadata": {},
   "outputs": [
    {
     "data": {
      "text/plain": [
       "['SAMSUNG SAMSUNG DV80M5010QX/EU 8 kg Heat Pump Tumble Dryer & AddWash WW80K5410UX 8 kg 1400 Spin Washing Machine Bundle WW80K5410UX',\n",
       " 'Samsung DV5000 Heat Pump Tumble Dryer A++ 8kg DV80M5010QXEU',\n",
       " 1172949]"
      ]
     },
     "execution_count": 14,
     "metadata": {},
     "output_type": "execute_result"
    }
   ],
   "source": [
    "# Lets look at the first item in the rb_pairs1 list. \n",
    "rb_pairs1[0]"
   ]
  },
  {
   "cell_type": "markdown",
   "metadata": {},
   "source": [
    "## Data cleaning"
   ]
  },
  {
   "cell_type": "markdown",
   "metadata": {},
   "source": [
    "A process of data-cleaning is implemented in the next step for each of the retail-brand pairs in the following order:\n",
    "\n",
    "remove some punctuations -> remove English stop words -> remove duplicate words/tokens keeping the first occurence and removing the following."
   ]
  },
  {
   "cell_type": "code",
   "execution_count": 16,
   "metadata": {
    "colab": {},
    "colab_type": "code",
    "id": "obKuVhpcIzN5"
   },
   "outputs": [],
   "source": [
    "# clean texts: lowercase, trim, de-dup.....\n",
    "def normalise_text(t):\n",
    "    # split into tokens by white space\n",
    "    tokens = t.split()\n",
    "    # replace a list punctuations with space from each token\n",
    "    punctuations=\"\"\"'!\"#$%&\\'()*,-/:;®™<=>?@[\\\\]^_`{|}~\"\"\"\n",
    "    table = str.maketrans(punctuations,' '*len(punctuations))\n",
    "    tokens = [w.translate(table) for w in tokens]\n",
    "    tokens = [w.lower() for w in tokens]\n",
    "    # filter out stop words\n",
    "    stop_words = set(stopwords.words('english'))\n",
    "    tokens = [w for w in tokens if not w in stop_words]\n",
    "    # reduce multiple spaces to one  \n",
    "    tokens = re.sub(' +', ' ', ' '.join(tokens)).split()\n",
    "    # remove duplicate tokens preserving the order\n",
    "    tokens = [i for n,i in enumerate(tokens) if i not in tokens[:n]]\n",
    "    # join the string to a list\n",
    "    tokens = ' '.join(tokens)\n",
    "    return tokens"
   ]
  },
  {
   "cell_type": "code",
   "execution_count": 17,
   "metadata": {
    "colab": {
     "base_uri": "https://localhost:8080/",
     "height": 34
    },
    "colab_type": "code",
    "id": "_IKDgEoxIzN8",
    "outputId": "0960f017-6570-4e20-b6e8-16f6ab721879"
   },
   "outputs": [
    {
     "data": {
      "text/plain": [
       "77451"
      ]
     },
     "execution_count": 17,
     "metadata": {},
     "output_type": "execute_result"
    }
   ],
   "source": [
    "# cleaned the retail-brand text pairs is stored in a new list rb_pairs2\n",
    "rb_pairs2=[]\n",
    "for i in range(len(rb_pairs1)):\n",
    "    retail_text = normalise_text(rb_pairs1[i][0])\n",
    "    brand_text = normalise_text(rb_pairs1[i][1])\n",
    "    rb_pairs2.append([retail_text, brand_text, rb_pairs1[i][2]])\n",
    "len(rb_pairs2)"
   ]
  },
  {
   "cell_type": "markdown",
   "metadata": {},
   "source": [
    "## More data cleaning "
   ]
  },
  {
   "cell_type": "markdown",
   "metadata": {},
   "source": [
    "I investigate a bit more in the text sequences to have a better understanding of the data. The next few steps looks at the short length sequences and sequences with no numbers. \n",
    "\n",
    "One of the key item in this whole sequence matching task is the model numbers of the products and they usually have a number. So it will be helpful to understand how many of my sequence pairs do not have numbers."
   ]
  },
  {
   "cell_type": "code",
   "execution_count": 18,
   "metadata": {
    "colab": {},
    "colab_type": "code",
    "id": "IbTlp9wWIzOJ"
   },
   "outputs": [],
   "source": [
    "# function to return texts with short texts\n",
    "def get_short_texts(pairs, row_no, length):\n",
    "    temp_list = []\n",
    "    for i in range(len(pairs)):\n",
    "        if len(pairs[i][row_no].split()) <= length:\n",
    "            temp_list.append([i,pairs[i][row_no]])\n",
    "    return temp_list"
   ]
  },
  {
   "cell_type": "code",
   "execution_count": 19,
   "metadata": {
    "colab": {
     "base_uri": "https://localhost:8080/",
     "height": 187
    },
    "colab_type": "code",
    "id": "RQ03ZkJ0IzOM",
    "outputId": "86f32f72-b13b-4af7-d607-e1eb0e22d24f"
   },
   "outputs": [
    {
     "name": "stdout",
     "output_type": "stream",
     "text": [
      "[38859, 'title']\n",
      "[17778, 'panasonic tx49fx750b']\n",
      "[21854, 'panasonic dmc tz100ebk']\n",
      "[23694, 'hoover ho7d3120in']\n",
      "[31031, 'title']\n",
      "[66511, 'lg up970']\n",
      "[65882, 'samsung rl220nctasr']\n",
      "[34521, 'title']\n",
      "[21997, 'lenses']\n",
      "[67707, 'bosch sign email']\n"
     ]
    }
   ],
   "source": [
    "# lets look at 10 random rows with short retail texts <= 3 tokens\n",
    "length = 3\n",
    "for j in range(0,10):\n",
    "    i = random.randint(0, len(get_short_texts(rb_pairs2, 0, length)))  # row_no = 0 is for retail text\n",
    "    print(get_short_texts(rb_pairs2, 0, length)[i])"
   ]
  },
  {
   "cell_type": "markdown",
   "metadata": {},
   "source": [
    "By looking at a few random rows of the retail sequence, we can see that some of them will be completely useless for this analysis as they have no information of the product at all."
   ]
  },
  {
   "cell_type": "code",
   "execution_count": 20,
   "metadata": {
    "colab": {
     "base_uri": "https://localhost:8080/",
     "height": 187
    },
    "colab_type": "code",
    "id": "6qHCxN4DIzOR",
    "outputId": "51e30aa1-0534-4345-95f3-3c3f5267bd9e"
   },
   "outputs": [
    {
     "name": "stdout",
     "output_type": "stream",
     "text": [
      "[67140, 'samsung wa80e5lec wa80e5lecxtl']\n",
      "[39648, 'kitchen aid 5ksm160psawh']\n",
      "[15224, 'bosch wtwh7561gb']\n",
      "[20209, 'hoover link dhl1482dr3r']\n",
      "[62115, 'electrolux major ewf9025bqwa']\n",
      "[7473, 'bosch cfa634gs1b']\n",
      "[16021, 'bosch dem63ac00b']\n",
      "[20157, 'hoover link hl41472d3w']\n",
      "[11273, 'gorenje g641xuk 729810']\n",
      "[59650, 'miele uk g4940sc']\n"
     ]
    }
   ],
   "source": [
    "# lets look at 10 random rows with short brand texts <= 3 tokens\n",
    "length = 3\n",
    "for j in range(0,10):\n",
    "    i = random.randint(0, len(get_short_texts(rb_pairs2, 1, length)))  # row_no = 1 is for brand text\n",
    "    print(get_short_texts(rb_pairs2, 1, length)[i])"
   ]
  },
  {
   "cell_type": "markdown",
   "metadata": {
    "colab_type": "text",
    "id": "JhN0OQXQIzOV"
   },
   "source": [
    "Most of the brand sequences have a model number of the products which generally contains a number in the strings. Let's investigate further and look at texts which do not have any numbers."
   ]
  },
  {
   "cell_type": "code",
   "execution_count": 21,
   "metadata": {
    "colab": {},
    "colab_type": "code",
    "id": "HjhYWckSIzOY"
   },
   "outputs": [],
   "source": [
    "# function to return texts with no numbers\n",
    "def no_num_text(pairs, row_no):\n",
    "    temp_list = []\n",
    "    for i in range(len(pairs)):\n",
    "        if not any(a.isdigit() for a in pairs[i][row_no]):\n",
    "            temp_list.append([i,pairs[i][row_no]])\n",
    "    return temp_list"
   ]
  },
  {
   "cell_type": "code",
   "execution_count": 22,
   "metadata": {
    "colab": {
     "base_uri": "https://localhost:8080/",
     "height": 187
    },
    "colab_type": "code",
    "id": "Ws9s8VhzIzOd",
    "outputId": "d94f8c1b-4d92-4064-c6eb-0fe6916df64f"
   },
   "outputs": [
    {
     "name": "stdout",
     "output_type": "stream",
     "text": [
      "[54657, 'blue buffalo homestyle recipe adult dog food']\n",
      "[29926, 'fitbit alta large fitness tracker blue']\n",
      "[55055, 'title']\n",
      "[21293, 'bose omnijewel floor stands pair white']\n",
      "[76544, 'dyson ball multifloor']\n",
      "[63144, 'sign email']\n",
      "[27884, 'title']\n",
      "[70737, 'electrolux built in oven single electric']\n",
      "[38967, 'title']\n",
      "[63212, '']\n"
     ]
    }
   ],
   "source": [
    "# lets look at 10 random rows of retail texts with no numbers\n",
    "for j in range(0,10):\n",
    "    i = random.randint(0, len(no_num_text(rb_pairs2, 0)))    # row_num = 0 is for  text\n",
    "    print(no_num_text(rb_pairs2, 0)[i])"
   ]
  },
  {
   "cell_type": "code",
   "execution_count": 23,
   "metadata": {
    "colab": {
     "base_uri": "https://localhost:8080/",
     "height": 187
    },
    "colab_type": "code",
    "id": "GKXKYvQkIzOn",
    "outputId": "2a287f85-3528-40a6-b3b0-c8d4acc2847f"
   },
   "outputs": [
    {
     "name": "stdout",
     "output_type": "stream",
     "text": [
      "[69316, 'sony high power home audio system bluetooth technology']\n",
      "[4277, 'apple river page macbook']\n",
      "[35029, 'jbl endurance jump black jblendurjumpblk jumpblkhpcc']\n",
      "[22056, 'beko frost free combi fridge freezer water dispenser']\n",
      "[36017, 'jbl endurance run yellow jblendurrunbnl']\n",
      "[7785, 'amazon new kindle paperwhite allnewkindlepaperwhite']\n",
      "[7779, 'amazon kindle e reader amazonkindle']\n",
      "[56597, 'microsoft mixed reality generic countriestoad']\n",
      "[15120, 'sonos playbar wireless sound bar']\n",
      "[3809, 'hyperx cloud alpha hxhscardem']\n"
     ]
    }
   ],
   "source": [
    "# lets look at 10 random rows of brand texts with no numbers\n",
    "for j in range(0,10):\n",
    "    i = random.randint(0, len(no_num_text(rb_pairs2, 1)))    # row_num = 1 is for brand text\n",
    "    print(no_num_text(rb_pairs2, 1)[i])"
   ]
  },
  {
   "cell_type": "markdown",
   "metadata": {},
   "source": [
    "By looking at some random sequences of both the retail and brand texts, we can see that we can make the data cleaner by just removing all pairs which do not any number in each of the sequence pairs.\n",
    "\n",
    "I'll create a new list rb_pairs3 which will store the rest of retail-brand pairs after cleaning."
   ]
  },
  {
   "cell_type": "code",
   "execution_count": 24,
   "metadata": {
    "colab": {},
    "colab_type": "code",
    "id": "DGSs8xhtIzOr"
   },
   "outputs": [],
   "source": [
    "# function to remove pairs which do not have numbers in the retail and brand texts\n",
    "def remove_no_num_pairs(pairs):\n",
    "    bad_pairs = []\n",
    "    good_pairs = []\n",
    "    r_rows = no_num_text(pairs, 0)    # get retail text rows with no numbers\n",
    "    b_rows = no_num_text(pairs, 1)    # get brand text rows with no numbers\n",
    "    for i in range(len(pairs)):\n",
    "        if (pairs[i][0] in [a[1] for a in r_rows]) or (pairs[i][1] in [a[1] for a in b_rows]):\n",
    "            bad_pairs.append(pairs[i])\n",
    "        else:\n",
    "            good_pairs.append(pairs[i])\n",
    "    return bad_pairs, good_pairs"
   ]
  },
  {
   "cell_type": "code",
   "execution_count": 25,
   "metadata": {
    "colab": {
     "base_uri": "https://localhost:8080/",
     "height": 51
    },
    "colab_type": "code",
    "id": "-_Az_tfWIzO3",
    "outputId": "1b18eb6e-02dd-4219-a78f-c2146f198462"
   },
   "outputs": [
    {
     "name": "stdout",
     "output_type": "stream",
     "text": [
      "# of pairs before cleaning : 77451 \n",
      "# of pairs after cleaning : 67457\n"
     ]
    }
   ],
   "source": [
    "# generate two separate lists for further analysis\n",
    "# rb_pairs3 is the clean list after removing the no number text pairs\n",
    "# bad_pairs is the cleaned list \n",
    "bad_pairs, rb_pairs3 = remove_no_num_pairs(rb_pairs2)\n",
    "\n",
    "print('# of pairs before cleaning : {} \\n# of pairs after cleaning : {}'.format(len(rb_pairs2),len(rb_pairs3)))"
   ]
  },
  {
   "cell_type": "code",
   "execution_count": 26,
   "metadata": {
    "colab": {
     "base_uri": "https://localhost:8080/",
     "height": 34
    },
    "colab_type": "code",
    "id": "_z4YyA6nIzO6",
    "outputId": "85515b0f-21f1-4226-81a9-359f6a440a1d"
   },
   "outputs": [
    {
     "data": {
      "text/plain": [
       "(9994, 67457, 12.903642302875367)"
      ]
     },
     "execution_count": 26,
     "metadata": {},
     "output_type": "execute_result"
    }
   ],
   "source": [
    "# bad/good pair ratio\n",
    "len(bad_pairs), len(rb_pairs3) , len(bad_pairs)/(len(bad_pairs)+len(rb_pairs3))*100   "
   ]
  },
  {
   "cell_type": "markdown",
   "metadata": {},
   "source": [
    "I'm losing 13% of my data. Not sure if that's okay but it'll take more time to clean more than this so I'll continue with the analysis as it is."
   ]
  },
  {
   "cell_type": "markdown",
   "metadata": {
    "colab_type": "text",
    "id": "uiSeQB97UIOf"
   },
   "source": [
    "# Brand sequence - prodict_id mapping"
   ]
  },
  {
   "cell_type": "markdown",
   "metadata": {},
   "source": [
    "The next step is to form a unique brand-sequence to product_id (one-to-one) mapping. This mapping is necessary for the evaluation process when I'll measuring the accuracy of the model. \n",
    "\n",
    "For now lets just go ahead a generate this mapping and we'll understand the reason for this later on."
   ]
  },
  {
   "cell_type": "code",
   "execution_count": 27,
   "metadata": {
    "colab": {},
    "colab_type": "code",
    "id": "jUSER8jFIzO9"
   },
   "outputs": [],
   "source": [
    "# function to get unique texts and update a Counter from a list\n",
    "def get_unique_texts(data, row):\n",
    "    temp_text = []\n",
    "    for i in range(len(data)):\n",
    "        temp_text.append(data[i][row])\n",
    "    counter = collections.Counter(temp_text)               # add a counter to count the frequency of texts in the brand texts\n",
    "    unique_text = list(set(temp_text))                     # form a set of unique texts for the data\n",
    "    return counter, unique_text         "
   ]
  },
  {
   "cell_type": "markdown",
   "metadata": {},
   "source": [
    "As we have now have 67,457 retail-brand pairs, but some of the retail sequences will be mapped to the same brand sequence as multiple retailer urls can have some product. \n",
    "\n",
    "In the next few steps, I'll be looking at how many unique brand-sequences are mapped exist in the whole retail-brand pairs. I will then create a list of unique brand-sequence to product_id map."
   ]
  },
  {
   "cell_type": "code",
   "execution_count": 28,
   "metadata": {
    "colab": {
     "base_uri": "https://localhost:8080/",
     "height": 156
    },
    "colab_type": "code",
    "id": "ziFeNSy0IzO_",
    "outputId": "894d8a3e-a715-4ca9-edb1-6707c09735c5"
   },
   "outputs": [
    {
     "data": {
      "text/plain": [
       "[('hoover vision 34001950 34002041 hfze54w uighhghjajsajjmnsabhaj 34002042 hfle45w hvbf5182awk 37000416 34001951 34002031 34002028 34002025 34900370 34002029 34002030 37000415 34002027 hsc574w hfoe54w hvbf5182wwk hsc574b hbrup160k',\n",
       "  85),\n",
       " ('amd components logo program am4 300 chipset am4300', 62),\n",
       " ('fitbit charge 3 fb410gmwteu fb409gmbkeu fb410rglveu fb409rggyeu', 48),\n",
       " ('bose quietcomfort 35 wireless headphones ii black 7895640010', 40),\n",
       " ('microsoft wireless mobile mouse 1850 light u7z00033 u7z00032 u7z00035 u7z00043 u7z00044 u7z00005 u7z00022 u7z00015 u7z00031 u7z00024 u7z00013 u7z00065 amer u7z00012 u7z00002 u7z00004 u7z00060 u7z00016 u7z00011 u7z00036 u7z00001 u7z00003 u7z00048 u7z00038 u7z00041 u7z00057 u7z00055 u7z00062 u7z00008remove u7z00064 u7z00038removed u7z00025 u7z00066 u7z00063 u7z00021 orchid u7z00034 u7z00056 u7z00018 u7z00028 u7z00059 u7z00058 u7z00008 u7z00045 u7z00006 u7z00042 u7z00014',\n",
       "  33)]"
      ]
     },
     "execution_count": 28,
     "metadata": {},
     "output_type": "execute_result"
    }
   ],
   "source": [
    "# get the unique brand texts from the retail-brand pairs\n",
    "b_counter, unique_brand_text = get_unique_texts(rb_pairs3, 1)\n",
    "# lets look at some of the most common brand text mapped to retail texts\n",
    "b_counter.most_common(5)"
   ]
  },
  {
   "cell_type": "code",
   "execution_count": 29,
   "metadata": {},
   "outputs": [
    {
     "data": {
      "image/png": "[encoded data removed]",
      "text/plain": [
       "<Figure size 720x288 with 1 Axes>"
      ]
     },
     "metadata": {
      "needs_background": "light"
     },
     "output_type": "display_data"
    }
   ],
   "source": [
    "# a histogarm to see the many-to-one relationship\n",
    "plt.figure(figsize=(10,4))\n",
    "plt.hist([n for a,n in b_counter.items()], bins=30,range=[0, 30], color='orange')\n",
    "plt.title('many-to-one retailer to manufacturer mapping')\n",
    "plt.ylabel('# of retailer sequnces')\n",
    "plt.xlabel('# of manufacturer sequnces')\n",
    "plt.show()"
   ]
  },
  {
   "cell_type": "markdown",
   "metadata": {},
   "source": [
    "We can already see there could be many brand-sequences mapped to multiple retailer-sequences.\n",
    "\n",
    "Next will append the corresponding product_ids found for each or the brand-sequence."
   ]
  },
  {
   "cell_type": "code",
   "execution_count": 30,
   "metadata": {},
   "outputs": [],
   "source": [
    "# add the product_id to each unique brand text\n",
    "brand_text_product_mapping = []                       \n",
    "for a in unique_brand_text:\n",
    "    products = []\n",
    "    for i in range(len(rb_pairs3)):\n",
    "        if a == rb_pairs3[i][1]:\n",
    "            products.append(rb_pairs3[i][2])                # extract all product_ids which map to a certain brand text\n",
    "    products = list(set(products))                  # keep only the unique product_ids\n",
    "    brand_text_product_mapping.append([a, products])    # create a list of list with brand text and its corresponding product_ids"
   ]
  },
  {
   "cell_type": "code",
   "execution_count": 31,
   "metadata": {
    "colab": {},
    "colab_type": "code",
    "id": "fGvV3WgeSA4o",
    "outputId": "8e264baf-3fad-40c3-e1f7-82069b2890a1"
   },
   "outputs": [
    {
     "name": "stdout",
     "output_type": "stream",
     "text": [
      "number of unique brand-sequences: 24645\n"
     ]
    }
   ],
   "source": [
    "print('number of unique brand-sequences: {}'.format(len(unique_brand_text)))"
   ]
  },
  {
   "cell_type": "markdown",
   "metadata": {},
   "source": [
    "I also discovered that there are some brand-sequences which have multiple product_ids. This needs to be normalised as it'll cause an issue in the evaluation. \n",
    "\n",
    "I'll assign the first product in the order to the corresponding brand-sequence. The same product_id will be updated in the retail-brand pairs as well."
   ]
  },
  {
   "cell_type": "code",
   "execution_count": 32,
   "metadata": {
    "colab": {
     "base_uri": "https://localhost:8080/",
     "height": 272
    },
    "colab_type": "code",
    "id": "Xe9ZU2ZYIzPN",
    "outputId": "cec9728a-1bfc-4d91-8173-bd6ec3697853"
   },
   "outputs": [
    {
     "data": {
      "text/plain": [
       "[['tp link archer c7', [958697, 889676]],\n",
       " ['lg electronics tone+ wireless stereo headset hbs730', [867184, 810861]],\n",
       " ['lg electronics musicflow hs8 curved wireless multi room speaker las855m',\n",
       "  [946004, 1169453]],\n",
       " ['logitech wireless mini mouse m187', [820954, 820959]],\n",
       " ['flixmedia washer dryer combo 8.5kg 5kg',\n",
       "  [1407152, 1551109, 1452318, 1424855]],\n",
       " ['logitech m337', [945790, 945791]],\n",
       " ['bosch tda5070gb', [1578067, 1469940]],\n",
       " ['sony α6400 e mount camera aps c sensor black ilce6400lbap2',\n",
       "  [1555538, 1556943]],\n",
       " ['sony fe 24 105mm f4 g oss lens sel24105gsyx', [1296588, 1300469]],\n",
       " ['lg electronics tone protm bluetooth stereo headset hbs 750 hbs750',\n",
       "  [1169530, 894349]],\n",
       " ['logitech m171', [1002720, 1002719]],\n",
       " ['alcatel tcl 3c alcatel3c', [1322448, 1421819]]]"
      ]
     },
     "execution_count": 32,
     "metadata": {},
     "output_type": "execute_result"
    }
   ],
   "source": [
    "# there are some brand texts which have more than one product_id, let's look at them\n",
    "multi_product_texts = []\n",
    "for i in range(len(brand_text_product_mapping)):\n",
    "    if len(brand_text_product_mapping[i][1])>1:\n",
    "        multi_product_texts.append(brand_text_product_mapping[i])\n",
    "multi_product_texts"
   ]
  },
  {
   "cell_type": "code",
   "execution_count": 33,
   "metadata": {
    "colab": {},
    "colab_type": "code",
    "id": "W_WA9WxfIzPG"
   },
   "outputs": [],
   "source": [
    "# add the product_id to each unique brand text\n",
    "unique_brand_text_product_mapping = []                       \n",
    "for a in unique_brand_text:\n",
    "    products = []\n",
    "    for i in range(len(rb_pairs3)):\n",
    "        if a == rb_pairs3[i][1]:\n",
    "            products.append(rb_pairs3[i][2])                # extract all product_ids which map to a certain brand text\n",
    "    products = list(set(products))                          # keep only the unique product_ids\n",
    "    unique_brand_text_product_mapping.append([a, products[0]])   # append the first product_id if there are multilpe"
   ]
  },
  {
   "cell_type": "code",
   "execution_count": 34,
   "metadata": {},
   "outputs": [
    {
     "data": {
      "text/plain": [
       "[['logitech m171', 1002720]]"
      ]
     },
     "execution_count": 34,
     "metadata": {},
     "output_type": "execute_result"
    }
   ],
   "source": [
    "# let's verify if the product_ids have been updated\n",
    "[a for a in unique_brand_text_product_mapping  if a[0]== 'logitech m171']"
   ]
  },
  {
   "cell_type": "code",
   "execution_count": 35,
   "metadata": {
    "colab": {},
    "colab_type": "code",
    "id": "-Cdswy0RIzPQ"
   },
   "outputs": [],
   "source": [
    "# now we'll update all new product-ids in rb_pairs3 to keep uniformity in the evaluation process\n",
    "for a in multi_product_texts:\n",
    "    for b in rb_pairs3:\n",
    "        if a[0] == b[1]:\n",
    "            b[2] = a[1][0]"
   ]
  },
  {
   "cell_type": "code",
   "execution_count": 36,
   "metadata": {},
   "outputs": [
    {
     "name": "stdout",
     "output_type": "stream",
     "text": [
      "retailer sequence :lego duplo 10871 airport\n",
      "manufacturer sequence :lego airport b00t7sayso lego10871\n",
      "product_ID : 1312402\n",
      "------------------------------------------\n",
      "retailer sequence :beats dre solo3 bluetooth on ear headphones mic control matte gold mr3y2ll a\n",
      "manufacturer sequence :beats dr. dre solo³ wireless on ear headphones matt gold mr3y2paa mr3y2lla mr3y2zma\n",
      "product_ID : 1296970\n",
      "------------------------------------------\n",
      "retailer sequence :panasonic tx55fz952b 55 ultra hd 4k pro hdr oled television\n",
      "manufacturer sequence :panasonic 55 ultra hd 4k pro hdr oled television tx 55fz952b tx55fz952b\n",
      "product_ID : 1315701\n",
      "------------------------------------------\n"
     ]
    }
   ],
   "source": [
    "# Lets look at the cleaned rb_pairs3 data\n",
    "for i in range(0,3):\n",
    "    j = random.randint(0,len(rb_pairs3))   \n",
    "    print('retailer sequence :{}'.format(rb_pairs3[j][0]))\n",
    "    print('manufacturer sequence :{}'.format(rb_pairs3[j][1]))\n",
    "    print('product_ID : {}'.format(rb_pairs3[j][2]))\n",
    "    print('------------------------------------------')"
   ]
  },
  {
   "cell_type": "code",
   "execution_count": 37,
   "metadata": {},
   "outputs": [
    {
     "name": "stdout",
     "output_type": "stream",
     "text": [
      "manufacturer_sequence :fisher paykel freestanding dual fuel cooker 90cm or90scg6w1\n",
      "product_id : 1533825\n",
      "------------------------------------------\n",
      "manufacturer_sequence :hp 940xl cyan officejet ink cartridge c4907an c4907an140\n",
      "product_id : 621684\n",
      "------------------------------------------\n",
      "manufacturer_sequence :epson ink cartridge xxl cyan 3.4k c13t70124010\n",
      "product_id : 609784\n",
      "------------------------------------------\n"
     ]
    }
   ],
   "source": [
    "# Lets look at the manufacturer sequence-productID mapping \n",
    "for i in range(0,3):\n",
    "    j = random.randint(0,len(unique_brand_text_product_mapping))   \n",
    "    print('manufacturer_sequence :{}'.format(unique_brand_text_product_mapping[j][0]))\n",
    "    print('product_id : {}'.format(unique_brand_text_product_mapping[j][1]))\n",
    "    print('------------------------------------------')"
   ]
  },
  {
   "cell_type": "markdown",
   "metadata": {
    "colab_type": "text",
    "id": "LH8CBDwFZr7o"
   },
   "source": [
    "Now the data is clean to train the model so lets save it."
   ]
  },
  {
   "cell_type": "code",
   "execution_count": 89,
   "metadata": {
    "colab": {},
    "colab_type": "code",
    "id": "gB-c35LiFed6"
   },
   "outputs": [],
   "source": [
    "# save the files\n",
    "pickle_save(unique_brand_text_product_mapping, 'unique_brand_text_product_mapping')\n",
    "pickle_save(rb_pairs3,'rb_pairs3')"
   ]
  }
 ],
 "metadata": {
  "colab": {
   "collapsed_sections": [],
   "name": "Data preparation.ipynb",
   "provenance": [],
   "version": "0.3.2"
  },
  "kernelspec": {
   "display_name": "Python 3",
   "language": "python",
   "name": "python3"
  },
  "language_info": {
   "codemirror_mode": {
    "name": "ipython",
    "version": 3
   },
   "file_extension": ".py",
   "mimetype": "text/x-python",
   "name": "python",
   "nbconvert_exporter": "python",
   "pygments_lexer": "ipython3",
   "version": "3.7.3"
  }
 },
 "nbformat": 4,
 "nbformat_minor": 1
}
