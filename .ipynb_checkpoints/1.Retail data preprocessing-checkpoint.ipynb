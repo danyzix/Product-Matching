{
 "cells": [
  {
   "cell_type": "markdown",
   "metadata": {},
   "source": [
    "This notebook prepares the raw texts extracted from thousands of retailer urls into a format which can be used for futher text data modelling."
   ]
  },
  {
   "cell_type": "code",
   "execution_count": 1,
   "metadata": {},
   "outputs": [],
   "source": [
    "import sys\n",
    "import json, os\n",
    "from pandas.io.json import json_normalize\n",
    "from collections import Counter\n",
    "import collections\n",
    "import operator, pprint\n",
    "import matplotlib.pyplot as plt"
   ]
  },
  {
   "cell_type": "code",
   "execution_count": 2,
   "metadata": {},
   "outputs": [],
   "source": [
    "# Some initilisations - please change the file_dir to your working directory to read the file\n",
    "\n",
    "file_dir = '/home/danyzix/Dissertation/Data'\n",
    "retail_file = 'complete_retail_json.txt'"
   ]
  },
  {
   "cell_type": "markdown",
   "metadata": {},
   "source": [
    "Retailer data was extracted using a webscrapping tool from a list or 77,536 urls from 415 major retailers across many English speaking countries across the globe. An API of a webcralwer was used to extract the data in json format. I however lost one of the json files after preprocessing so, this part of the analysis only has 55,575 urls. Full length of file will be used in the modelling part as I had saved the pre-processed file."
   ]
  },
  {
   "cell_type": "code",
   "execution_count": 3,
   "metadata": {},
   "outputs": [],
   "source": [
    "# Lets open the text data as a json object\n",
    "os.path.join(file_dir, retail_file)\n",
    "with open(os.path.join(file_dir, retail_file)) as json_file:  \n",
    "    data1 = json.load(json_file)\n",
    "json_file.close()"
   ]
  },
  {
   "cell_type": "code",
   "execution_count": 26,
   "metadata": {
    "scrolled": false
   },
   "outputs": [
    {
     "data": {
      "text/plain": [
       "{'offerPrice': '£1,188.00',\n",
       " 'flixLoaderPresent': '2162',\n",
       " 'flixMinisitePresent': '',\n",
       " 'regularPrice': '£1,348.00',\n",
       " 'regularPriceDetails': {'symbol': '£', 'amount': 1348, 'text': '£1,348.00'},\n",
       " 'availability': True,\n",
       " 'type': 'product',\n",
       " 'title': 'SAMSUNG DV80M5010QX/EU 8 kg Heat Pump Tumble Dryer & AddWash WW80K5410UX 8 kg 1400 Spin Washing Machine Bundle',\n",
       " 'offerPriceDetails': {'symbol': '£', 'amount': 1188, 'text': '£1,188.00'},\n",
       " 'specs': {'fluff_filter': 'Yes',\n",
       "  'energy_consumption_per_cycle': '235 kWh',\n",
       "  'energy_rating': 'A',\n",
       "  'delay_timer': 'Yes, 24 hours',\n",
       "  'type': 'Freestanding tumble dryer',\n",
       "  'drying_capacity': '8 kg',\n",
       "  'number_of_minutes_on_timer': '150 minutes',\n",
       "  'manufacturers_guarantee': '2 years',\n",
       "  'capacity': '8 kg',\n",
       "  'recess_dimensions': '900 x 650 x 690 mm (H x W x D)',\n",
       "  'boxed_dimensions': '884 x 666 x 695 mm (H x W x D)',\n",
       "  'spin_speed': '1400 rpm',\n",
       "  'installation': 'Please note this product should be installed by a qualified engineer, such as one of our Knowhow experts.',\n",
       "  'number_of_drying_temperatures': '3',\n",
       "  'drying_time_for_a_cotton_cycle': '- Full load: 170 minutes - Half load: 125 minutes',\n",
       "  'energy_efficiency_class': 'A++',\n",
       "  'condensation_efficiency_class': 'B',\n",
       "  'stacking_option': 'Yes',\n",
       "  'boxed_weight': '52 kg',\n",
       "  'power_consumption': '- Standby mode: 5 kWh - Off mode: 0.5 kWh',\n",
       "  'display': 'LED screen',\n",
       "  'weight': '50 kg',\n",
       "  'loading': '- Front loading - 125° opening',\n",
       "  'special_cycles': '- Bedding - Cool air - Cotton - Delicates - Iron dry - Mixed load - Outdoor care - Synthetics - Time dry - Towel - Quick dry 35 - Warm dry - Wool',\n",
       "  'quick_wash_time': '15 minutes',\n",
       "  'sensor_control_automatic_non-automatic': 'Yes',\n",
       "  'colour': 'Graphite',\n",
       "  'drying_load_capacity': '5 kg',\n",
       "  'matching_washing_machine_model_number': 'WW80K5410UX/EU',\n",
       "  'noise_level': '65 dB(A)',\n",
       "  'wash_load_capacity': '9 kg',\n",
       "  'other_features': '- 2-in-1 Filter - Pause Function - Reverse Tumble',\n",
       "  'number_of_programs': '14',\n",
       "  'drying_type': 'Heat pump',\n",
       "  'dimensions': '- 850 x 600 x 640 mm (H x W x D) - 33 x 24 x 25 inches (H x W x D)'},\n",
       " 'flixInpagePresent': '',\n",
       " 'normalizedSpecs': {'depth': [{'unit': 'meter',\n",
       "    'cleanLiteral': '690.0 mm',\n",
       "    'value': 0.69}],\n",
       "  'color': [{'unit': 'rgbHex', 'cleanLiteral': 'graphite', 'value': 'B99F9C'}],\n",
       "  'shippingDepth': [{'unit': 'meter',\n",
       "    'cleanLiteral': '666.0 mm',\n",
       "    'value': 0.666}],\n",
       "  'shippingWeight': [{'unit': 'kilogram',\n",
       "    'cleanLiteral': '52.0 kg',\n",
       "    'value': 52}],\n",
       "  'width': [{'unit': 'meter', 'cleanLiteral': '650.0 mm', 'value': 0.65}],\n",
       "  'weight': [{'unit': 'kilogram', 'cleanLiteral': '50.0 kg', 'value': 50}],\n",
       "  'maxWeightCapacity': [{'unit': 'kilogram',\n",
       "    'cleanLiteral': '8.0 kg',\n",
       "    'value': 8}],\n",
       "  'shippingHeight': [{'unit': 'meter',\n",
       "    'cleanLiteral': '884.0 mm',\n",
       "    'value': 0.884}],\n",
       "  'height': [{'unit': 'meter', 'cleanLiteral': '900.0 mm', 'value': 0.9}]},\n",
       " 'humanLanguage': 'en',\n",
       " 'flixEAN': '',\n",
       " 'text': \"Keep your clothes clean and dry with this Samsung DV80M5010QX/EU 8 kg Heat Pump Tumble Dryer & AddWash WW80K5410UX 8 kg 1400 Spin Washing Machine Bundle. ____________________________________________________\\nSamsung DV80M5010QX/EU 8 kg Heat Pump Tumble Dryer – Graphite\\nDry your clothes and reduce your carbon footprint with the Samsung DV80M5010QX/EU 8 kg Heat Pump Tumble Dryer. It uses heat pump technology – a more cost-effective way of drying clothes by using hot air to absorb moisture from them.\\nBy using a lower temperature than conventional dryers to dry your garments, it offers them better protection. This means your clothes will look newer for longer.\\nAnother way the dryer protects your clothes is by using automatic sensors. These adjust the temperature and drying time for the best result, all while helping to lower your energy consumption.\\nSelect one of three drying levels. Have your clothes perfectly dry ready to wear straightaway, or slightly humid to make ironing easier.\\n_______________________________________________________\\nSamsung AddWash WW80K5410UX 8 kg 1400 Spin Washing Machine - Graphite\\nSamsung AddWash WW80K5410UX 8 kg 1400 Spin Washing Machine's innovative AddWash door lets you quickly drop in anything extra at any time during the wash program – whether it's a stray sock that got dropped, hand-washed items for a final rinse or extra softener.\\nWash more efficiently thanks to ecobubble technology. Creating a froth before the cycle starts, ecobubble generates small bubbles to penetrate fabrics more effectively, so a cool wash is just as effective as a warm wash.\\nBubble Soak takes the worry out of removing stubborn stains from your clothing. Rather than soak your clothes in potentially harmful chemicals, stains are loosened by bubbles to make them easier to remove in a normal wash.\",\n",
       " 'sku': '264019',\n",
       " 'brand': 'SAMSUNG',\n",
       " 'images': [{'xpath': '/html[1]/body[1]/div[2]/div[1]/div[3]/div[2]/section[1]/div[2]/div[1]/div[1]/div[1]/div[1]/div[1]/a[1]/img[1]',\n",
       "   'naturalHeight': 887,\n",
       "   'width': 500,\n",
       "   'diffbotUri': 'image|3|-1201965259',\n",
       "   'title': 'SAMSUNG DV80M5010QX/EU 8 kg Heat Pump Tumble Dryer & AddWash WW80K5410UX 8 kg 1400 Spin Washing Machine Bundle',\n",
       "   'url': 'https://brain-images-ssl.cdn.dixons.com/9/7/10191679/u_10191679.jpg',\n",
       "   'naturalWidth': 1000,\n",
       "   'primary': True,\n",
       "   'height': 444},\n",
       "  {'xpath': '/html[1]/body[1]/div[2]/div[1]/div[3]/div[2]/section[1]/div[2]/div[1]/div[1]/div[1]/div[1]/div[2]/a[1]/img[1]',\n",
       "   'naturalHeight': 532,\n",
       "   'width': 500,\n",
       "   'diffbotUri': 'image|3|795440016',\n",
       "   'title': 'SAMSUNG DV80M5010QX/EU 8 kg Heat Pump Tumble Dryer & AddWash WW80K5410UX 8 kg 1400 Spin Washing Machine Bundle',\n",
       "   'url': 'https://brain-images-ssl.cdn.dixons.com/9/7/10191679/l_10191679_001.jpg',\n",
       "   'naturalWidth': 600,\n",
       "   'height': 444},\n",
       "  {'xpath': '/html[1]/body[1]/div[2]/div[1]/div[3]/div[2]/section[1]/div[2]/div[1]/div[1]/div[1]/div[1]/div[3]/a[1]/img[1]',\n",
       "   'naturalHeight': 532,\n",
       "   'width': 500,\n",
       "   'diffbotUri': 'image|3|796363537',\n",
       "   'title': 'SAMSUNG DV80M5010QX/EU 8 kg Heat Pump Tumble Dryer & AddWash WW80K5410UX 8 kg 1400 Spin Washing Machine Bundle',\n",
       "   'url': 'https://brain-images-ssl.cdn.dixons.com/9/7/10191679/l_10191679_002.jpg',\n",
       "   'naturalWidth': 600,\n",
       "   'height': 444},\n",
       "  {'xpath': '/html[1]/body[1]/div[2]/div[1]/div[3]/div[2]/section[1]/div[2]/div[1]/div[1]/div[1]/div[1]/div[4]/a[1]/img[1]',\n",
       "   'naturalHeight': 532,\n",
       "   'width': 500,\n",
       "   'diffbotUri': 'image|3|797287058',\n",
       "   'title': 'SAMSUNG DV80M5010QX/EU 8 kg Heat Pump Tumble Dryer & AddWash WW80K5410UX 8 kg 1400 Spin Washing Machine Bundle',\n",
       "   'url': 'https://brain-images-ssl.cdn.dixons.com/9/7/10191679/l_10191679_003.jpg',\n",
       "   'naturalWidth': 600,\n",
       "   'height': 444},\n",
       "  {'xpath': '/html[1]/body[1]/div[2]/div[1]/div[3]/div[2]/section[1]/div[2]/div[1]/div[1]/div[1]/div[1]/div[5]/a[1]/img[1]',\n",
       "   'naturalHeight': 532,\n",
       "   'width': 500,\n",
       "   'diffbotUri': 'image|3|798210579',\n",
       "   'title': 'SAMSUNG DV80M5010QX/EU 8 kg Heat Pump Tumble Dryer & AddWash WW80K5410UX 8 kg 1400 Spin Washing Machine Bundle',\n",
       "   'url': 'https://brain-images-ssl.cdn.dixons.com/9/7/10191679/l_10191679_004.jpg',\n",
       "   'naturalWidth': 600,\n",
       "   'height': 444},\n",
       "  {'xpath': '/html[1]/body[1]/div[2]/div[1]/div[3]/div[2]/section[1]/div[2]/div[1]/div[1]/div[1]/div[1]/div[6]/a[1]/img[1]',\n",
       "   'naturalHeight': 532,\n",
       "   'width': 500,\n",
       "   'diffbotUri': 'image|3|799134100',\n",
       "   'title': 'SAMSUNG DV80M5010QX/EU 8 kg Heat Pump Tumble Dryer & AddWash WW80K5410UX 8 kg 1400 Spin Washing Machine Bundle',\n",
       "   'url': 'https://brain-images-ssl.cdn.dixons.com/9/7/10191679/l_10191679_005.jpg',\n",
       "   'naturalWidth': 600,\n",
       "   'height': 444},\n",
       "  {'xpath': '/html[1]/body[1]/div[2]/div[1]/div[3]/div[2]/section[1]/div[2]/div[1]/div[1]/div[1]/div[1]/div[7]/a[1]/img[1]',\n",
       "   'naturalHeight': 532,\n",
       "   'width': 500,\n",
       "   'diffbotUri': 'image|3|800057621',\n",
       "   'title': 'SAMSUNG DV80M5010QX/EU 8 kg Heat Pump Tumble Dryer & AddWash WW80K5410UX 8 kg 1400 Spin Washing Machine Bundle',\n",
       "   'url': 'https://brain-images-ssl.cdn.dixons.com/9/7/10191679/l_10191679_006.jpg',\n",
       "   'naturalWidth': 600,\n",
       "   'height': 444},\n",
       "  {'xpath': '/html[1]/body[1]/div[2]/div[1]/div[3]/div[2]/section[1]/div[2]/div[1]/div[1]/div[1]/div[1]/div[8]/a[1]/img[1]',\n",
       "   'naturalHeight': 532,\n",
       "   'width': 500,\n",
       "   'diffbotUri': 'image|3|800981142',\n",
       "   'title': 'SAMSUNG DV80M5010QX/EU 8 kg Heat Pump Tumble Dryer & AddWash WW80K5410UX 8 kg 1400 Spin Washing Machine Bundle',\n",
       "   'url': 'https://brain-images-ssl.cdn.dixons.com/9/7/10191679/l_10191679_007.jpg',\n",
       "   'naturalWidth': 600,\n",
       "   'height': 444},\n",
       "  {'xpath': '/html[1]/body[1]/div[2]/div[1]/div[3]/div[2]/section[1]/div[2]/div[1]/div[1]/div[1]/div[1]/div[9]/a[1]/img[1]',\n",
       "   'naturalHeight': 532,\n",
       "   'width': 500,\n",
       "   'diffbotUri': 'image|3|801904663',\n",
       "   'title': 'SAMSUNG DV80M5010QX/EU 8 kg Heat Pump Tumble Dryer & AddWash WW80K5410UX 8 kg 1400 Spin Washing Machine Bundle',\n",
       "   'url': 'https://brain-images-ssl.cdn.dixons.com/9/7/10191679/l_10191679_008.jpg',\n",
       "   'naturalWidth': 600,\n",
       "   'height': 444}],\n",
       " 'test': '',\n",
       " 'productId': 'WW80K5410UX',\n",
       " 'is_boxed': 'Home Household Appliances Laundry Tumble dryers DV80M5010QX EU 8 kg Heat Pump Tumble Dryer AddWash WW80K5410UX 8 kg 1400 Spin Washing Machine Bundle',\n",
       " 'diffbotUri': 'product|3|-1009388573',\n",
       " 'mpn': 'WW80K5410UX',\n",
       " 'multipleProducts': True,\n",
       " 'cspecs': [{'features': [{'featureName': 'Type',\n",
       "     'featureContent': 'Freestanding tumble dryer'},\n",
       "    {'featureName': 'Colour', 'featureContent': 'Graphite'},\n",
       "    {'featureName': 'Manufacturer’s guarantee', 'featureContent': '2 years'},\n",
       "    {'featureName': 'Drying capacity', 'featureContent': '8 kg'},\n",
       "    {'featureName': 'Drying type', 'featureContent': 'Heat pump'},\n",
       "    {'featureName': 'Energy efficiency class', 'featureContent': 'A++'},\n",
       "    {'featureName': 'Sensor control (automatic / non-automatic',\n",
       "     'featureContent': 'Yes'},\n",
       "    {'featureName': 'Energy consumption per cycle',\n",
       "     'featureContent': '235 kWh'},\n",
       "    {'featureName': 'Power consumption',\n",
       "     'featureContent': '- Standby mode: 5 kWh\\n - Off mode: 0.5 kWh'},\n",
       "    {'featureName': 'Drying time for a cotton cycle',\n",
       "     'featureContent': '- Full load: 170 minutes\\n - Half load: 125 minutes'},\n",
       "    {'featureName': 'Condensation efficiency class', 'featureContent': 'B'},\n",
       "    {'featureName': 'Noise level', 'featureContent': '65 dB(A)'},\n",
       "    {'featureName': 'Number of minutes on timer',\n",
       "     'featureContent': '150 minutes'},\n",
       "    {'featureName': 'Number of drying temperatures', 'featureContent': '3'},\n",
       "    {'featureName': 'Number of programs', 'featureContent': '14'},\n",
       "    {'featureName': 'Special cycles',\n",
       "     'featureContent': '- Bedding\\n - Cool air\\n - Cotton\\n - Delicates\\n - Iron dry\\n - Mixed load\\n - Outdoor care\\n - Synthetics\\n - Time dry\\n - Towel\\n - Quick dry 35\\n - Warm dry\\n - Wool'},\n",
       "    {'featureName': 'Drying time for a cotton cycle',\n",
       "     'featureContent': '- Full load: 170 minutes\\n - Half load: 125 minutes'},\n",
       "    {'featureName': 'Loading',\n",
       "     'featureContent': '- Front loading\\n - 125° opening'},\n",
       "    {'featureName': 'Fluff filter', 'featureContent': 'Yes'},\n",
       "    {'featureName': 'Other features',\n",
       "     'featureContent': '- 2-in-1 Filter\\n - Pause Function\\n - Reverse Tumble'},\n",
       "    {'featureName': 'Smartphone app', 'featureContent': 'Samsung Smart Home'},\n",
       "    {'featureName': 'Compatible platforms',\n",
       "     'featureContent': '- Android\\n - iOS'},\n",
       "    {'featureName': 'Smart functions',\n",
       "     'featureContent': '- Smart Check\\n - Pause Cycle\\n - Delay End\\n - Optimal Dry\\n - Mixed Load Bell'},\n",
       "    {'featureName': 'Display', 'featureContent': 'LED screen'},\n",
       "    {'featureName': 'Delay timer', 'featureContent': 'Yes, 24 hours'},\n",
       "    {'featureName': 'Installation',\n",
       "     'featureContent': 'Please note this product should be installed by a qualified engineer, such as one of our Knowhow experts.'},\n",
       "    {'featureName': 'Dimensions',\n",
       "     'featureContent': '- 850 x 600 x 640 mm (H x W x D)\\n - 33 x 24 x 25 inches (H x W x D)'},\n",
       "    {'featureName': 'Recess dimensions',\n",
       "     'featureContent': '900 x 650 x 690 mm (H x W x D)'},\n",
       "    {'featureName': 'Boxed dimensions',\n",
       "     'featureContent': '884 x 666 x 695 mm (H x W x D)'},\n",
       "    {'featureName': 'Weight', 'featureContent': '50 kg'},\n",
       "    {'featureName': 'Boxed weight', 'featureContent': '52 kg'},\n",
       "    {'featureName': 'Matching washing machine model number',\n",
       "     'featureContent': 'WW80K5410UX/EU'},\n",
       "    {'featureName': 'Stacking option', 'featureContent': 'Yes'}]}],\n",
       " 'flixMPN': '10191679',\n",
       " 'breadcrumb': [{'link': 'https://www.currys.co.uk/gbuk/index.html',\n",
       "   'name': 'Home'},\n",
       "  {'link': 'https://www.currys.co.uk/gbuk/household-appliances-35-u.html',\n",
       "   'name': 'Household Appliances'},\n",
       "  {'link': 'https://www.currys.co.uk/gbuk/household-appliances/laundry-332-c.html',\n",
       "   'name': 'Laundry'},\n",
       "  {'link': 'https://www.currys.co.uk/gbuk/household-appliances/laundry/tumble-dryers/332_3121_30208_xx_xx/xx-criteria.html',\n",
       "   'name': 'Tumble dryers'}],\n",
       " 'flixHotspotPresent': '',\n",
       " 'pageUrl': 'https://www.currys.co.uk/gbuk/household-appliances/laundry/tumble-dryers/samsung-dv80m5010qx-eu-8-kg-heat-pump-tumble-dryer-addwash-ww80k5410ux-8-kg-1400-spin-washing-machine-bundle-10191679-pdt.html',\n",
       " 'category': 'Appliances',\n",
       " 'docId': 125994853427,\n",
       " 'seedUrlHash32': 2470402070,\n",
       " 'parentUrlDocId': 268758377494,\n",
       " 'gburl': 'https://www.currys.co.uk/gbuk/household-appliances/laundry/tumble-dryers/samsung-dv80m5010qx-eu-8-kg-heat-pump-tumble-dryer-addwash-ww80k5410ux-8-kg-1400-spin-washing-machine-bundle-10191679-pdt.html-diffbotxyz1348856309',\n",
       " 'lastCrawlTimeUTC': 1560217799,\n",
       " 'timestamp': 'Tue, 11 Jun 2019 01:49:59 GMT',\n",
       " 'keys': 36}"
      ]
     },
     "execution_count": 26,
     "metadata": {},
     "output_type": "execute_result"
    }
   ],
   "source": [
    "# lets look at one entry of the daw data extracted by the webcrawler\n",
    "data1[0]"
   ]
  },
  {
   "cell_type": "markdown",
   "metadata": {},
   "source": [
    "The retail_file consists of many key-value pairs with each pair being certain section of a webpage such as Product Titles, Brands, Product Specs, etc. I'll demonstrate the data structure in the following the cells."
   ]
  },
  {
   "cell_type": "code",
   "execution_count": 4,
   "metadata": {},
   "outputs": [],
   "source": [
    "# Lets add an extra value that counts the number of of such key-value pairs in each row of data which is data for each url\n",
    "for row in range(len(data1)):\n",
    "    data1[row].update({'keys': len(data1[row].keys())})"
   ]
  },
  {
   "cell_type": "code",
   "execution_count": 5,
   "metadata": {},
   "outputs": [
    {
     "data": {
      "image/png": "[encoded data removed]",
      "text/plain": [
       "<Figure size 720x288 with 1 Axes>"
      ]
     },
     "metadata": {
      "needs_background": "light"
     },
     "output_type": "display_data"
    }
   ],
   "source": [
    "# A histogram plot to visualise the number of key-values per url\n",
    "key_count = []\n",
    "for row in range(len(data1)):\n",
    "    key_count.append(data1[row]['keys'])\n",
    "plt.figure(figsize=(10,4))\n",
    "plt.hist(key_count, bins=20, color='orange')\n",
    "plt.title('key-values present in retail pages')\n",
    "plt.show()"
   ]
  },
  {
   "cell_type": "markdown",
   "metadata": {},
   "source": [
    "We can see there's a very non-uniform spread of the key-value pairs, with a majority falling between 27 to 35."
   ]
  },
  {
   "cell_type": "code",
   "execution_count": 6,
   "metadata": {},
   "outputs": [],
   "source": [
    "# Some useful functions:\n",
    "\n",
    "# get a list of unique column names\n",
    "def get_unique_columns(data):\n",
    "    columns = []\n",
    "    for row in range(len(data)):\n",
    "        for key in data[row].keys():\n",
    "            columns.append(key)\n",
    "    unique_columns = set(columns)\n",
    "    return unique_columns\n",
    "\n",
    "# count urls with a certain column present\n",
    "def count_urls_with_column(column, data):\n",
    "    count = 0\n",
    "    for row in range(len(data)):\n",
    "        if column in data[row].keys():\n",
    "            count += 1\n",
    "    return count\n",
    "\n",
    "# delete a dictinary key from a dataset\n",
    "def delete_key(key, data):\n",
    "    for row in range(len(data)):\n",
    "        if key in data1_subset[row].keys():\n",
    "            del data1_subset[row][key]"
   ]
  },
  {
   "cell_type": "code",
   "execution_count": 7,
   "metadata": {},
   "outputs": [
    {
     "data": {
      "text/plain": [
       "55575"
      ]
     },
     "execution_count": 7,
     "metadata": {},
     "output_type": "execute_result"
    }
   ],
   "source": [
    "# Let's look at the number of rows/urls of the retail data\n",
    "len(data1)"
   ]
  },
  {
   "cell_type": "code",
   "execution_count": 8,
   "metadata": {},
   "outputs": [
    {
     "name": "stdout",
     "output_type": "stream",
     "text": [
      "number of columns: 55\n",
      "{'saveAmount', 'docId', 'images', 'seedUrlHash32', 'parentUrlDocId', 'flixInpagePresent', 'breadcrumb', 'gburl', 'multipleProducts', 'flixHotspotPresent', 'flixMinisiteButton2', 'keys', 'regularPriceDetails', 'humanLanguage', 'regularPrice', 'flixMinisiteButtonA', 'cspecs', 'flixEAN', 'flixLoaderPresent', 'flixMinisiteButton1', 'offerPriceDetails', 'normalizedSpecs', 'specs', 'sku', 'text', 'prefixCode', 'type', 'productId', 'priceRange', 'quantityPrices', 'productOrigin', 'flixMinisiteButton3', 'saveAmountDetails', 'title', 'category', 'offerPrice', 'flixProductID', 'is_boxed', 'resolvedPageUrl', 'diffbotUri', 'mpn', 'pageUrl', 'discussion', 'upc', 'test', 'flixMinisiteButton4', 'flixMinisiteButtonC', 'brand', 'flixMPN', 'flixMinisitePresent', 'timestamp', 'lastCrawlTimeUTC', 'availability', 'isbn', 'flixMinisiteButtonB'}\n"
     ]
    }
   ],
   "source": [
    "# A list of unique keys and the total number of such columns/keys in the data\n",
    "unique_columns = get_unique_columns(data1)\n",
    "print('number of columns: {}'.format(len(get_unique_columns(data1))))\n",
    "print(unique_columns)"
   ]
  },
  {
   "cell_type": "code",
   "execution_count": 9,
   "metadata": {
    "scrolled": false
   },
   "outputs": [
    {
     "data": {
      "image/png": "[encoded data removed]",
      "text/plain": [
       "<Figure size 1080x360 with 1 Axes>"
      ]
     },
     "metadata": {
      "needs_background": "light"
     },
     "output_type": "display_data"
    }
   ],
   "source": [
    "# Lets look at the number of data present in each column\n",
    "columns={}\n",
    "for key in unique_columns:\n",
    "    columns[key] = count_urls_with_column(key, data1)\n",
    "    \n",
    "# plot the column data count in descending order\n",
    "column_count = Counter(columns)\n",
    "column_count_sorted_tuple = sorted(column_count.items(), key=lambda kv:kv[1], reverse=True) \n",
    "column_count_sorted = collections.OrderedDict(column_count_sorted_tuple)\n",
    "\n",
    "plt.figure(figsize=(15,5))\n",
    "plt.bar(column_count_sorted.keys(), column_count_sorted.values(), color='purple')\n",
    "plt.xticks(rotation=90)\n",
    "plt.title('number of retail pages with key-values ')\n",
    "plt.show()"
   ]
  },
  {
   "cell_type": "markdown",
   "metadata": {},
   "source": [
    "We can see there are few columns which are present in almost every url and few that are rarely there. Because of my domain knowledge, I know which columns are useful and which are not. In the following steps, I'll clean the data and keep only the columns which will be useful for this project"
   ]
  },
  {
   "cell_type": "code",
   "execution_count": 10,
   "metadata": {},
   "outputs": [
    {
     "name": "stdout",
     "output_type": "stream",
     "text": [
      "['cspecs', 'flixEAN', 'specs', 'sku', 'text', 'productId', 'title', 'category', 'mpn', 'pageUrl', 'upc', 'brand', 'flixMPN']\n"
     ]
    }
   ],
   "source": [
    "# list of bad columns - to be ignored\n",
    "bad_columns = ['flixMinisiteButtonA','saveAmountDetails','flixMinisiteButton2','prefixCode','offerPrice','priceRange', \n",
    "               'parentUrlDocId','docId','humanLanguage','flixHotspotPresent', 'flixLoaderPresent','keys','regularPriceDetails',\n",
    "               'flixMinisiteButtonB','flixMinisitePresent','images','flixInpagePresent','lastCrawlTimeUTC','is_boxed',\n",
    "               'productOrigin','flixMinisiteButton4','flixMinisiteButton3','saveAmount','flixProductID','discussion',\n",
    "               'flixMinisiteButtonC','diffbotUri','availability','type','resolvedPageUrl','seedUrlHash32','regularPriceDetails',\n",
    "               'timestamp','flixMinisiteButton1','gburl','isbn','quantityPrices','multipleProducts','test','normalizedSpecs', \n",
    "              'offerPriceDetails','breadcrumb','regularPrice']\n",
    "\n",
    "# list of columns to be used \n",
    "print([x for x in unique_columns if x not in bad_columns])"
   ]
  },
  {
   "cell_type": "code",
   "execution_count": 11,
   "metadata": {},
   "outputs": [],
   "source": [
    "# Lets subset data with without the bad columns\n",
    "data1_subset = []\n",
    "temp = []\n",
    "for row in range(len(data1)):\n",
    "    temp = dict((key,data1[row][key]) for key in data1[row].keys() if key not in bad_columns)\n",
    "    data1_subset.append(temp)"
   ]
  },
  {
   "cell_type": "code",
   "execution_count": 12,
   "metadata": {},
   "outputs": [
    {
     "data": {
      "text/plain": [
       "(55575, 43075)"
      ]
     },
     "execution_count": 12,
     "metadata": {},
     "output_type": "execute_result"
    }
   ],
   "source": [
    "# Just to have an idea, lets look at the number of times a few columns appear in the new data-set\n",
    "count_urls_with_column('pageUrl', data1_subset), count_urls_with_column('text', data1_subset)"
   ]
  },
  {
   "cell_type": "code",
   "execution_count": 13,
   "metadata": {
    "scrolled": false
   },
   "outputs": [
    {
     "data": {
      "text/plain": [
       "{'title': 'SanDisk SDCZ50-032G-FFP Cruzer Blade 32GB USB 2.0 Flash Drive for Mac and PC',\n",
       " 'specs': {'storage_capacity': '32GB',\n",
       "  'format': 'USB Flash Drive',\n",
       "  'mpn': 'SDCZ50-032G-FFP',\n",
       "  'type': 'USB Flash Drives',\n",
       "  'interface': 'USB',\n",
       "  'features': '32GB Storage, USB 2.0, Flash Drive',\n",
       "  'condition': 'New',\n",
       "  'colour': 'Black/Red',\n",
       "  'ean': '619659069193',\n",
       "  'series': 'USB Flash Drive',\n",
       "  'usb_specification': 'USB 2.0',\n",
       "  'warranty': '2 Years (Manufacturer)',\n",
       "  'model': 'Cruzer Blade',\n",
       "  'sku': 'SANDISK-008',\n",
       "  'brand': 'SanDisk'},\n",
       " 'flixEAN': '619659069193',\n",
       " 'text': \"Enjoy Ample Capacities and Maximum Portability\\nWith its stylish, compact design and generous capacity, the Cruzer Blade USB Flash Drive makes it easy to back up, transfer, and share your files. Available in capacities of 32GB. This USB drive lets you carry your photos, movies, music, and personal data wherever you go.\\nCompact Design for Maximum Portability\\nThe Cruzer Blade USB Flash Drive features a compact design that fits easily into a pocket or computer bag. This USB drive has a sleek black and red design that coordinates with many electronic devices.\\nHigh-Capacity Drive Accommodates your Favorite Media Files\\nDesigned by SanDisk, a leader in flash memory innovation, the Cruzer Blade USB Flash Drive packs generous capacity into a compact form. Available in sizes of 32GB. This USB drive can hold all your must-have files.\\nSimple Drag-and-Drop File Backup\\nTransferring data onto the Cruzer Blade USB Flash Drive is easy: simply plug it into your computer's USB port and drag files into the drive's folder. After a fast, first-time driver download, this USB drive lets you start storing, transporting, and sharing your data immediately.\",\n",
       " 'sku': 'SDCZ50-032G-FFP',\n",
       " 'brand': 'SanDisk',\n",
       " 'productId': 'SDCZ50-032G-FFP',\n",
       " 'mpn': 'SDCZ50-032G-FFP',\n",
       " 'flixMPN': 'SDCZ50-032G-FFP',\n",
       " 'pageUrl': 'https://digitaloutlet.co.uk/sandisk-sdcz50-032g-ffp-cruzer-blade-32gb-usb-2-0-flash-drive-for-mac-and-pc',\n",
       " 'category': 'Computers'}"
      ]
     },
     "execution_count": 13,
     "metadata": {},
     "output_type": "execute_result"
    }
   ],
   "source": [
    "# Lets randomly look at one of the rows of the data to see the data structure\n",
    "data1_subset[10095]"
   ]
  },
  {
   "cell_type": "markdown",
   "metadata": {},
   "source": [
    "As we can see from above some of key-values in the data are in a nested json format, e.g. the 'specs' and 'cspecs'. So I'll reverse the nested json key-values and form a dictionary with just one level of key-value pair in the following cells."
   ]
  },
  {
   "cell_type": "markdown",
   "metadata": {},
   "source": [
    "Next I will convert each 'specs' and 'cspecs' section to one list of strings, adding a new line between each of the nested key-value pairs. Then I'll delete them, keeping the newly cleaned 'clean_specs' and 'clean_specs' instead. I will also re-order the structure of the data so that more important columns appear higher up in the data."
   ]
  },
  {
   "cell_type": "code",
   "execution_count": 20,
   "metadata": {
    "scrolled": true
   },
   "outputs": [],
   "source": [
    "# textify cspecs and add a new column clean_cspecs where the cleaned data is stored\n",
    "for row in range(len(data1_subset)):\n",
    "    if 'cspecs' in data1_subset[row].keys():\n",
    "        cspecs = []\n",
    "        for i in range(len(data1_subset[row]['cspecs'][0]['features'])):\n",
    "            keys = []\n",
    "            for key,value in data1_subset[row]['cspecs'][0]['features'][i].items():\n",
    "                # remove new line \\n\n",
    "                value = value.splitlines() \n",
    "                # convert list to string\n",
    "                value = \" \".join(value).strip('-')   #.replace('-','') cam be used to replace hyphens if needed \n",
    "                keys.append(value)\n",
    "            # convert list to a string and add a new line\n",
    "            text = \" \".join(keys) + '\\n'\n",
    "            cspecs.append(text)\n",
    "        cspecs = \" \".join(cspecs)\n",
    "        data1_subset[row].update({'clean_cspecs': cspecs})\n",
    "        \n",
    "# textify specs and add a new column clean_specs where the cleaned data is stored\n",
    "for row in range(len(data1_subset)):\n",
    "    if 'specs' in data1_subset[row].keys():\n",
    "        specs = []\n",
    "        for key,value in data1_subset[row]['specs'].items():\n",
    "            temp = (key,value)\n",
    "            temp = \" \".join(temp) + '\\n'\n",
    "            specs.append(temp)\n",
    "        specs = \" \".join(specs)\n",
    "        data1_subset[row].update({'clean_specs': specs})"
   ]
  },
  {
   "cell_type": "code",
   "execution_count": 18,
   "metadata": {},
   "outputs": [
    {
     "data": {
      "text/plain": [
       "'32GB'"
      ]
     },
     "execution_count": 18,
     "metadata": {},
     "output_type": "execute_result"
    }
   ],
   "source": [
    "# I can navigate the nested structure like this to access the final values\n",
    "data1_subset[10095]['specs']['storage_capacity']"
   ]
  },
  {
   "cell_type": "code",
   "execution_count": 25,
   "metadata": {
    "scrolled": false
   },
   "outputs": [
    {
     "data": {
      "text/plain": [
       "'drying_performance_class A\\n glass_care_40 Yes\\n intensive_70 Yes\\n type Compact Dishwasher\\n normal_65 Yes\\n eco_55 Yes\\n anti_flood_device Floating Switch\\n noise_level_db 50\\n wash_performance_class A\\n model FSE21200P\\n party_programme_20_minutes Yes\\n brand AEG\\n quick_plus_50 Yes\\n temperature_settings 4\\n delay_start Yes\\n depth_mm 500\\n energy_efficiency_class A+\\n annual_energy_consumption_kwh 174\\n programmes 6\\n time_remaining_indiator Yes\\n place_settings 6\\n width_mm 550\\n salt_aid_indicator Yes\\n colour Black Control Panel\\n rinse_aid_indicator Yes\\n annual_water_consumption_litres 1820\\n height_mm 438\\n'"
      ]
     },
     "execution_count": 25,
     "metadata": {},
     "output_type": "execute_result"
    }
   ],
   "source": [
    "# Lets look at the 'specs' of the same url above\n",
    "data1_subset[10055]['clean_specs']"
   ]
  },
  {
   "cell_type": "code",
   "execution_count": 21,
   "metadata": {},
   "outputs": [
    {
     "name": "stdout",
     "output_type": "stream",
     "text": [
      "remaining columns: \n",
      "{'productId', 'brand', 'flixMPN', 'text', 'upc', 'mpn', 'clean_specs', 'title', 'flixEAN', 'category', 'clean_cspecs', 'pageUrl', 'sku'}\n"
     ]
    }
   ],
   "source": [
    "# lets remove the specs and cspecs columns from the data\n",
    "delete_key('specs',data1_subset)\n",
    "delete_key('cspecs',data1_subset)\n",
    "print('remaining columns: \\n{}'.format(get_unique_columns(data1_subset)))"
   ]
  },
  {
   "cell_type": "code",
   "execution_count": 22,
   "metadata": {},
   "outputs": [],
   "source": [
    "# reorder the data in the follwing order of the columns\n",
    "desired_order_keys = ['title','pageUrl','category','brand','mpn','flixEAN','sku','flixMPN','upc','productId','clean_specs',\n",
    "                     'clean_cspecs','text']\n",
    "data1_subset_new = []\n",
    "for row in range(len(data1_subset)):\n",
    "    my_ordered_dict = collections.OrderedDict(data1_subset[row])\n",
    "    for key in desired_order_keys:\n",
    "        try:\n",
    "            my_ordered_dict[key] = my_ordered_dict.pop(key)\n",
    "        except KeyError: \n",
    "            pass    \n",
    "    data1_subset_new.append(my_ordered_dict) "
   ]
  },
  {
   "cell_type": "markdown",
   "metadata": {},
   "source": [
    "Finally we have a clean data structure in a dictionary format with just one level of key-value pairs. Lets visualise how the same url data will look now."
   ]
  },
  {
   "cell_type": "code",
   "execution_count": 19,
   "metadata": {
    "scrolled": false
   },
   "outputs": [
    {
     "name": "stdout",
     "output_type": "stream",
     "text": [
      "title : SAMSUNG DV80M5010QX/EU 8 kg Heat Pump Tumble Dryer - Graphite + ecobubble WW80J5555FX/EU 8 kg 1400 Spin Washing Machine - Graphite\n",
      "pageUrl : https://www.currys.co.uk/gbuk/household-appliances/laundry/tumble-dryers/samsung-dv80m5010qx-eu-8-kg-heat-pump-tumble-dryer-graphite-ecobubble-ww80j5555fx-eu-8-kg-1400-spin-washing-machine-graphite-b0444083-pdt.html\n",
      "category : Appliances\n",
      "brand : SAMSUNG\n",
      "flixEAN : \n",
      "sku : B0444083\n",
      "flixMPN : B0444083\n",
      "productId : B0444083\n",
      "clean_specs : fluff_filter Yes\n",
      " energy_consumption_per_cycle 235 kWh\n",
      " one-year_manufacturers_guarantee One-year manufacturer’s guarantee\n",
      " delay_timer Yes, 24 hours\n",
      " type Freestanding tumble dryer\n",
      " drying_capacity 8 kg\n",
      " number_of_minutes_on_timer 150 minutes\n",
      " manufacturers_guarantee 2 years\n",
      " capacity 9 kg\n",
      " recess_dimensions 900 x 650 x 690 mm (H x W x D)\n",
      " capacity_9_kg Capacity: 7 kg\n",
      " boxed_dimensions 884 x 666 x 695 mm (H x W x D)\n",
      " spin_speed 1400 rpm\n",
      " installation Please note this product should be installed by a qualified engineer, such as one of our Knowhow experts.\n",
      " number_of_drying_temperatures 3\n",
      " drying_time_for_a_cotton_cycle - Full load: 170 minutes - Half load: 125 minutes\n",
      " energy_efficiency_class A++\n",
      " condensation_efficiency_class B\n",
      " stacking_option Yes\n",
      " boxed_weight 52 kg\n",
      " power_consumption - Standby mode: 5 kWh - Off mode: 0.5 kWh\n",
      " display LED screen\n",
      " weight 50 kg\n",
      " loading - Front loading - 125° opening\n",
      " special_cycles - Bedding - Cool air - Cotton - Delicates - Iron dry - Mixed load - Outdoor care - Synthetics - Time dry - Towel - Quick dry 35 - Warm dry - Wool\n",
      " energy_rating_a Energy rating: A++\n",
      " quick_wash_time 15 minutes\n",
      " quick_wash_time_30_minutes Quick wash time: 30 minutes\n",
      " sensor_control_automatic_non-automatic Yes\n",
      " colour Graphite\n",
      " matching_washing_machine_model_number WW80K5410UX/EU\n",
      " noise_level 65 dB(A)\n",
      " other_features - 2-in-1 Filter - Pause Function - Reverse Tumble\n",
      " number_of_programs 14\n",
      " spin_speed_1400_rpm Spin speed: 1400 rpm\n",
      " drying_type Heat pump\n",
      " dimensions - 850 x 600 x 640 mm (H x W x D) - 33 x 24 x 25 inches (H x W x D)\n",
      "\n",
      "clean_cspecs : Type Freestanding tumble dryer\n",
      " Colour Graphite\n",
      " Manufacturer’s guarantee 2 years\n",
      " Drying capacity 8 kg\n",
      " Drying type Heat pump\n",
      " Energy efficiency class A++\n",
      " Sensor control (automatic / non-automatic Yes\n",
      " Energy consumption per cycle 235 kWh\n",
      " Power consumption  Standby mode: 5 kWh  - Off mode: 0.5 kWh\n",
      " Drying time for a cotton cycle  Full load: 170 minutes  - Half load: 125 minutes\n",
      " Condensation efficiency class B\n",
      " Noise level 65 dB(A)\n",
      " Number of minutes on timer 150 minutes\n",
      " Number of drying temperatures 3\n",
      " Number of programs 14\n",
      " Special cycles  Bedding  - Cool air  - Cotton  - Delicates  - Iron dry  - Mixed load  - Outdoor care  - Synthetics  - Time dry  - Towel  - Quick dry 35  - Warm dry  - Wool\n",
      " Drying time for a cotton cycle  Full load: 170 minutes  - Half load: 125 minutes\n",
      " Loading  Front loading  - 125° opening\n",
      " Fluff filter Yes\n",
      " Other features  2-in-1 Filter  - Pause Function  - Reverse Tumble\n",
      " Smartphone app Samsung Smart Home\n",
      " Compatible platforms  Android  - iOS\n",
      " Smart functions  Smart Check  - Pause Cycle  - Delay End  - Optimal Dry  - Mixed Load Bell\n",
      " Display LED screen\n",
      " Delay timer Yes, 24 hours\n",
      " Installation Please note this product should be installed by a qualified engineer, such as one of our Knowhow experts.\n",
      " Dimensions  850 x 600 x 640 mm (H x W x D)  - 33 x 24 x 25 inches (H x W x D)\n",
      " Recess dimensions 900 x 650 x 690 mm (H x W x D)\n",
      " Boxed dimensions 884 x 666 x 695 mm (H x W x D)\n",
      " Weight 50 kg\n",
      " Boxed weight 52 kg\n",
      " Matching washing machine model number WW80K5410UX/EU\n",
      " Stacking option Yes\n",
      "\n",
      "text : Top features:\n",
      "- Dry your clothes more efficiently with heat pump technology\n",
      "- Optimal Dry sensors adjust drying time for better results\n",
      "- Choose from three drying levels to suit your needs\n",
      "- Dry small loads faster in just 35 minutes\n",
      "- Minimise creases with an Anti-Crease\n",
      "- Diagonose faults in seconds with the Samsung Smart Home app\n",
      "Dry your clothes more efficiently\n",
      "Dry your clothes and reduce your carbon footprint with the Samsung DV80M5010QX/EU 8 kg Heat Pump Tumble Dryer. It uses heat pump technology – a more cost-effective way of drying clothes by using hot air to absorb moisture from them.\n",
      "By using a lower temperature than conventional dryers to dry your garments, it offers them better protection. This means your clothes will look newer for longer.\n",
      "Optimal Dry sensors\n",
      "Another way the dryer protects your clothes is by using automatic sensors. These adjust the temperature and drying time for the best result, all while helping to lower your energy consumption.\n",
      "Choose from three drying levels\n",
      "Select one of three drying levels. Have your clothes perfectly dry ready to wear straightaway, or slightly humid to make ironing easier.\n",
      "Dry small loads faster\n",
      "Dry a small 1 kg load of clothes in 35 minutes with a Quick Dry 35 programme.\n",
      "Minimise creases\n",
      "An Anti-Crease function during the drying process makes ironing easier, and Air Wash deodorises and refreshes clothes so that they smell fresh.\n",
      "Diagonse faults in seconds\n",
      "This machine features Samsung Smart Check, which lets you instantly diagnose issues using the Samsung Smart Home app for Android or iOS handsets.\n",
      "Once Smart Check is activated, simply run the smartphone app and focus its camera on the Smart Check code on the machine. Your phone will recognise the code, and provide detailed information on the status of your appliance and how to solve any problem. It saves you the hassle and cost of calling out an engineer.\n"
     ]
    }
   ],
   "source": [
    "for keys, values in data1_subset_new[195].items():\n",
    "    print(keys,':',values)"
   ]
  },
  {
   "cell_type": "markdown",
   "metadata": {},
   "source": [
    "Now the cleaned file is saved as 'retail_hit_json.txt'. I cannot save the file I've worked so far as it'll overwrite my already preprocessed file which has 77536 url data. We can open that file below and verify the length is 77,536 not 55,575 as the one we've cleaned in this notebook."
   ]
  },
  {
   "cell_type": "code",
   "execution_count": 20,
   "metadata": {},
   "outputs": [
    {
     "data": {
      "text/plain": [
       "77536"
      ]
     },
     "execution_count": 20,
     "metadata": {},
     "output_type": "execute_result"
    }
   ],
   "source": [
    "# open the text data as a json object'\n",
    "with open(os.path.join(file_dir, 'retail_hit_json.txt')) as json_file:  \n",
    "    retail_hit = json.load(json_file)\n",
    "json_file.close()\n",
    "len(retail_hit)"
   ]
  }
 ],
 "metadata": {
  "kernelspec": {
   "display_name": "Python 3",
   "language": "python",
   "name": "python3"
  },
  "language_info": {
   "codemirror_mode": {
    "name": "ipython",
    "version": 3
   },
   "file_extension": ".py",
   "mimetype": "text/x-python",
   "name": "python",
   "nbconvert_exporter": "python",
   "pygments_lexer": "ipython3",
   "version": "3.6.9"
  }
 },
 "nbformat": 4,
 "nbformat_minor": 2
}
